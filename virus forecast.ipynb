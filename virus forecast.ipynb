{
 "cells": [
  {
   "cell_type": "code",
   "execution_count": 29,
   "metadata": {},
   "outputs": [
    {
     "data": {
      "text/plain": [
       "['import keras',\n",
       " 'from sklearn.model_selection import train_test_split',\n",
       " 'import numpy as np',\n",
       " 'from sklearn.linear_model import LassoCV',\n",
       " 'from sklearn.cluster import KMeans',\n",
       " 'import tensorflow as tf',\n",
       " 'import dash',\n",
       " 'import gensim',\n",
       " 'from pathlib import Path',\n",
       " 'import fbprophet',\n",
       " 'import bokeh',\n",
       " 'import matplotlib as mpl',\n",
       " 'from openpyxl import load_workbook',\n",
       " 'import sklearn',\n",
       " 'from sklearn.linear_model import ElasticNetCV',\n",
       " 'from sklearn.model_selection import GridSearchCV',\n",
       " 'from sklearn.ensemble import RandomForestRegressor',\n",
       " 'from sklearn.preprocessing import MinMaxScaler',\n",
       " 'import lightgbm as lgb',\n",
       " 'import awswrangler as wr',\n",
       " 'from statsmodels.tsa.arima_model import ARIMA',\n",
       " 'from sklearn.ensemble import GradientBoostingClassifier',\n",
       " 'import cv2',\n",
       " 'import plotly.express as px',\n",
       " 'import pickle',\n",
       " 'import textblob',\n",
       " 'from sklearn.linear_model import Lasso',\n",
       " 'from pyspark import SparkContext',\n",
       " 'import re',\n",
       " 'from sklearn.linear_model import ElasticNet',\n",
       " 'import statsmodels.api as sm',\n",
       " 'from scipy import signal as sg',\n",
       " 'from sklearn.model_selection import cross_val_score',\n",
       " 'from xlrd import open_workbook',\n",
       " 'from sklearn.linear_model import Ridge',\n",
       " 'from sklearn.impute import SimpleImputer',\n",
       " 'import pydot',\n",
       " 'import imutils',\n",
       " 'import datetime as dt',\n",
       " 'from sklearn.ensemble import RandomForestClassifier',\n",
       " 'import nltk',\n",
       " 'from sklearn.model_selection import KFold',\n",
       " 'from PIL import Image',\n",
       " 'from sklearn.linear_model import LogisticRegression',\n",
       " 'import fastai',\n",
       " 'import spacy',\n",
       " 'from dask import dataframe as dd',\n",
       " 'from sklearn.preprocessing import StandardScaler',\n",
       " 'from sklearn.ensemble import GradientBoostingRegressor',\n",
       " 'from sklearn.decomposition import PCA',\n",
       " 'from sklearn.linear_model import RidgeCV',\n",
       " 'import glob',\n",
       " 'import os',\n",
       " 'from sklearn.preprocessing import OneHotEncoder',\n",
       " 'from sklearn import svm',\n",
       " 'from sklearn.manifold import TSNE',\n",
       " 'from scipy import stats',\n",
       " 'import skimage',\n",
       " 'from sklearn.model_selection import RandomizedSearchCV',\n",
       " 'import plotly as py',\n",
       " 'import statistics',\n",
       " 'import xgboost as xgb',\n",
       " 'from sklearn import metrics',\n",
       " 'import sys',\n",
       " 'import altair as alt',\n",
       " 'from sklearn.model_selection import StratifiedKFold',\n",
       " 'from sklearn.preprocessing import RobustScaler',\n",
       " 'from sklearn.preprocessing import LabelEncoder',\n",
       " 'from sklearn.feature_extraction.text import TfidfVectorizer',\n",
       " 'import tqdm',\n",
       " 'from fbprophet import Prophet',\n",
       " 'from sklearn.feature_extraction.text import CountVectorizer',\n",
       " 'import plotly.graph_objs as go',\n",
       " 'from sklearn.linear_model import LinearRegression',\n",
       " 'from sklearn.preprocessing import PolynomialFeatures',\n",
       " 'import torch']"
      ]
     },
     "execution_count": 29,
     "metadata": {},
     "output_type": "execute_result"
    }
   ],
   "source": [
    "from pyforest import *\n",
    "import warnings\n",
    "from statsmodels.tsa.statespace.sarimax import SARIMAX\n",
    "from statsmodels.tsa.seasonal import seasonal_decompose\n",
    "warnings.filterwarnings('ignore')\n",
    "lazy_imports()"
   ]
  },
  {
   "cell_type": "code",
   "execution_count": 30,
   "metadata": {},
   "outputs": [
    {
     "data": {
      "application/javascript": [
       "\n",
       "        if (window._pyforest_update_imports_cell) { window._pyforest_update_imports_cell('import seaborn as sns\\nimport pandas as pd\\nimport matplotlib.pyplot as plt'); }\n",
       "    "
      ],
      "text/plain": [
       "<IPython.core.display.Javascript object>"
      ]
     },
     "metadata": {},
     "output_type": "display_data"
    },
    {
     "data": {
      "text/html": [
       "<div>\n",
       "<style scoped>\n",
       "    .dataframe tbody tr th:only-of-type {\n",
       "        vertical-align: middle;\n",
       "    }\n",
       "\n",
       "    .dataframe tbody tr th {\n",
       "        vertical-align: top;\n",
       "    }\n",
       "\n",
       "    .dataframe thead th {\n",
       "        text-align: right;\n",
       "    }\n",
       "</style>\n",
       "<table border=\"1\" class=\"dataframe\">\n",
       "  <thead>\n",
       "    <tr style=\"text-align: right;\">\n",
       "      <th></th>\n",
       "      <th>date</th>\n",
       "      <th>county_fips</th>\n",
       "      <th>county_name</th>\n",
       "      <th>state_fips</th>\n",
       "      <th>state_name</th>\n",
       "      <th>covid_19_confirmed_cases</th>\n",
       "      <th>covid_19_deaths</th>\n",
       "      <th>social_distancing_total_grade</th>\n",
       "      <th>social_distancing_visitation_grade</th>\n",
       "      <th>social_distancing_encounters_grade</th>\n",
       "      <th>...</th>\n",
       "      <th>age_55_59</th>\n",
       "      <th>age_60_64</th>\n",
       "      <th>age_65_69</th>\n",
       "      <th>age_70_74</th>\n",
       "      <th>age_75_79</th>\n",
       "      <th>age_80_84</th>\n",
       "      <th>age_85_or_higher</th>\n",
       "      <th>immigrant_student_ratio</th>\n",
       "      <th>death_ratio</th>\n",
       "      <th>population_ratio_in_state</th>\n",
       "    </tr>\n",
       "  </thead>\n",
       "  <tbody>\n",
       "    <tr>\n",
       "      <th>0</th>\n",
       "      <td>2020/01/22</td>\n",
       "      <td>1003</td>\n",
       "      <td>Baldwin County</td>\n",
       "      <td>1</td>\n",
       "      <td>Alabama</td>\n",
       "      <td>0.0</td>\n",
       "      <td>0.0</td>\n",
       "      <td>F</td>\n",
       "      <td>F</td>\n",
       "      <td>F</td>\n",
       "      <td>...</td>\n",
       "      <td>7</td>\n",
       "      <td>7</td>\n",
       "      <td>6</td>\n",
       "      <td>4</td>\n",
       "      <td>3</td>\n",
       "      <td>2</td>\n",
       "      <td>2</td>\n",
       "      <td>0.021048</td>\n",
       "      <td>0.010811</td>\n",
       "      <td>4.46047</td>\n",
       "    </tr>\n",
       "    <tr>\n",
       "      <th>1</th>\n",
       "      <td>2020/01/23</td>\n",
       "      <td>1003</td>\n",
       "      <td>Baldwin County</td>\n",
       "      <td>1</td>\n",
       "      <td>Alabama</td>\n",
       "      <td>0.0</td>\n",
       "      <td>0.0</td>\n",
       "      <td>F</td>\n",
       "      <td>F</td>\n",
       "      <td>F</td>\n",
       "      <td>...</td>\n",
       "      <td>7</td>\n",
       "      <td>7</td>\n",
       "      <td>6</td>\n",
       "      <td>4</td>\n",
       "      <td>3</td>\n",
       "      <td>2</td>\n",
       "      <td>2</td>\n",
       "      <td>0.021048</td>\n",
       "      <td>0.010811</td>\n",
       "      <td>4.46047</td>\n",
       "    </tr>\n",
       "    <tr>\n",
       "      <th>2</th>\n",
       "      <td>2020/01/24</td>\n",
       "      <td>1003</td>\n",
       "      <td>Baldwin County</td>\n",
       "      <td>1</td>\n",
       "      <td>Alabama</td>\n",
       "      <td>0.0</td>\n",
       "      <td>0.0</td>\n",
       "      <td>F</td>\n",
       "      <td>F</td>\n",
       "      <td>F</td>\n",
       "      <td>...</td>\n",
       "      <td>7</td>\n",
       "      <td>7</td>\n",
       "      <td>6</td>\n",
       "      <td>4</td>\n",
       "      <td>3</td>\n",
       "      <td>2</td>\n",
       "      <td>2</td>\n",
       "      <td>0.021048</td>\n",
       "      <td>0.010811</td>\n",
       "      <td>4.46047</td>\n",
       "    </tr>\n",
       "    <tr>\n",
       "      <th>3</th>\n",
       "      <td>2020/01/25</td>\n",
       "      <td>1003</td>\n",
       "      <td>Baldwin County</td>\n",
       "      <td>1</td>\n",
       "      <td>Alabama</td>\n",
       "      <td>0.0</td>\n",
       "      <td>0.0</td>\n",
       "      <td>F</td>\n",
       "      <td>F</td>\n",
       "      <td>F</td>\n",
       "      <td>...</td>\n",
       "      <td>7</td>\n",
       "      <td>7</td>\n",
       "      <td>6</td>\n",
       "      <td>4</td>\n",
       "      <td>3</td>\n",
       "      <td>2</td>\n",
       "      <td>2</td>\n",
       "      <td>0.021048</td>\n",
       "      <td>0.010811</td>\n",
       "      <td>4.46047</td>\n",
       "    </tr>\n",
       "    <tr>\n",
       "      <th>4</th>\n",
       "      <td>2020/01/26</td>\n",
       "      <td>1003</td>\n",
       "      <td>Baldwin County</td>\n",
       "      <td>1</td>\n",
       "      <td>Alabama</td>\n",
       "      <td>0.0</td>\n",
       "      <td>0.0</td>\n",
       "      <td>F</td>\n",
       "      <td>F</td>\n",
       "      <td>F</td>\n",
       "      <td>...</td>\n",
       "      <td>7</td>\n",
       "      <td>7</td>\n",
       "      <td>6</td>\n",
       "      <td>4</td>\n",
       "      <td>3</td>\n",
       "      <td>2</td>\n",
       "      <td>2</td>\n",
       "      <td>0.021048</td>\n",
       "      <td>0.010811</td>\n",
       "      <td>4.46047</td>\n",
       "    </tr>\n",
       "  </tbody>\n",
       "</table>\n",
       "<p>5 rows × 64 columns</p>\n",
       "</div>"
      ],
      "text/plain": [
       "         date  county_fips     county_name  state_fips state_name  \\\n",
       "0  2020/01/22         1003  Baldwin County           1    Alabama   \n",
       "1  2020/01/23         1003  Baldwin County           1    Alabama   \n",
       "2  2020/01/24         1003  Baldwin County           1    Alabama   \n",
       "3  2020/01/25         1003  Baldwin County           1    Alabama   \n",
       "4  2020/01/26         1003  Baldwin County           1    Alabama   \n",
       "\n",
       "   covid_19_confirmed_cases  covid_19_deaths social_distancing_total_grade  \\\n",
       "0                       0.0              0.0                             F   \n",
       "1                       0.0              0.0                             F   \n",
       "2                       0.0              0.0                             F   \n",
       "3                       0.0              0.0                             F   \n",
       "4                       0.0              0.0                             F   \n",
       "\n",
       "  social_distancing_visitation_grade social_distancing_encounters_grade  ...  \\\n",
       "0                                  F                                  F  ...   \n",
       "1                                  F                                  F  ...   \n",
       "2                                  F                                  F  ...   \n",
       "3                                  F                                  F  ...   \n",
       "4                                  F                                  F  ...   \n",
       "\n",
       "  age_55_59  age_60_64  age_65_69  age_70_74  age_75_79  age_80_84  \\\n",
       "0         7          7          6          4          3          2   \n",
       "1         7          7          6          4          3          2   \n",
       "2         7          7          6          4          3          2   \n",
       "3         7          7          6          4          3          2   \n",
       "4         7          7          6          4          3          2   \n",
       "\n",
       "   age_85_or_higher  immigrant_student_ratio  death_ratio  \\\n",
       "0                 2                 0.021048     0.010811   \n",
       "1                 2                 0.021048     0.010811   \n",
       "2                 2                 0.021048     0.010811   \n",
       "3                 2                 0.021048     0.010811   \n",
       "4                 2                 0.021048     0.010811   \n",
       "\n",
       "   population_ratio_in_state  \n",
       "0                    4.46047  \n",
       "1                    4.46047  \n",
       "2                    4.46047  \n",
       "3                    4.46047  \n",
       "4                    4.46047  \n",
       "\n",
       "[5 rows x 64 columns]"
      ]
     },
     "execution_count": 30,
     "metadata": {},
     "output_type": "execute_result"
    }
   ],
   "source": [
    "# read dataset\n",
    "df_covid = pd.read_csv('dataset/imputed-data.csv',header = 0)\n",
    "df_covid.head()"
   ]
  },
  {
   "cell_type": "code",
   "execution_count": 31,
   "metadata": {},
   "outputs": [
    {
     "data": {
      "application/javascript": [
       "\n",
       "        if (window._pyforest_update_imports_cell) { window._pyforest_update_imports_cell('import seaborn as sns\\nimport pandas as pd\\nimport matplotlib.pyplot as plt'); }\n",
       "    "
      ],
      "text/plain": [
       "<IPython.core.display.Javascript object>"
      ]
     },
     "metadata": {},
     "output_type": "display_data"
    },
    {
     "data": {
      "text/plain": [
       "0   2020-01-22\n",
       "1   2020-01-23\n",
       "2   2020-01-24\n",
       "3   2020-01-25\n",
       "4   2020-01-26\n",
       "Name: date, dtype: datetime64[ns]"
      ]
     },
     "execution_count": 31,
     "metadata": {},
     "output_type": "execute_result"
    }
   ],
   "source": [
    "# date as date format\n",
    "df_covid['date'] = pd.to_datetime(df_covid['date'])\n",
    "df_covid['date'].head()"
   ]
  },
  {
   "cell_type": "code",
   "execution_count": 32,
   "metadata": {},
   "outputs": [
    {
     "data": {
      "application/javascript": [
       "\n",
       "        if (window._pyforest_update_imports_cell) { window._pyforest_update_imports_cell('import seaborn as sns\\nimport pandas as pd\\nimport matplotlib.pyplot as plt'); }\n",
       "    "
      ],
      "text/plain": [
       "<IPython.core.display.Javascript object>"
      ]
     },
     "metadata": {},
     "output_type": "display_data"
    },
    {
     "data": {
      "application/javascript": [
       "\n",
       "        if (window._pyforest_update_imports_cell) { window._pyforest_update_imports_cell('import seaborn as sns\\nimport pandas as pd\\nimport matplotlib.pyplot as plt'); }\n",
       "    "
      ],
      "text/plain": [
       "<IPython.core.display.Javascript object>"
      ]
     },
     "metadata": {},
     "output_type": "display_data"
    },
    {
     "data": {
      "application/javascript": [
       "\n",
       "        if (window._pyforest_update_imports_cell) { window._pyforest_update_imports_cell('import seaborn as sns\\nimport pandas as pd\\nimport matplotlib.pyplot as plt'); }\n",
       "    "
      ],
      "text/plain": [
       "<IPython.core.display.Javascript object>"
      ]
     },
     "metadata": {},
     "output_type": "display_data"
    },
    {
     "data": {
      "text/plain": [
       "<AxesSubplot:xlabel='date', ylabel='covid_19_confirmed_cases'>"
      ]
     },
     "execution_count": 32,
     "metadata": {},
     "output_type": "execute_result"
    },
    {
     "data": {
      "image/png": "[encoded data removed]",
      "text/plain": [
       "<Figure size 864x432 with 1 Axes>"
      ]
     },
     "metadata": {
      "needs_background": "light"
     },
     "output_type": "display_data"
    }
   ],
   "source": [
    "plt.figure(figsize = (12,6))\n",
    "sns.lineplot(x = 'date', y = 'covid_19_confirmed_cases', data = df_covid)\n",
    "sns.lineplot(x = 'date', y = 'temperature', data = df_covid)"
   ]
  },
  {
   "cell_type": "code",
   "execution_count": 33,
   "metadata": {},
   "outputs": [
    {
     "data": {
      "text/plain": [
       "['California',\n",
       " 'Texas',\n",
       " 'Florida',\n",
       " 'New York',\n",
       " 'Pennsylvania',\n",
       " 'Illinois',\n",
       " 'North Carolina',\n",
       " 'Ohio',\n",
       " 'Michigan',\n",
       " 'New Jersey']"
      ]
     },
     "execution_count": 33,
     "metadata": {},
     "output_type": "execute_result"
    }
   ],
   "source": [
    "# top high POPULATED counties\n",
    "high_case = df_covid[df_covid['date'] == '2020-02-01'].groupby(['state_name'])[\n",
    "    'total_population'].sum().sort_values(ascending = False)\n",
    "high_case_10 = list(high_case.index[:10])\n",
    "high_case_10"
   ]
  },
  {
   "cell_type": "code",
   "execution_count": 52,
   "metadata": {},
   "outputs": [
    {
     "data": {
      "application/javascript": [
       "\n",
       "        if (window._pyforest_update_imports_cell) { window._pyforest_update_imports_cell('import seaborn as sns\\nimport pandas as pd\\nimport matplotlib.pyplot as plt'); }\n",
       "    "
      ],
      "text/plain": [
       "<IPython.core.display.Javascript object>"
      ]
     },
     "metadata": {},
     "output_type": "display_data"
    },
    {
     "data": {
      "application/javascript": [
       "\n",
       "        if (window._pyforest_update_imports_cell) { window._pyforest_update_imports_cell('import seaborn as sns\\nimport pandas as pd\\nimport matplotlib.pyplot as plt'); }\n",
       "    "
      ],
      "text/plain": [
       "<IPython.core.display.Javascript object>"
      ]
     },
     "metadata": {},
     "output_type": "display_data"
    },
    {
     "data": {
      "application/javascript": [
       "\n",
       "        if (window._pyforest_update_imports_cell) { window._pyforest_update_imports_cell('import seaborn as sns\\nimport pandas as pd\\nimport matplotlib.pyplot as plt'); }\n",
       "    "
      ],
      "text/plain": [
       "<IPython.core.display.Javascript object>"
      ]
     },
     "metadata": {},
     "output_type": "display_data"
    },
    {
     "data": {
      "application/javascript": [
       "\n",
       "        if (window._pyforest_update_imports_cell) { window._pyforest_update_imports_cell('import seaborn as sns\\nfrom sklearn.preprocessing import LabelEncoder\\nimport pandas as pd\\nimport matplotlib.pyplot as plt'); }\n",
       "    "
      ],
      "text/plain": [
       "<IPython.core.display.Javascript object>"
      ]
     },
     "metadata": {},
     "output_type": "display_data"
    }
   ],
   "source": [
    "# feature engineering\n",
    "df_covid['median_household_income_bins'] = pd.qcut(df_covid['median_household_income'],q = 5).cat.codes\n",
    "df_covid['smoker_bins'] = pd.qcut(df_covid['percent_of_smokers'],q = 13).cat.codes\n",
    "df_covid['diabetes_bins'] = pd.qcut(df_covid['percent_of_diabetes'],q = 7).cat.codes\n",
    "df_covid['no_of_death'] = df_covid['death_ratio']*df_covid['total_population']\n",
    "df_covid['no_of_student_immigrants'] = df_covid['immigrant_student_ratio']*df_covid['total_population']\n",
    "df_covid['social_distancing_total_grade'] = LabelEncoder().fit_transform(df_covid['social_distancing_total_grade'])"
   ]
  },
  {
   "cell_type": "code",
   "execution_count": 53,
   "metadata": {},
   "outputs": [
    {
     "data": {
      "text/html": [
       "<div>\n",
       "<style scoped>\n",
       "    .dataframe tbody tr th:only-of-type {\n",
       "        vertical-align: middle;\n",
       "    }\n",
       "\n",
       "    .dataframe tbody tr th {\n",
       "        vertical-align: top;\n",
       "    }\n",
       "\n",
       "    .dataframe thead th {\n",
       "        text-align: right;\n",
       "    }\n",
       "</style>\n",
       "<table border=\"1\" class=\"dataframe\">\n",
       "  <thead>\n",
       "    <tr style=\"text-align: right;\">\n",
       "      <th></th>\n",
       "      <th>state_fips</th>\n",
       "      <th>state_name</th>\n",
       "      <th>date</th>\n",
       "      <th>virus_pressure</th>\n",
       "      <th>total_population</th>\n",
       "      <th>number_of_meat_plants</th>\n",
       "      <th>no_of_death</th>\n",
       "      <th>no_of_student_immigrants</th>\n",
       "      <th>airport_distance</th>\n",
       "    </tr>\n",
       "  </thead>\n",
       "  <tbody>\n",
       "    <tr>\n",
       "      <th>0</th>\n",
       "      <td>6</td>\n",
       "      <td>California</td>\n",
       "      <td>2020-01-22</td>\n",
       "      <td>0.000000</td>\n",
       "      <td>730506.907407</td>\n",
       "      <td>12.611111</td>\n",
       "      <td>4959.259774</td>\n",
       "      <td>15321.5</td>\n",
       "      <td>94.495167</td>\n",
       "    </tr>\n",
       "    <tr>\n",
       "      <th>1</th>\n",
       "      <td>6</td>\n",
       "      <td>California</td>\n",
       "      <td>2020-01-23</td>\n",
       "      <td>0.000000</td>\n",
       "      <td>730506.907407</td>\n",
       "      <td>12.611111</td>\n",
       "      <td>4959.259774</td>\n",
       "      <td>15321.5</td>\n",
       "      <td>94.495167</td>\n",
       "    </tr>\n",
       "    <tr>\n",
       "      <th>2</th>\n",
       "      <td>6</td>\n",
       "      <td>California</td>\n",
       "      <td>2020-01-24</td>\n",
       "      <td>0.000000</td>\n",
       "      <td>730506.907407</td>\n",
       "      <td>12.611111</td>\n",
       "      <td>4959.259774</td>\n",
       "      <td>15321.5</td>\n",
       "      <td>94.495167</td>\n",
       "    </tr>\n",
       "    <tr>\n",
       "      <th>3</th>\n",
       "      <td>6</td>\n",
       "      <td>California</td>\n",
       "      <td>2020-01-25</td>\n",
       "      <td>0.000000</td>\n",
       "      <td>730506.907407</td>\n",
       "      <td>12.611111</td>\n",
       "      <td>4959.259774</td>\n",
       "      <td>15321.5</td>\n",
       "      <td>94.495167</td>\n",
       "    </tr>\n",
       "    <tr>\n",
       "      <th>4</th>\n",
       "      <td>6</td>\n",
       "      <td>California</td>\n",
       "      <td>2020-01-26</td>\n",
       "      <td>0.032253</td>\n",
       "      <td>730506.907407</td>\n",
       "      <td>12.611111</td>\n",
       "      <td>4959.259774</td>\n",
       "      <td>15321.5</td>\n",
       "      <td>94.495167</td>\n",
       "    </tr>\n",
       "  </tbody>\n",
       "</table>\n",
       "</div>"
      ],
      "text/plain": [
       "   state_fips  state_name       date  virus_pressure  total_population  \\\n",
       "0           6  California 2020-01-22        0.000000     730506.907407   \n",
       "1           6  California 2020-01-23        0.000000     730506.907407   \n",
       "2           6  California 2020-01-24        0.000000     730506.907407   \n",
       "3           6  California 2020-01-25        0.000000     730506.907407   \n",
       "4           6  California 2020-01-26        0.032253     730506.907407   \n",
       "\n",
       "   number_of_meat_plants  no_of_death  no_of_student_immigrants  \\\n",
       "0              12.611111  4959.259774                   15321.5   \n",
       "1              12.611111  4959.259774                   15321.5   \n",
       "2              12.611111  4959.259774                   15321.5   \n",
       "3              12.611111  4959.259774                   15321.5   \n",
       "4              12.611111  4959.259774                   15321.5   \n",
       "\n",
       "   airport_distance  \n",
       "0         94.495167  \n",
       "1         94.495167  \n",
       "2         94.495167  \n",
       "3         94.495167  \n",
       "4         94.495167  "
      ]
     },
     "execution_count": 53,
     "metadata": {},
     "output_type": "execute_result"
    }
   ],
   "source": [
    "# top states filter\n",
    "top_states = df_covid[df_covid['state_name'].isin(high_case_10)]\n",
    "top_states = top_states.groupby(['state_fips','state_name','date'])[['virus_pressure','total_population',\n",
    "                        'number_of_meat_plants', 'no_of_death', 'no_of_student_immigrants',\n",
    "       'airport_distance']].mean().reset_index()\n",
    "top_states.head()"
   ]
  },
  {
   "cell_type": "code",
   "execution_count": 56,
   "metadata": {},
   "outputs": [
    {
     "data": {
      "application/javascript": [
       "\n",
       "        if (window._pyforest_update_imports_cell) { window._pyforest_update_imports_cell('import seaborn as sns\\nfrom sklearn.preprocessing import LabelEncoder\\nimport pandas as pd\\nimport matplotlib.pyplot as plt'); }\n",
       "    "
      ],
      "text/plain": [
       "<IPython.core.display.Javascript object>"
      ]
     },
     "metadata": {},
     "output_type": "display_data"
    },
    {
     "data": {
      "application/javascript": [
       "\n",
       "        if (window._pyforest_update_imports_cell) { window._pyforest_update_imports_cell('import seaborn as sns\\nfrom sklearn.preprocessing import LabelEncoder\\nimport pandas as pd\\nimport matplotlib.pyplot as plt'); }\n",
       "    "
      ],
      "text/plain": [
       "<IPython.core.display.Javascript object>"
      ]
     },
     "metadata": {},
     "output_type": "display_data"
    },
    {
     "data": {
      "application/javascript": [
       "\n",
       "        if (window._pyforest_update_imports_cell) { window._pyforest_update_imports_cell('import seaborn as sns\\nfrom sklearn.preprocessing import LabelEncoder\\nimport pandas as pd\\nimport matplotlib.pyplot as plt'); }\n",
       "    "
      ],
      "text/plain": [
       "<IPython.core.display.Javascript object>"
      ]
     },
     "metadata": {},
     "output_type": "display_data"
    },
    {
     "data": {
      "application/javascript": [
       "\n",
       "        if (window._pyforest_update_imports_cell) { window._pyforest_update_imports_cell('import seaborn as sns\\nfrom sklearn.preprocessing import LabelEncoder\\nimport pandas as pd\\nimport matplotlib.pyplot as plt'); }\n",
       "    "
      ],
      "text/plain": [
       "<IPython.core.display.Javascript object>"
      ]
     },
     "metadata": {},
     "output_type": "display_data"
    },
    {
     "data": {
      "application/javascript": [
       "\n",
       "        if (window._pyforest_update_imports_cell) { window._pyforest_update_imports_cell('import seaborn as sns\\nfrom sklearn.preprocessing import LabelEncoder\\nimport pandas as pd\\nimport matplotlib.pyplot as plt'); }\n",
       "    "
      ],
      "text/plain": [
       "<IPython.core.display.Javascript object>"
      ]
     },
     "metadata": {},
     "output_type": "display_data"
    },
    {
     "data": {
      "application/javascript": [
       "\n",
       "        if (window._pyforest_update_imports_cell) { window._pyforest_update_imports_cell('import seaborn as sns\\nfrom sklearn.preprocessing import LabelEncoder\\nimport pandas as pd\\nimport matplotlib.pyplot as plt'); }\n",
       "    "
      ],
      "text/plain": [
       "<IPython.core.display.Javascript object>"
      ]
     },
     "metadata": {},
     "output_type": "display_data"
    },
    {
     "data": {
      "application/javascript": [
       "\n",
       "        if (window._pyforest_update_imports_cell) { window._pyforest_update_imports_cell('import seaborn as sns\\nfrom sklearn.preprocessing import LabelEncoder\\nimport pandas as pd\\nimport matplotlib.pyplot as plt'); }\n",
       "    "
      ],
      "text/plain": [
       "<IPython.core.display.Javascript object>"
      ]
     },
     "metadata": {},
     "output_type": "display_data"
    },
    {
     "data": {
      "application/javascript": [
       "\n",
       "        if (window._pyforest_update_imports_cell) { window._pyforest_update_imports_cell('import seaborn as sns\\nfrom sklearn.preprocessing import LabelEncoder\\nimport pandas as pd\\nimport matplotlib.pyplot as plt'); }\n",
       "    "
      ],
      "text/plain": [
       "<IPython.core.display.Javascript object>"
      ]
     },
     "metadata": {},
     "output_type": "display_data"
    },
    {
     "data": {
      "application/javascript": [
       "\n",
       "        if (window._pyforest_update_imports_cell) { window._pyforest_update_imports_cell('import seaborn as sns\\nfrom sklearn.preprocessing import LabelEncoder\\nimport pandas as pd\\nimport matplotlib.pyplot as plt'); }\n",
       "    "
      ],
      "text/plain": [
       "<IPython.core.display.Javascript object>"
      ]
     },
     "metadata": {},
     "output_type": "display_data"
    },
    {
     "data": {
      "application/javascript": [
       "\n",
       "        if (window._pyforest_update_imports_cell) { window._pyforest_update_imports_cell('import seaborn as sns\\nfrom sklearn.preprocessing import LabelEncoder\\nimport pandas as pd\\nimport matplotlib.pyplot as plt'); }\n",
       "    "
      ],
      "text/plain": [
       "<IPython.core.display.Javascript object>"
      ]
     },
     "metadata": {},
     "output_type": "display_data"
    }
   ],
   "source": [
    "# create individual df for states\n",
    "state_df = {}\n",
    "state_ts = {}\n",
    "for state in high_case_10:\n",
    "    state_df[state] = pd.DataFrame(data = top_states[top_states['state_name'] == state])\n",
    "    state_df[state] = state_df[state][['date','virus_pressure','total_population',\n",
    "                        'number_of_meat_plants', 'no_of_death', 'no_of_student_immigrants',\n",
    "       'airport_distance']].resample('D', on='date').mean()"
   ]
  },
  {
   "cell_type": "code",
   "execution_count": 57,
   "metadata": {},
   "outputs": [
    {
     "data": {
      "text/html": [
       "<div>\n",
       "<style scoped>\n",
       "    .dataframe tbody tr th:only-of-type {\n",
       "        vertical-align: middle;\n",
       "    }\n",
       "\n",
       "    .dataframe tbody tr th {\n",
       "        vertical-align: top;\n",
       "    }\n",
       "\n",
       "    .dataframe thead th {\n",
       "        text-align: right;\n",
       "    }\n",
       "</style>\n",
       "<table border=\"1\" class=\"dataframe\">\n",
       "  <thead>\n",
       "    <tr style=\"text-align: right;\">\n",
       "      <th></th>\n",
       "      <th>virus_pressure</th>\n",
       "      <th>total_population</th>\n",
       "      <th>number_of_meat_plants</th>\n",
       "      <th>no_of_death</th>\n",
       "      <th>no_of_student_immigrants</th>\n",
       "      <th>airport_distance</th>\n",
       "    </tr>\n",
       "    <tr>\n",
       "      <th>date</th>\n",
       "      <th></th>\n",
       "      <th></th>\n",
       "      <th></th>\n",
       "      <th></th>\n",
       "      <th></th>\n",
       "      <th></th>\n",
       "    </tr>\n",
       "  </thead>\n",
       "  <tbody>\n",
       "    <tr>\n",
       "      <th>2020-01-22</th>\n",
       "      <td>0.000000</td>\n",
       "      <td>730506.907407</td>\n",
       "      <td>12.611111</td>\n",
       "      <td>4959.259774</td>\n",
       "      <td>15321.5</td>\n",
       "      <td>94.495167</td>\n",
       "    </tr>\n",
       "    <tr>\n",
       "      <th>2020-01-23</th>\n",
       "      <td>0.000000</td>\n",
       "      <td>730506.907407</td>\n",
       "      <td>12.611111</td>\n",
       "      <td>4959.259774</td>\n",
       "      <td>15321.5</td>\n",
       "      <td>94.495167</td>\n",
       "    </tr>\n",
       "    <tr>\n",
       "      <th>2020-01-24</th>\n",
       "      <td>0.000000</td>\n",
       "      <td>730506.907407</td>\n",
       "      <td>12.611111</td>\n",
       "      <td>4959.259774</td>\n",
       "      <td>15321.5</td>\n",
       "      <td>94.495167</td>\n",
       "    </tr>\n",
       "    <tr>\n",
       "      <th>2020-01-25</th>\n",
       "      <td>0.000000</td>\n",
       "      <td>730506.907407</td>\n",
       "      <td>12.611111</td>\n",
       "      <td>4959.259774</td>\n",
       "      <td>15321.5</td>\n",
       "      <td>94.495167</td>\n",
       "    </tr>\n",
       "    <tr>\n",
       "      <th>2020-01-26</th>\n",
       "      <td>0.032253</td>\n",
       "      <td>730506.907407</td>\n",
       "      <td>12.611111</td>\n",
       "      <td>4959.259774</td>\n",
       "      <td>15321.5</td>\n",
       "      <td>94.495167</td>\n",
       "    </tr>\n",
       "  </tbody>\n",
       "</table>\n",
       "</div>"
      ],
      "text/plain": [
       "            virus_pressure  total_population  number_of_meat_plants  \\\n",
       "date                                                                  \n",
       "2020-01-22        0.000000     730506.907407              12.611111   \n",
       "2020-01-23        0.000000     730506.907407              12.611111   \n",
       "2020-01-24        0.000000     730506.907407              12.611111   \n",
       "2020-01-25        0.000000     730506.907407              12.611111   \n",
       "2020-01-26        0.032253     730506.907407              12.611111   \n",
       "\n",
       "            no_of_death  no_of_student_immigrants  airport_distance  \n",
       "date                                                                 \n",
       "2020-01-22  4959.259774                   15321.5         94.495167  \n",
       "2020-01-23  4959.259774                   15321.5         94.495167  \n",
       "2020-01-24  4959.259774                   15321.5         94.495167  \n",
       "2020-01-25  4959.259774                   15321.5         94.495167  \n",
       "2020-01-26  4959.259774                   15321.5         94.495167  "
      ]
     },
     "execution_count": 57,
     "metadata": {},
     "output_type": "execute_result"
    }
   ],
   "source": [
    "# testing dfs\n",
    "state_df['California'].head()"
   ]
  },
  {
   "cell_type": "code",
   "execution_count": 59,
   "metadata": {},
   "outputs": [
    {
     "data": {
      "text/plain": [
       "<AxesSubplot:xlabel='date'>"
      ]
     },
     "execution_count": 59,
     "metadata": {},
     "output_type": "execute_result"
    },
    {
     "data": {
      "image/png": "[encoded data removed]",
      "text/plain": [
       "<Figure size 432x288 with 1 Axes>"
      ]
     },
     "metadata": {
      "needs_background": "light"
     },
     "output_type": "display_data"
    }
   ],
   "source": [
    "state_df['California']['virus_pressure'].plot()"
   ]
  },
  {
   "cell_type": "code",
   "execution_count": 60,
   "metadata": {},
   "outputs": [
    {
     "data": {
      "image/png": "[encoded data removed]",
      "text/plain": [
       "<Figure size 432x288 with 4 Axes>"
      ]
     },
     "metadata": {
      "needs_background": "light"
     },
     "output_type": "display_data"
    }
   ],
   "source": [
    "# check seasonal decompose\n",
    "result = seasonal_decompose(state_df['California']['virus_pressure'],model = 'add')\n",
    "result.plot();"
   ]
  },
  {
   "cell_type": "code",
   "execution_count": 61,
   "metadata": {},
   "outputs": [
    {
     "data": {
      "application/javascript": [
       "\n",
       "        if (window._pyforest_update_imports_cell) { window._pyforest_update_imports_cell('import seaborn as sns\\nfrom sklearn.preprocessing import LabelEncoder\\nimport pandas as pd\\nimport matplotlib.pyplot as plt'); }\n",
       "    "
      ],
      "text/plain": [
       "<IPython.core.display.Javascript object>"
      ]
     },
     "metadata": {},
     "output_type": "display_data"
    },
    {
     "data": {
      "text/plain": [
       "<AxesSubplot:xlabel='date'>"
      ]
     },
     "execution_count": 61,
     "metadata": {},
     "output_type": "execute_result"
    },
    {
     "data": {
      "image/png": "[encoded data removed]",
      "text/plain": [
       "<Figure size 864x432 with 1 Axes>"
      ]
     },
     "metadata": {
      "needs_background": "light"
     },
     "output_type": "display_data"
    }
   ],
   "source": [
    "plt.figure(figsize = (12,6))\n",
    "result.seasonal[5:26].plot()"
   ]
  },
  {
   "cell_type": "code",
   "execution_count": 62,
   "metadata": {},
   "outputs": [],
   "source": [
    "# train test split\n",
    "from sklearn.model_selection import train_test_split\n",
    "\n",
    "train_df = {}\n",
    "test_df = {}\n",
    "future_df = {}\n",
    "\n",
    "for state in high_case_10:\n",
    "#     X_train,X_test,y_train,y_test = train_test_split(state_df[state].loc[:,\n",
    "#                                                     ~state_df[state].columns.isin(['covid_19_confirmed_cases','date'])],\n",
    "#                                             state_df[state]['covid_19_confirmed_cases'],test_size = 0.4,shuffle = False,\n",
    "#                                                      stratify = None)\n",
    "\n",
    "    train = state_df[state][state_df[state].index <= '2020-12-31']\n",
    "    test = state_df[state][(state_df[state].index > '2020-12-31')]\n",
    "\n",
    "    train_df[state] = train\n",
    "    test_df[state] = test"
   ]
  },
  {
   "cell_type": "code",
   "execution_count": 63,
   "metadata": {},
   "outputs": [
    {
     "data": {
      "text/plain": [
       "<AxesSubplot:xlabel='date'>"
      ]
     },
     "execution_count": 63,
     "metadata": {},
     "output_type": "execute_result"
    },
    {
     "data": {
      "image/png": "[encoded data removed]",
      "text/plain": [
       "<Figure size 432x288 with 1 Axes>"
      ]
     },
     "metadata": {
      "needs_background": "light"
     },
     "output_type": "display_data"
    }
   ],
   "source": [
    "test_df['California']['virus_pressure'].plot()"
   ]
  },
  {
   "cell_type": "code",
   "execution_count": 76,
   "metadata": {
    "scrolled": true
   },
   "outputs": [
    {
     "name": "stdout",
     "output_type": "stream",
     "text": [
      "Performing stepwise search to minimize aic\n",
      " ARIMA(2,1,2)(1,0,1)[7] intercept   : AIC=5624.784, Time=1.36 sec\n",
      " ARIMA(0,1,0)(0,0,0)[7] intercept   : AIC=5787.508, Time=0.01 sec\n",
      " ARIMA(1,1,0)(1,0,0)[7] intercept   : AIC=5683.316, Time=0.23 sec\n",
      " ARIMA(0,1,1)(0,0,1)[7] intercept   : AIC=5636.097, Time=0.38 sec\n",
      " ARIMA(0,1,0)(0,0,0)[7]             : AIC=5785.508, Time=0.01 sec\n",
      " ARIMA(2,1,2)(0,0,1)[7] intercept   : AIC=5629.165, Time=0.97 sec\n",
      " ARIMA(2,1,2)(1,0,0)[7] intercept   : AIC=5623.492, Time=0.89 sec\n",
      " ARIMA(2,1,2)(0,0,0)[7] intercept   : AIC=5670.039, Time=0.51 sec\n",
      " ARIMA(2,1,2)(2,0,0)[7] intercept   : AIC=5625.073, Time=1.30 sec\n",
      " ARIMA(2,1,2)(2,0,1)[7] intercept   : AIC=5625.395, Time=2.30 sec\n",
      " ARIMA(1,1,2)(1,0,0)[7] intercept   : AIC=5622.781, Time=0.63 sec\n",
      " ARIMA(1,1,2)(0,0,0)[7] intercept   : AIC=5668.534, Time=0.28 sec\n",
      " ARIMA(1,1,2)(2,0,0)[7] intercept   : AIC=5624.227, Time=1.19 sec\n",
      " ARIMA(1,1,2)(1,0,1)[7] intercept   : AIC=5623.855, Time=1.26 sec\n",
      " ARIMA(1,1,2)(0,0,1)[7] intercept   : AIC=5628.376, Time=0.80 sec\n",
      " ARIMA(1,1,2)(2,0,1)[7] intercept   : AIC=inf, Time=1.69 sec\n",
      " ARIMA(0,1,2)(1,0,0)[7] intercept   : AIC=5621.623, Time=0.34 sec\n",
      " ARIMA(0,1,2)(0,0,0)[7] intercept   : AIC=5667.163, Time=0.21 sec\n",
      " ARIMA(0,1,2)(2,0,0)[7] intercept   : AIC=5623.026, Time=0.75 sec\n",
      " ARIMA(0,1,2)(1,0,1)[7] intercept   : AIC=5622.646, Time=0.58 sec\n",
      " ARIMA(0,1,2)(0,0,1)[7] intercept   : AIC=5627.254, Time=0.52 sec\n",
      " ARIMA(0,1,2)(2,0,1)[7] intercept   : AIC=inf, Time=1.55 sec\n",
      " ARIMA(0,1,1)(1,0,0)[7] intercept   : AIC=5630.474, Time=0.30 sec\n",
      " ARIMA(0,1,3)(1,0,0)[7] intercept   : AIC=5621.425, Time=0.39 sec\n",
      " ARIMA(0,1,3)(0,0,0)[7] intercept   : AIC=5666.994, Time=0.30 sec\n",
      " ARIMA(0,1,3)(2,0,0)[7] intercept   : AIC=5622.951, Time=0.86 sec\n",
      " ARIMA(0,1,3)(1,0,1)[7] intercept   : AIC=5622.607, Time=0.84 sec\n",
      " ARIMA(0,1,3)(0,0,1)[7] intercept   : AIC=5626.789, Time=0.57 sec\n",
      " ARIMA(0,1,3)(2,0,1)[7] intercept   : AIC=inf, Time=1.98 sec\n",
      " ARIMA(1,1,3)(1,0,0)[7] intercept   : AIC=5621.663, Time=1.04 sec\n",
      " ARIMA(0,1,4)(1,0,0)[7] intercept   : AIC=5620.831, Time=0.58 sec\n",
      " ARIMA(0,1,4)(0,0,0)[7] intercept   : AIC=5659.059, Time=0.44 sec\n",
      " ARIMA(0,1,4)(2,0,0)[7] intercept   : AIC=5622.400, Time=1.03 sec\n",
      " ARIMA(0,1,4)(1,0,1)[7] intercept   : AIC=5622.057, Time=1.02 sec\n",
      " ARIMA(0,1,4)(0,0,1)[7] intercept   : AIC=5625.401, Time=0.72 sec\n",
      " ARIMA(0,1,4)(2,0,1)[7] intercept   : AIC=inf, Time=2.09 sec\n",
      " ARIMA(1,1,4)(1,0,0)[7] intercept   : AIC=5623.481, Time=1.11 sec\n",
      " ARIMA(0,1,5)(1,0,0)[7] intercept   : AIC=5620.961, Time=0.59 sec\n",
      " ARIMA(1,1,5)(1,0,0)[7] intercept   : AIC=5621.780, Time=1.16 sec\n",
      " ARIMA(0,1,4)(1,0,0)[7]             : AIC=5618.832, Time=0.22 sec\n",
      " ARIMA(0,1,4)(0,0,0)[7]             : AIC=5657.060, Time=0.19 sec\n",
      " ARIMA(0,1,4)(2,0,0)[7]             : AIC=5620.400, Time=0.39 sec\n",
      " ARIMA(0,1,4)(1,0,1)[7]             : AIC=5620.058, Time=0.46 sec\n",
      " ARIMA(0,1,4)(0,0,1)[7]             : AIC=5623.402, Time=0.31 sec\n",
      " ARIMA(0,1,4)(2,0,1)[7]             : AIC=inf, Time=1.34 sec\n",
      " ARIMA(0,1,3)(1,0,0)[7]             : AIC=5619.426, Time=0.16 sec\n",
      " ARIMA(1,1,4)(1,0,0)[7]             : AIC=5621.482, Time=0.51 sec\n",
      " ARIMA(0,1,5)(1,0,0)[7]             : AIC=5618.962, Time=0.27 sec\n",
      " ARIMA(1,1,3)(1,0,0)[7]             : AIC=5619.664, Time=0.43 sec\n",
      " ARIMA(1,1,5)(1,0,0)[7]             : AIC=5619.781, Time=0.58 sec\n",
      "\n",
      "Best model:  ARIMA(0,1,4)(1,0,0)[7]          \n",
      "Total fit time: 37.681 seconds\n"
     ]
    }
   ],
   "source": [
    "# auto_arima fit #c\n",
    "from pmdarima import auto_arima\n",
    "model_cal = auto_arima(state_df['California']['virus_pressure'],seasonal = True,m = 7,trace = True)"
   ]
  },
  {
   "cell_type": "code",
   "execution_count": 77,
   "metadata": {},
   "outputs": [
    {
     "data": {
      "text/html": [
       "<table class=\"simpletable\">\n",
       "<caption>SARIMAX Results</caption>\n",
       "<tr>\n",
       "  <th>Dep. Variable:</th>                  <td>y</td>               <th>  No. Observations:  </th>    <td>506</td>   \n",
       "</tr>\n",
       "<tr>\n",
       "  <th>Model:</th>           <td>SARIMAX(0, 1, 4)x(1, 0, [], 7)</td> <th>  Log Likelihood     </th> <td>-2803.416</td>\n",
       "</tr>\n",
       "<tr>\n",
       "  <th>Date:</th>                   <td>Mon, 04 Apr 2022</td>        <th>  AIC                </th> <td>5618.832</td> \n",
       "</tr>\n",
       "<tr>\n",
       "  <th>Time:</th>                       <td>00:20:50</td>            <th>  BIC                </th> <td>5644.179</td> \n",
       "</tr>\n",
       "<tr>\n",
       "  <th>Sample:</th>                         <td>0</td>               <th>  HQIC               </th> <td>5628.774</td> \n",
       "</tr>\n",
       "<tr>\n",
       "  <th></th>                             <td> - 506</td>             <th>                     </th>     <td> </td>    \n",
       "</tr>\n",
       "<tr>\n",
       "  <th>Covariance Type:</th>               <td>opg</td>              <th>                     </th>     <td> </td>    \n",
       "</tr>\n",
       "</table>\n",
       "<table class=\"simpletable\">\n",
       "<tr>\n",
       "     <td></td>        <th>coef</th>     <th>std err</th>      <th>z</th>      <th>P>|z|</th>  <th>[0.025</th>    <th>0.975]</th>  \n",
       "</tr>\n",
       "<tr>\n",
       "  <th>ma.L1</th>   <td>   -0.5395</td> <td>    0.018</td> <td>  -30.479</td> <td> 0.000</td> <td>   -0.574</td> <td>   -0.505</td>\n",
       "</tr>\n",
       "<tr>\n",
       "  <th>ma.L2</th>   <td>   -0.1138</td> <td>    0.022</td> <td>   -5.079</td> <td> 0.000</td> <td>   -0.158</td> <td>   -0.070</td>\n",
       "</tr>\n",
       "<tr>\n",
       "  <th>ma.L3</th>   <td>   -0.0871</td> <td>    0.023</td> <td>   -3.836</td> <td> 0.000</td> <td>   -0.132</td> <td>   -0.043</td>\n",
       "</tr>\n",
       "<tr>\n",
       "  <th>ma.L4</th>   <td>    0.0730</td> <td>    0.021</td> <td>    3.535</td> <td> 0.000</td> <td>    0.033</td> <td>    0.113</td>\n",
       "</tr>\n",
       "<tr>\n",
       "  <th>ar.S.L7</th> <td>    0.2911</td> <td>    0.019</td> <td>   15.483</td> <td> 0.000</td> <td>    0.254</td> <td>    0.328</td>\n",
       "</tr>\n",
       "<tr>\n",
       "  <th>sigma2</th>  <td> 3875.7408</td> <td>   85.738</td> <td>   45.204</td> <td> 0.000</td> <td> 3707.697</td> <td> 4043.784</td>\n",
       "</tr>\n",
       "</table>\n",
       "<table class=\"simpletable\">\n",
       "<tr>\n",
       "  <th>Ljung-Box (L1) (Q):</th>     <td>0.00</td>  <th>  Jarque-Bera (JB):  </th> <td>5034.72</td>\n",
       "</tr>\n",
       "<tr>\n",
       "  <th>Prob(Q):</th>                <td>0.95</td>  <th>  Prob(JB):          </th>  <td>0.00</td>  \n",
       "</tr>\n",
       "<tr>\n",
       "  <th>Heteroskedasticity (H):</th> <td>19.10</td> <th>  Skew:              </th>  <td>1.48</td>  \n",
       "</tr>\n",
       "<tr>\n",
       "  <th>Prob(H) (two-sided):</th>    <td>0.00</td>  <th>  Kurtosis:          </th>  <td>18.18</td> \n",
       "</tr>\n",
       "</table><br/><br/>Warnings:<br/>[1] Covariance matrix calculated using the outer product of gradients (complex-step)."
      ],
      "text/plain": [
       "<class 'statsmodels.iolib.summary.Summary'>\n",
       "\"\"\"\n",
       "                                     SARIMAX Results                                      \n",
       "==========================================================================================\n",
       "Dep. Variable:                                  y   No. Observations:                  506\n",
       "Model:             SARIMAX(0, 1, 4)x(1, 0, [], 7)   Log Likelihood               -2803.416\n",
       "Date:                            Mon, 04 Apr 2022   AIC                           5618.832\n",
       "Time:                                    00:20:50   BIC                           5644.179\n",
       "Sample:                                         0   HQIC                          5628.774\n",
       "                                            - 506                                         \n",
       "Covariance Type:                              opg                                         \n",
       "==============================================================================\n",
       "                 coef    std err          z      P>|z|      [0.025      0.975]\n",
       "------------------------------------------------------------------------------\n",
       "ma.L1         -0.5395      0.018    -30.479      0.000      -0.574      -0.505\n",
       "ma.L2         -0.1138      0.022     -5.079      0.000      -0.158      -0.070\n",
       "ma.L3         -0.0871      0.023     -3.836      0.000      -0.132      -0.043\n",
       "ma.L4          0.0730      0.021      3.535      0.000       0.033       0.113\n",
       "ar.S.L7        0.2911      0.019     15.483      0.000       0.254       0.328\n",
       "sigma2      3875.7408     85.738     45.204      0.000    3707.697    4043.784\n",
       "===================================================================================\n",
       "Ljung-Box (L1) (Q):                   0.00   Jarque-Bera (JB):              5034.72\n",
       "Prob(Q):                              0.95   Prob(JB):                         0.00\n",
       "Heteroskedasticity (H):              19.10   Skew:                             1.48\n",
       "Prob(H) (two-sided):                  0.00   Kurtosis:                        18.18\n",
       "===================================================================================\n",
       "\n",
       "Warnings:\n",
       "[1] Covariance matrix calculated using the outer product of gradients (complex-step).\n",
       "\"\"\""
      ]
     },
     "execution_count": 77,
     "metadata": {},
     "output_type": "execute_result"
    }
   ],
   "source": [
    "model_cal.summary()"
   ]
  },
  {
   "cell_type": "code",
   "execution_count": 78,
   "metadata": {},
   "outputs": [],
   "source": [
    "# forecast first\n",
    "forecast['California'] = model_cal.predict(n_periods = 7)"
   ]
  },
  {
   "cell_type": "code",
   "execution_count": 79,
   "metadata": {},
   "outputs": [
    {
     "data": {
      "text/plain": [
       "array([18.81996833, 19.20913429, 18.64142275, 18.53646998, 17.79910557,\n",
       "       17.91830816, 17.99894169])"
      ]
     },
     "execution_count": 79,
     "metadata": {},
     "output_type": "execute_result"
    }
   ],
   "source": [
    "forecast['California']"
   ]
  },
  {
   "cell_type": "code",
   "execution_count": 49,
   "metadata": {},
   "outputs": [
    {
     "data": {
      "text/html": [
       "<div>\n",
       "<style scoped>\n",
       "    .dataframe tbody tr th:only-of-type {\n",
       "        vertical-align: middle;\n",
       "    }\n",
       "\n",
       "    .dataframe tbody tr th {\n",
       "        vertical-align: top;\n",
       "    }\n",
       "\n",
       "    .dataframe thead th {\n",
       "        text-align: right;\n",
       "    }\n",
       "</style>\n",
       "<table border=\"1\" class=\"dataframe\">\n",
       "  <thead>\n",
       "    <tr style=\"text-align: right;\">\n",
       "      <th></th>\n",
       "      <th>virus_pressure</th>\n",
       "    </tr>\n",
       "    <tr>\n",
       "      <th>date</th>\n",
       "      <th></th>\n",
       "    </tr>\n",
       "  </thead>\n",
       "  <tbody>\n",
       "    <tr>\n",
       "      <th>2021-01-01</th>\n",
       "      <td>833.769055</td>\n",
       "    </tr>\n",
       "    <tr>\n",
       "      <th>2021-01-02</th>\n",
       "      <td>907.958385</td>\n",
       "    </tr>\n",
       "    <tr>\n",
       "      <th>2021-01-03</th>\n",
       "      <td>782.561978</td>\n",
       "    </tr>\n",
       "    <tr>\n",
       "      <th>2021-01-04</th>\n",
       "      <td>496.652050</td>\n",
       "    </tr>\n",
       "    <tr>\n",
       "      <th>2021-01-05</th>\n",
       "      <td>542.970606</td>\n",
       "    </tr>\n",
       "    <tr>\n",
       "      <th>2021-01-06</th>\n",
       "      <td>555.244187</td>\n",
       "    </tr>\n",
       "    <tr>\n",
       "      <th>2021-01-07</th>\n",
       "      <td>643.839227</td>\n",
       "    </tr>\n",
       "  </tbody>\n",
       "</table>\n",
       "</div>"
      ],
      "text/plain": [
       "            virus_pressure\n",
       "date                      \n",
       "2021-01-01      833.769055\n",
       "2021-01-02      907.958385\n",
       "2021-01-03      782.561978\n",
       "2021-01-04      496.652050\n",
       "2021-01-05      542.970606\n",
       "2021-01-06      555.244187\n",
       "2021-01-07      643.839227"
      ]
     },
     "execution_count": 49,
     "metadata": {},
     "output_type": "execute_result"
    }
   ],
   "source": [
    "test_df['California'][:7]"
   ]
  },
  {
   "cell_type": "code",
   "execution_count": 74,
   "metadata": {},
   "outputs": [
    {
     "data": {
      "application/javascript": [
       "\n",
       "        if (window._pyforest_update_imports_cell) { window._pyforest_update_imports_cell('import seaborn as sns\\nfrom sklearn.preprocessing import LabelEncoder\\nimport pandas as pd\\nimport matplotlib.pyplot as plt'); }\n",
       "    "
      ],
      "text/plain": [
       "<IPython.core.display.Javascript object>"
      ]
     },
     "metadata": {},
     "output_type": "display_data"
    },
    {
     "data": {
      "application/javascript": [
       "\n",
       "        if (window._pyforest_update_imports_cell) { window._pyforest_update_imports_cell('import seaborn as sns\\nfrom sklearn.preprocessing import LabelEncoder\\nimport pandas as pd\\nimport matplotlib.pyplot as plt'); }\n",
       "    "
      ],
      "text/plain": [
       "<IPython.core.display.Javascript object>"
      ]
     },
     "metadata": {},
     "output_type": "display_data"
    },
    {
     "ename": "AttributeError",
     "evalue": "'numpy.ndarray' object has no attribute 'index'",
     "output_type": "error",
     "traceback": [
      "\u001b[1;31m---------------------------------------------------------------------------\u001b[0m",
      "\u001b[1;31mAttributeError\u001b[0m                            Traceback (most recent call last)",
      "\u001b[1;32m<ipython-input-74-1c1d11c4e8a6>\u001b[0m in \u001b[0;36m<module>\u001b[1;34m\u001b[0m\n\u001b[0;32m      2\u001b[0m \u001b[0mplt\u001b[0m\u001b[1;33m.\u001b[0m\u001b[0mfigure\u001b[0m\u001b[1;33m(\u001b[0m\u001b[0mfigsize\u001b[0m \u001b[1;33m=\u001b[0m \u001b[1;33m(\u001b[0m\u001b[1;36m12\u001b[0m\u001b[1;33m,\u001b[0m\u001b[1;36m6\u001b[0m\u001b[1;33m)\u001b[0m\u001b[1;33m)\u001b[0m\u001b[1;33m\u001b[0m\u001b[1;33m\u001b[0m\u001b[0m\n\u001b[0;32m      3\u001b[0m \u001b[1;31m#sns.lineplot(x = test_df['California'].iloc[:161].index,y = test_df['California'].iloc[:161],label = 'real',legend = True)\u001b[0m\u001b[1;33m\u001b[0m\u001b[1;33m\u001b[0m\u001b[1;33m\u001b[0m\u001b[0m\n\u001b[1;32m----> 4\u001b[1;33m \u001b[0msns\u001b[0m\u001b[1;33m.\u001b[0m\u001b[0mlineplot\u001b[0m\u001b[1;33m(\u001b[0m\u001b[0mx\u001b[0m \u001b[1;33m=\u001b[0m \u001b[0mforecast\u001b[0m\u001b[1;33m[\u001b[0m\u001b[1;34m'California'\u001b[0m\u001b[1;33m]\u001b[0m\u001b[1;33m.\u001b[0m\u001b[0mindex\u001b[0m\u001b[1;33m,\u001b[0m \u001b[0my\u001b[0m \u001b[1;33m=\u001b[0m \u001b[0mforecast\u001b[0m\u001b[1;33m[\u001b[0m\u001b[1;34m'California'\u001b[0m\u001b[1;33m]\u001b[0m\u001b[1;33m[\u001b[0m\u001b[1;34m'virus_pressure'\u001b[0m\u001b[1;33m]\u001b[0m\u001b[1;33m,\u001b[0m\u001b[0mlabel\u001b[0m \u001b[1;33m=\u001b[0m \u001b[1;34m'forecast'\u001b[0m\u001b[1;33m)\u001b[0m\u001b[1;33m\u001b[0m\u001b[1;33m\u001b[0m\u001b[0m\n\u001b[0m",
      "\u001b[1;31mAttributeError\u001b[0m: 'numpy.ndarray' object has no attribute 'index'"
     ]
    },
    {
     "data": {
      "text/plain": [
       "<Figure size 864x432 with 0 Axes>"
      ]
     },
     "metadata": {},
     "output_type": "display_data"
    }
   ],
   "source": [
    "#forecast plot\n",
    "plt.figure(figsize = (12,6))\n",
    "#sns.lineplot(x = test_df['California'].iloc[:161].index,y = test_df['California'].iloc[:161],label = 'real',legend = True)\n",
    "sns.lineplot(x = forecast['California'].index, y = forecast['California']['virus_pressure'],label = 'forecast')"
   ]
  },
  {
   "cell_type": "code",
   "execution_count": null,
   "metadata": {},
   "outputs": [],
   "source": []
  }
 ],
 "metadata": {
  "kernelspec": {
   "display_name": "Python 3",
   "language": "python",
   "name": "python3"
  },
  "language_info": {
   "codemirror_mode": {
    "name": "ipython",
    "version": 3
   },
   "file_extension": ".py",
   "mimetype": "text/x-python",
   "name": "python",
   "nbconvert_exporter": "python",
   "pygments_lexer": "ipython3",
   "version": "3.7.7"
  }
 },
 "nbformat": 4,
 "nbformat_minor": 4
}
