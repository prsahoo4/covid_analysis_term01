{
 "cells": [
  {
   "cell_type": "code",
   "execution_count": 14,
   "metadata": {},
   "outputs": [
    {
     "data": {
      "text/plain": [
       "['import skimage',\n",
       " 'from sklearn.model_selection import GridSearchCV',\n",
       " 'import lightgbm as lgb',\n",
       " 'from sklearn.linear_model import LinearRegression',\n",
       " 'import sklearn',\n",
       " 'from sklearn.model_selection import RandomizedSearchCV',\n",
       " 'from sklearn import metrics',\n",
       " 'from sklearn.linear_model import LogisticRegression',\n",
       " 'from scipy import signal as sg',\n",
       " 'import bokeh',\n",
       " 'import keras',\n",
       " 'import plotly.graph_objs as go',\n",
       " 'import imutils',\n",
       " 'from fbprophet import Prophet',\n",
       " 'from xlrd import open_workbook',\n",
       " 'import statistics',\n",
       " 'from sklearn.linear_model import RidgeCV',\n",
       " 'from sklearn.decomposition import PCA',\n",
       " 'from sklearn.cluster import KMeans',\n",
       " 'from dask import dataframe as dd',\n",
       " 'from sklearn.linear_model import ElasticNet',\n",
       " 'from sklearn.preprocessing import MinMaxScaler',\n",
       " 'import dash',\n",
       " 'from sklearn.ensemble import GradientBoostingRegressor',\n",
       " 'import plotly.express as px',\n",
       " 'import altair as alt',\n",
       " 'import sys',\n",
       " 'from openpyxl import load_workbook',\n",
       " 'import cv2',\n",
       " 'from sklearn.feature_extraction.text import TfidfVectorizer',\n",
       " 'import pydot',\n",
       " 'from sklearn.linear_model import LassoCV',\n",
       " 'import tensorflow as tf',\n",
       " 'import spacy',\n",
       " 'import glob',\n",
       " 'from sklearn.model_selection import train_test_split',\n",
       " 'import re',\n",
       " 'import awswrangler as wr',\n",
       " 'from sklearn.impute import SimpleImputer',\n",
       " 'from sklearn.ensemble import RandomForestClassifier',\n",
       " 'from sklearn.linear_model import ElasticNetCV',\n",
       " 'import tqdm',\n",
       " 'from sklearn.preprocessing import PolynomialFeatures',\n",
       " 'import numpy as np',\n",
       " 'from pyspark import SparkContext',\n",
       " 'from statsmodels.tsa.arima_model import ARIMA',\n",
       " 'from sklearn.preprocessing import RobustScaler',\n",
       " 'from sklearn.manifold import TSNE',\n",
       " 'from sklearn.model_selection import cross_val_score',\n",
       " 'from sklearn.ensemble import GradientBoostingClassifier',\n",
       " 'import xgboost as xgb',\n",
       " 'from pathlib import Path',\n",
       " 'from sklearn.linear_model import Lasso',\n",
       " 'import pickle',\n",
       " 'from PIL import Image',\n",
       " 'import statsmodels.api as sm',\n",
       " 'import os',\n",
       " 'from sklearn.model_selection import KFold',\n",
       " 'import gensim',\n",
       " 'from sklearn.preprocessing import StandardScaler',\n",
       " 'from sklearn.ensemble import RandomForestRegressor',\n",
       " 'from sklearn.preprocessing import LabelEncoder',\n",
       " 'import fbprophet',\n",
       " 'from sklearn.linear_model import Ridge',\n",
       " 'import nltk',\n",
       " 'import datetime as dt',\n",
       " 'import fastai',\n",
       " 'from sklearn import svm',\n",
       " 'from sklearn.feature_extraction.text import CountVectorizer',\n",
       " 'import torch',\n",
       " 'import textblob',\n",
       " 'from sklearn.model_selection import StratifiedKFold',\n",
       " 'import matplotlib as mpl',\n",
       " 'from scipy import stats',\n",
       " 'import plotly as py',\n",
       " 'from sklearn.preprocessing import OneHotEncoder']"
      ]
     },
     "execution_count": 14,
     "metadata": {},
     "output_type": "execute_result"
    }
   ],
   "source": [
    "from pyforest import *\n",
    "import warnings\n",
    "warnings.filterwarnings('ignore')\n",
    "lazy_imports()"
   ]
  },
  {
   "cell_type": "code",
   "execution_count": 15,
   "metadata": {},
   "outputs": [
    {
     "data": {
      "application/javascript": [
       "\n",
       "        if (window._pyforest_update_imports_cell) { window._pyforest_update_imports_cell('import pandas as pd\\nimport matplotlib.pyplot as plt\\nimport seaborn as sns'); }\n",
       "    "
      ],
      "text/plain": [
       "<IPython.core.display.Javascript object>"
      ]
     },
     "metadata": {},
     "output_type": "display_data"
    },
    {
     "data": {
      "text/html": [
       "<div>\n",
       "<style scoped>\n",
       "    .dataframe tbody tr th:only-of-type {\n",
       "        vertical-align: middle;\n",
       "    }\n",
       "\n",
       "    .dataframe tbody tr th {\n",
       "        vertical-align: top;\n",
       "    }\n",
       "\n",
       "    .dataframe thead th {\n",
       "        text-align: right;\n",
       "    }\n",
       "</style>\n",
       "<table border=\"1\" class=\"dataframe\">\n",
       "  <thead>\n",
       "    <tr style=\"text-align: right;\">\n",
       "      <th></th>\n",
       "      <th>date</th>\n",
       "      <th>county_fips</th>\n",
       "      <th>county_name</th>\n",
       "      <th>state_fips</th>\n",
       "      <th>state_name</th>\n",
       "      <th>covid_19_confirmed_cases</th>\n",
       "      <th>covid_19_deaths</th>\n",
       "      <th>social_distancing_total_grade</th>\n",
       "      <th>social_distancing_visitation_grade</th>\n",
       "      <th>social_distancing_encounters_grade</th>\n",
       "      <th>...</th>\n",
       "      <th>age_55_59</th>\n",
       "      <th>age_60_64</th>\n",
       "      <th>age_65_69</th>\n",
       "      <th>age_70_74</th>\n",
       "      <th>age_75_79</th>\n",
       "      <th>age_80_84</th>\n",
       "      <th>age_85_or_higher</th>\n",
       "      <th>immigrant_student_ratio</th>\n",
       "      <th>death_ratio</th>\n",
       "      <th>population_ratio_in_state</th>\n",
       "    </tr>\n",
       "  </thead>\n",
       "  <tbody>\n",
       "    <tr>\n",
       "      <th>0</th>\n",
       "      <td>2020/01/22</td>\n",
       "      <td>1003</td>\n",
       "      <td>Baldwin County</td>\n",
       "      <td>1</td>\n",
       "      <td>Alabama</td>\n",
       "      <td>0.0</td>\n",
       "      <td>0.0</td>\n",
       "      <td>F</td>\n",
       "      <td>F</td>\n",
       "      <td>F</td>\n",
       "      <td>...</td>\n",
       "      <td>7</td>\n",
       "      <td>7</td>\n",
       "      <td>6</td>\n",
       "      <td>4</td>\n",
       "      <td>3</td>\n",
       "      <td>2</td>\n",
       "      <td>2</td>\n",
       "      <td>0.021048</td>\n",
       "      <td>0.010811</td>\n",
       "      <td>4.46047</td>\n",
       "    </tr>\n",
       "    <tr>\n",
       "      <th>1</th>\n",
       "      <td>2020/01/23</td>\n",
       "      <td>1003</td>\n",
       "      <td>Baldwin County</td>\n",
       "      <td>1</td>\n",
       "      <td>Alabama</td>\n",
       "      <td>0.0</td>\n",
       "      <td>0.0</td>\n",
       "      <td>F</td>\n",
       "      <td>F</td>\n",
       "      <td>F</td>\n",
       "      <td>...</td>\n",
       "      <td>7</td>\n",
       "      <td>7</td>\n",
       "      <td>6</td>\n",
       "      <td>4</td>\n",
       "      <td>3</td>\n",
       "      <td>2</td>\n",
       "      <td>2</td>\n",
       "      <td>0.021048</td>\n",
       "      <td>0.010811</td>\n",
       "      <td>4.46047</td>\n",
       "    </tr>\n",
       "    <tr>\n",
       "      <th>2</th>\n",
       "      <td>2020/01/24</td>\n",
       "      <td>1003</td>\n",
       "      <td>Baldwin County</td>\n",
       "      <td>1</td>\n",
       "      <td>Alabama</td>\n",
       "      <td>0.0</td>\n",
       "      <td>0.0</td>\n",
       "      <td>F</td>\n",
       "      <td>F</td>\n",
       "      <td>F</td>\n",
       "      <td>...</td>\n",
       "      <td>7</td>\n",
       "      <td>7</td>\n",
       "      <td>6</td>\n",
       "      <td>4</td>\n",
       "      <td>3</td>\n",
       "      <td>2</td>\n",
       "      <td>2</td>\n",
       "      <td>0.021048</td>\n",
       "      <td>0.010811</td>\n",
       "      <td>4.46047</td>\n",
       "    </tr>\n",
       "    <tr>\n",
       "      <th>3</th>\n",
       "      <td>2020/01/25</td>\n",
       "      <td>1003</td>\n",
       "      <td>Baldwin County</td>\n",
       "      <td>1</td>\n",
       "      <td>Alabama</td>\n",
       "      <td>0.0</td>\n",
       "      <td>0.0</td>\n",
       "      <td>F</td>\n",
       "      <td>F</td>\n",
       "      <td>F</td>\n",
       "      <td>...</td>\n",
       "      <td>7</td>\n",
       "      <td>7</td>\n",
       "      <td>6</td>\n",
       "      <td>4</td>\n",
       "      <td>3</td>\n",
       "      <td>2</td>\n",
       "      <td>2</td>\n",
       "      <td>0.021048</td>\n",
       "      <td>0.010811</td>\n",
       "      <td>4.46047</td>\n",
       "    </tr>\n",
       "    <tr>\n",
       "      <th>4</th>\n",
       "      <td>2020/01/26</td>\n",
       "      <td>1003</td>\n",
       "      <td>Baldwin County</td>\n",
       "      <td>1</td>\n",
       "      <td>Alabama</td>\n",
       "      <td>0.0</td>\n",
       "      <td>0.0</td>\n",
       "      <td>F</td>\n",
       "      <td>F</td>\n",
       "      <td>F</td>\n",
       "      <td>...</td>\n",
       "      <td>7</td>\n",
       "      <td>7</td>\n",
       "      <td>6</td>\n",
       "      <td>4</td>\n",
       "      <td>3</td>\n",
       "      <td>2</td>\n",
       "      <td>2</td>\n",
       "      <td>0.021048</td>\n",
       "      <td>0.010811</td>\n",
       "      <td>4.46047</td>\n",
       "    </tr>\n",
       "  </tbody>\n",
       "</table>\n",
       "<p>5 rows × 64 columns</p>\n",
       "</div>"
      ],
      "text/plain": [
       "         date  county_fips     county_name  state_fips state_name  \\\n",
       "0  2020/01/22         1003  Baldwin County           1    Alabama   \n",
       "1  2020/01/23         1003  Baldwin County           1    Alabama   \n",
       "2  2020/01/24         1003  Baldwin County           1    Alabama   \n",
       "3  2020/01/25         1003  Baldwin County           1    Alabama   \n",
       "4  2020/01/26         1003  Baldwin County           1    Alabama   \n",
       "\n",
       "   covid_19_confirmed_cases  covid_19_deaths social_distancing_total_grade  \\\n",
       "0                       0.0              0.0                             F   \n",
       "1                       0.0              0.0                             F   \n",
       "2                       0.0              0.0                             F   \n",
       "3                       0.0              0.0                             F   \n",
       "4                       0.0              0.0                             F   \n",
       "\n",
       "  social_distancing_visitation_grade social_distancing_encounters_grade  ...  \\\n",
       "0                                  F                                  F  ...   \n",
       "1                                  F                                  F  ...   \n",
       "2                                  F                                  F  ...   \n",
       "3                                  F                                  F  ...   \n",
       "4                                  F                                  F  ...   \n",
       "\n",
       "  age_55_59  age_60_64  age_65_69  age_70_74  age_75_79  age_80_84  \\\n",
       "0         7          7          6          4          3          2   \n",
       "1         7          7          6          4          3          2   \n",
       "2         7          7          6          4          3          2   \n",
       "3         7          7          6          4          3          2   \n",
       "4         7          7          6          4          3          2   \n",
       "\n",
       "   age_85_or_higher  immigrant_student_ratio  death_ratio  \\\n",
       "0                 2                 0.021048     0.010811   \n",
       "1                 2                 0.021048     0.010811   \n",
       "2                 2                 0.021048     0.010811   \n",
       "3                 2                 0.021048     0.010811   \n",
       "4                 2                 0.021048     0.010811   \n",
       "\n",
       "   population_ratio_in_state  \n",
       "0                    4.46047  \n",
       "1                    4.46047  \n",
       "2                    4.46047  \n",
       "3                    4.46047  \n",
       "4                    4.46047  \n",
       "\n",
       "[5 rows x 64 columns]"
      ]
     },
     "execution_count": 15,
     "metadata": {},
     "output_type": "execute_result"
    }
   ],
   "source": [
    "# read dataset\n",
    "df_covid = pd.read_csv('dataset/imputed-data.csv',header = 0)\n",
    "df_covid.head()"
   ]
  },
  {
   "cell_type": "code",
   "execution_count": 16,
   "metadata": {},
   "outputs": [
    {
     "name": "stdout",
     "output_type": "stream",
     "text": [
      "<class 'pandas.core.frame.DataFrame'>\n",
      "RangeIndex: 992266 entries, 0 to 992265\n",
      "Data columns (total 64 columns):\n",
      " #   Column                                         Non-Null Count   Dtype  \n",
      "---  ------                                         --------------   -----  \n",
      " 0   date                                           992266 non-null  object \n",
      " 1   county_fips                                    992266 non-null  int64  \n",
      " 2   county_name                                    992266 non-null  object \n",
      " 3   state_fips                                     992266 non-null  int64  \n",
      " 4   state_name                                     992266 non-null  object \n",
      " 5   covid_19_confirmed_cases                       992266 non-null  float64\n",
      " 6   covid_19_deaths                                992266 non-null  float64\n",
      " 7   social_distancing_total_grade                  992266 non-null  object \n",
      " 8   social_distancing_visitation_grade             992266 non-null  object \n",
      " 9   social_distancing_encounters_grade             992266 non-null  object \n",
      " 10  social_distancing_travel_distance_grade        992266 non-null  object \n",
      " 11  retail_and_recreation_mobility_percent_change  992266 non-null  float64\n",
      " 12  grocery_and_pharmacy_mobility_percent_change   992266 non-null  float64\n",
      " 13  workplaces_mobility_percent_change             992266 non-null  float64\n",
      " 14  daily_state_test                               992266 non-null  float64\n",
      " 15  precipitation                                  992266 non-null  float64\n",
      " 16  temperature                                    992266 non-null  float64\n",
      " 17  percent_of_vaccinated_residents                992266 non-null  float64\n",
      " 18  virus_pressure                                 992266 non-null  float64\n",
      " 19  total_population                               992266 non-null  int64  \n",
      " 20  proportion_female                              992266 non-null  float64\n",
      " 21  area                                           992266 non-null  float64\n",
      " 22  population_density                             992266 non-null  float64\n",
      " 23  latitude                                       992266 non-null  float64\n",
      " 24  longitude                                      992266 non-null  float64\n",
      " 25  hospital_beds_ratio                            992266 non-null  float64\n",
      " 26  ventilator_capacity_ratio                      992266 non-null  float64\n",
      " 27  intensive_care_unit_(ICU)_bed_ratio            992266 non-null  float64\n",
      " 28  housing_density                                992266 non-null  float64\n",
      " 29  less_than_high_school_diploma                  992266 non-null  float64\n",
      " 30  high_school_diploma_only                       992266 non-null  float64\n",
      " 31  some_college_or_higher                         992266 non-null  float64\n",
      " 32  academic_population_ratio                      992266 non-null  float64\n",
      " 33  percent_of_smokers                             992266 non-null  float64\n",
      " 34  percent_of_diabetes                            992266 non-null  float64\n",
      " 35  religious_congregation_ratio                   992266 non-null  float64\n",
      " 36  political_party                                992266 non-null  int64  \n",
      " 37  airport_distance                               992266 non-null  float64\n",
      " 38  passenger_load_ratio                           992266 non-null  float64\n",
      " 39  number_of_meat_plants                          992266 non-null  int64  \n",
      " 40  median_household_income                        992266 non-null  int64  \n",
      " 41  percent_of_insured_residents                   992266 non-null  float64\n",
      " 42  gdp_per_capita                                 992266 non-null  float64\n",
      " 43  age_0_4                                        992266 non-null  int64  \n",
      " 44  age_5_9                                        992266 non-null  int64  \n",
      " 45  age_10_14                                      992266 non-null  int64  \n",
      " 46  age_15_19                                      992266 non-null  int64  \n",
      " 47  age_20_24                                      992266 non-null  int64  \n",
      " 48  age_25_29                                      992266 non-null  int64  \n",
      " 49  age_30_34                                      992266 non-null  int64  \n",
      " 50  age_35_39                                      992266 non-null  int64  \n",
      " 51  age_40_44                                      992266 non-null  int64  \n",
      " 52  age_45_49                                      992266 non-null  int64  \n",
      " 53  age_50_54                                      992266 non-null  int64  \n",
      " 54  age_55_59                                      992266 non-null  int64  \n",
      " 55  age_60_64                                      992266 non-null  int64  \n",
      " 56  age_65_69                                      992266 non-null  int64  \n",
      " 57  age_70_74                                      992266 non-null  int64  \n",
      " 58  age_75_79                                      992266 non-null  int64  \n",
      " 59  age_80_84                                      992266 non-null  int64  \n",
      " 60  age_85_or_higher                               992266 non-null  int64  \n",
      " 61  immigrant_student_ratio                        992266 non-null  float64\n",
      " 62  death_ratio                                    992266 non-null  float64\n",
      " 63  population_ratio_in_state                      992266 non-null  float64\n",
      "dtypes: float64(33), int64(24), object(7)\n",
      "memory usage: 484.5+ MB\n"
     ]
    }
   ],
   "source": [
    "# df_informations\n",
    "df_covid.info()"
   ]
  },
  {
   "cell_type": "code",
   "execution_count": 17,
   "metadata": {},
   "outputs": [
    {
     "data": {
      "application/javascript": [
       "\n",
       "        if (window._pyforest_update_imports_cell) { window._pyforest_update_imports_cell('import pandas as pd\\nimport matplotlib.pyplot as plt\\nimport seaborn as sns'); }\n",
       "    "
      ],
      "text/plain": [
       "<IPython.core.display.Javascript object>"
      ]
     },
     "metadata": {},
     "output_type": "display_data"
    },
    {
     "data": {
      "text/plain": [
       "0   2020-01-22\n",
       "1   2020-01-23\n",
       "2   2020-01-24\n",
       "3   2020-01-25\n",
       "4   2020-01-26\n",
       "Name: date, dtype: datetime64[ns]"
      ]
     },
     "execution_count": 17,
     "metadata": {},
     "output_type": "execute_result"
    }
   ],
   "source": [
    "# date as date format\n",
    "df_covid['date'] = pd.to_datetime(df_covid['date'])\n",
    "df_covid['date'].head()"
   ]
  },
  {
   "cell_type": "code",
   "execution_count": 18,
   "metadata": {},
   "outputs": [
    {
     "data": {
      "application/javascript": [
       "\n",
       "        if (window._pyforest_update_imports_cell) { window._pyforest_update_imports_cell('import pandas as pd\\nimport matplotlib.pyplot as plt\\nimport seaborn as sns'); }\n",
       "    "
      ],
      "text/plain": [
       "<IPython.core.display.Javascript object>"
      ]
     },
     "metadata": {},
     "output_type": "display_data"
    },
    {
     "data": {
      "application/javascript": [
       "\n",
       "        if (window._pyforest_update_imports_cell) { window._pyforest_update_imports_cell('import pandas as pd\\nimport matplotlib.pyplot as plt\\nimport seaborn as sns'); }\n",
       "    "
      ],
      "text/plain": [
       "<IPython.core.display.Javascript object>"
      ]
     },
     "metadata": {},
     "output_type": "display_data"
    },
    {
     "data": {
      "application/javascript": [
       "\n",
       "        if (window._pyforest_update_imports_cell) { window._pyforest_update_imports_cell('import pandas as pd\\nimport matplotlib.pyplot as plt\\nimport seaborn as sns'); }\n",
       "    "
      ],
      "text/plain": [
       "<IPython.core.display.Javascript object>"
      ]
     },
     "metadata": {},
     "output_type": "display_data"
    },
    {
     "data": {
      "text/plain": [
       "<AxesSubplot:xlabel='date', ylabel='covid_19_confirmed_cases'>"
      ]
     },
     "execution_count": 18,
     "metadata": {},
     "output_type": "execute_result"
    },
    {
     "data": {
      "image/png": "[encoded data removed]",
      "text/plain": [
       "<Figure size 864x432 with 1 Axes>"
      ]
     },
     "metadata": {
      "needs_background": "light"
     },
     "output_type": "display_data"
    }
   ],
   "source": [
    "plt.figure(figsize = (12,6))\n",
    "sns.lineplot(x = 'date', y = 'covid_19_confirmed_cases', data = df_covid)\n",
    "sns.lineplot(x = 'date', y = 'temperature', data = df_covid)"
   ]
  },
  {
   "cell_type": "code",
   "execution_count": 19,
   "metadata": {},
   "outputs": [
    {
     "data": {
      "text/plain": [
       "['California',\n",
       " 'Texas',\n",
       " 'Florida',\n",
       " 'New York',\n",
       " 'Pennsylvania',\n",
       " 'Illinois',\n",
       " 'North Carolina',\n",
       " 'Ohio',\n",
       " 'Michigan',\n",
       " 'New Jersey']"
      ]
     },
     "execution_count": 19,
     "metadata": {},
     "output_type": "execute_result"
    }
   ],
   "source": [
    "# top high POPULATED counties\n",
    "high_case = df_covid[df_covid['date'] == '2020-02-01'].groupby(['state_name'])[\n",
    "    'total_population'].sum().sort_values(ascending = False)\n",
    "high_case_10 = list(high_case.index[:10])\n",
    "high_case_10"
   ]
  },
  {
   "cell_type": "code",
   "execution_count": 20,
   "metadata": {},
   "outputs": [
    {
     "data": {
      "text/plain": [
       "['Wyoming',\n",
       " 'Vermont',\n",
       " 'North Dakota',\n",
       " 'South Dakota',\n",
       " 'Montana',\n",
       " 'Delaware',\n",
       " 'Rhode Island',\n",
       " 'Maine',\n",
       " 'New Hampshire',\n",
       " 'West Virginia']"
      ]
     },
     "execution_count": 20,
     "metadata": {},
     "output_type": "execute_result"
    }
   ],
   "source": [
    "# top low POPULATED counties\n",
    "low_case = df_covid[df_covid['date'] == '2020-02-01'].groupby(['state_name'])[\n",
    "    'total_population'].sum().sort_values(ascending = True)\n",
    "low_case_10 = list(low_case.index[:10])\n",
    "low_case_10"
   ]
  },
  {
   "cell_type": "code",
   "execution_count": 21,
   "metadata": {},
   "outputs": [
    {
     "data": {
      "application/javascript": [
       "\n",
       "        if (window._pyforest_update_imports_cell) { window._pyforest_update_imports_cell('import pandas as pd\\nimport matplotlib.pyplot as plt\\nimport seaborn as sns'); }\n",
       "    "
      ],
      "text/plain": [
       "<IPython.core.display.Javascript object>"
      ]
     },
     "metadata": {},
     "output_type": "display_data"
    },
    {
     "data": {
      "application/javascript": [
       "\n",
       "        if (window._pyforest_update_imports_cell) { window._pyforest_update_imports_cell('import pandas as pd\\nimport matplotlib.pyplot as plt\\nimport seaborn as sns'); }\n",
       "    "
      ],
      "text/plain": [
       "<IPython.core.display.Javascript object>"
      ]
     },
     "metadata": {},
     "output_type": "display_data"
    },
    {
     "data": {
      "application/javascript": [
       "\n",
       "        if (window._pyforest_update_imports_cell) { window._pyforest_update_imports_cell('import pandas as pd\\nimport matplotlib.pyplot as plt\\nimport seaborn as sns'); }\n",
       "    "
      ],
      "text/plain": [
       "<IPython.core.display.Javascript object>"
      ]
     },
     "metadata": {},
     "output_type": "display_data"
    }
   ],
   "source": [
    "# feature engineering\n",
    "df_covid['median_household_income_bins'] = pd.qcut(df_covid['median_household_income'],q = 5)\n",
    "df_covid['smoker_bins'] = pd.qcut(df_covid['percent_of_smokers'],q = 13)\n",
    "df_covid['diabetes_bins'] = pd.qcut(df_covid['percent_of_diabetes'],q = 7)"
   ]
  },
  {
   "cell_type": "code",
   "execution_count": 32,
   "metadata": {},
   "outputs": [],
   "source": [
    "# top states filter\n",
    "top_states = df_covid[df_covid['state_name'].isin(high_case_10)]"
   ]
  },
  {
   "cell_type": "code",
   "execution_count": 48,
   "metadata": {},
   "outputs": [
    {
     "data": {
      "application/javascript": [
       "\n",
       "        if (window._pyforest_update_imports_cell) { window._pyforest_update_imports_cell('import pandas as pd\\nimport matplotlib.pyplot as plt\\nimport seaborn as sns'); }\n",
       "    "
      ],
      "text/plain": [
       "<IPython.core.display.Javascript object>"
      ]
     },
     "metadata": {},
     "output_type": "display_data"
    },
    {
     "data": {
      "application/javascript": [
       "\n",
       "        if (window._pyforest_update_imports_cell) { window._pyforest_update_imports_cell('import pandas as pd\\nimport matplotlib.pyplot as plt\\nimport seaborn as sns'); }\n",
       "    "
      ],
      "text/plain": [
       "<IPython.core.display.Javascript object>"
      ]
     },
     "metadata": {},
     "output_type": "display_data"
    },
    {
     "data": {
      "application/javascript": [
       "\n",
       "        if (window._pyforest_update_imports_cell) { window._pyforest_update_imports_cell('import pandas as pd\\nimport matplotlib.pyplot as plt\\nimport seaborn as sns'); }\n",
       "    "
      ],
      "text/plain": [
       "<IPython.core.display.Javascript object>"
      ]
     },
     "metadata": {},
     "output_type": "display_data"
    },
    {
     "data": {
      "application/javascript": [
       "\n",
       "        if (window._pyforest_update_imports_cell) { window._pyforest_update_imports_cell('import pandas as pd\\nimport matplotlib.pyplot as plt\\nimport seaborn as sns'); }\n",
       "    "
      ],
      "text/plain": [
       "<IPython.core.display.Javascript object>"
      ]
     },
     "metadata": {},
     "output_type": "display_data"
    },
    {
     "data": {
      "application/javascript": [
       "\n",
       "        if (window._pyforest_update_imports_cell) { window._pyforest_update_imports_cell('import pandas as pd\\nimport matplotlib.pyplot as plt\\nimport seaborn as sns'); }\n",
       "    "
      ],
      "text/plain": [
       "<IPython.core.display.Javascript object>"
      ]
     },
     "metadata": {},
     "output_type": "display_data"
    },
    {
     "data": {
      "application/javascript": [
       "\n",
       "        if (window._pyforest_update_imports_cell) { window._pyforest_update_imports_cell('import pandas as pd\\nimport matplotlib.pyplot as plt\\nimport seaborn as sns'); }\n",
       "    "
      ],
      "text/plain": [
       "<IPython.core.display.Javascript object>"
      ]
     },
     "metadata": {},
     "output_type": "display_data"
    },
    {
     "data": {
      "application/javascript": [
       "\n",
       "        if (window._pyforest_update_imports_cell) { window._pyforest_update_imports_cell('import pandas as pd\\nimport matplotlib.pyplot as plt\\nimport seaborn as sns'); }\n",
       "    "
      ],
      "text/plain": [
       "<IPython.core.display.Javascript object>"
      ]
     },
     "metadata": {},
     "output_type": "display_data"
    },
    {
     "data": {
      "application/javascript": [
       "\n",
       "        if (window._pyforest_update_imports_cell) { window._pyforest_update_imports_cell('import pandas as pd\\nimport matplotlib.pyplot as plt\\nimport seaborn as sns'); }\n",
       "    "
      ],
      "text/plain": [
       "<IPython.core.display.Javascript object>"
      ]
     },
     "metadata": {},
     "output_type": "display_data"
    },
    {
     "data": {
      "application/javascript": [
       "\n",
       "        if (window._pyforest_update_imports_cell) { window._pyforest_update_imports_cell('import pandas as pd\\nimport matplotlib.pyplot as plt\\nimport seaborn as sns'); }\n",
       "    "
      ],
      "text/plain": [
       "<IPython.core.display.Javascript object>"
      ]
     },
     "metadata": {},
     "output_type": "display_data"
    },
    {
     "data": {
      "application/javascript": [
       "\n",
       "        if (window._pyforest_update_imports_cell) { window._pyforest_update_imports_cell('import pandas as pd\\nimport matplotlib.pyplot as plt\\nimport seaborn as sns'); }\n",
       "    "
      ],
      "text/plain": [
       "<IPython.core.display.Javascript object>"
      ]
     },
     "metadata": {},
     "output_type": "display_data"
    },
    {
     "data": {
      "application/javascript": [
       "\n",
       "        if (window._pyforest_update_imports_cell) { window._pyforest_update_imports_cell('import pandas as pd\\nimport matplotlib.pyplot as plt\\nimport seaborn as sns'); }\n",
       "    "
      ],
      "text/plain": [
       "<IPython.core.display.Javascript object>"
      ]
     },
     "metadata": {},
     "output_type": "display_data"
    },
    {
     "data": {
      "application/javascript": [
       "\n",
       "        if (window._pyforest_update_imports_cell) { window._pyforest_update_imports_cell('import pandas as pd\\nimport matplotlib.pyplot as plt\\nimport seaborn as sns'); }\n",
       "    "
      ],
      "text/plain": [
       "<IPython.core.display.Javascript object>"
      ]
     },
     "metadata": {},
     "output_type": "display_data"
    },
    {
     "data": {
      "application/javascript": [
       "\n",
       "        if (window._pyforest_update_imports_cell) { window._pyforest_update_imports_cell('import pandas as pd\\nimport matplotlib.pyplot as plt\\nimport seaborn as sns'); }\n",
       "    "
      ],
      "text/plain": [
       "<IPython.core.display.Javascript object>"
      ]
     },
     "metadata": {},
     "output_type": "display_data"
    },
    {
     "data": {
      "application/javascript": [
       "\n",
       "        if (window._pyforest_update_imports_cell) { window._pyforest_update_imports_cell('import pandas as pd\\nimport matplotlib.pyplot as plt\\nimport seaborn as sns'); }\n",
       "    "
      ],
      "text/plain": [
       "<IPython.core.display.Javascript object>"
      ]
     },
     "metadata": {},
     "output_type": "display_data"
    },
    {
     "data": {
      "application/javascript": [
       "\n",
       "        if (window._pyforest_update_imports_cell) { window._pyforest_update_imports_cell('import pandas as pd\\nimport matplotlib.pyplot as plt\\nimport seaborn as sns'); }\n",
       "    "
      ],
      "text/plain": [
       "<IPython.core.display.Javascript object>"
      ]
     },
     "metadata": {},
     "output_type": "display_data"
    },
    {
     "data": {
      "application/javascript": [
       "\n",
       "        if (window._pyforest_update_imports_cell) { window._pyforest_update_imports_cell('import pandas as pd\\nimport matplotlib.pyplot as plt\\nimport seaborn as sns'); }\n",
       "    "
      ],
      "text/plain": [
       "<IPython.core.display.Javascript object>"
      ]
     },
     "metadata": {},
     "output_type": "display_data"
    },
    {
     "data": {
      "application/javascript": [
       "\n",
       "        if (window._pyforest_update_imports_cell) { window._pyforest_update_imports_cell('import pandas as pd\\nimport matplotlib.pyplot as plt\\nimport seaborn as sns'); }\n",
       "    "
      ],
      "text/plain": [
       "<IPython.core.display.Javascript object>"
      ]
     },
     "metadata": {},
     "output_type": "display_data"
    },
    {
     "data": {
      "application/javascript": [
       "\n",
       "        if (window._pyforest_update_imports_cell) { window._pyforest_update_imports_cell('import pandas as pd\\nimport matplotlib.pyplot as plt\\nimport seaborn as sns'); }\n",
       "    "
      ],
      "text/plain": [
       "<IPython.core.display.Javascript object>"
      ]
     },
     "metadata": {},
     "output_type": "display_data"
    },
    {
     "data": {
      "application/javascript": [
       "\n",
       "        if (window._pyforest_update_imports_cell) { window._pyforest_update_imports_cell('import pandas as pd\\nimport matplotlib.pyplot as plt\\nimport seaborn as sns'); }\n",
       "    "
      ],
      "text/plain": [
       "<IPython.core.display.Javascript object>"
      ]
     },
     "metadata": {},
     "output_type": "display_data"
    },
    {
     "data": {
      "application/javascript": [
       "\n",
       "        if (window._pyforest_update_imports_cell) { window._pyforest_update_imports_cell('import pandas as pd\\nimport matplotlib.pyplot as plt\\nimport seaborn as sns'); }\n",
       "    "
      ],
      "text/plain": [
       "<IPython.core.display.Javascript object>"
      ]
     },
     "metadata": {},
     "output_type": "display_data"
    }
   ],
   "source": [
    "# create individual df for states\n",
    "from darts import TimeSeries\n",
    "state_df = {}\n",
    "for state in high_case_10:\n",
    "    state_df[state] = pd.DataFrame(data = top_states[top_states['state_name'] == state])\n",
    "    state_df[state] = state_df[state].set_index('date')\n",
    "    state_df[state].index = pd.DatetimeIndex(state_df[state].index)"
   ]
  },
  {
   "cell_type": "code",
   "execution_count": 46,
   "metadata": {},
   "outputs": [
    {
     "data": {
      "application/javascript": [
       "\n",
       "        if (window._pyforest_update_imports_cell) { window._pyforest_update_imports_cell('import pandas as pd\\nimport matplotlib.pyplot as plt\\nimport seaborn as sns'); }\n",
       "    "
      ],
      "text/plain": [
       "<IPython.core.display.Javascript object>"
      ]
     },
     "metadata": {},
     "output_type": "display_data"
    }
   ],
   "source": []
  },
  {
   "cell_type": "code",
   "execution_count": 49,
   "metadata": {},
   "outputs": [
    {
     "data": {
      "text/html": [
       "<div>\n",
       "<style scoped>\n",
       "    .dataframe tbody tr th:only-of-type {\n",
       "        vertical-align: middle;\n",
       "    }\n",
       "\n",
       "    .dataframe tbody tr th {\n",
       "        vertical-align: top;\n",
       "    }\n",
       "\n",
       "    .dataframe thead th {\n",
       "        text-align: right;\n",
       "    }\n",
       "</style>\n",
       "<table border=\"1\" class=\"dataframe\">\n",
       "  <thead>\n",
       "    <tr style=\"text-align: right;\">\n",
       "      <th></th>\n",
       "      <th>county_fips</th>\n",
       "      <th>county_name</th>\n",
       "      <th>state_fips</th>\n",
       "      <th>state_name</th>\n",
       "      <th>covid_19_confirmed_cases</th>\n",
       "      <th>covid_19_deaths</th>\n",
       "      <th>social_distancing_total_grade</th>\n",
       "      <th>social_distancing_visitation_grade</th>\n",
       "      <th>social_distancing_encounters_grade</th>\n",
       "      <th>social_distancing_travel_distance_grade</th>\n",
       "      <th>...</th>\n",
       "      <th>age_70_74</th>\n",
       "      <th>age_75_79</th>\n",
       "      <th>age_80_84</th>\n",
       "      <th>age_85_or_higher</th>\n",
       "      <th>immigrant_student_ratio</th>\n",
       "      <th>death_ratio</th>\n",
       "      <th>population_ratio_in_state</th>\n",
       "      <th>median_household_income_bins</th>\n",
       "      <th>smoker_bins</th>\n",
       "      <th>diabetes_bins</th>\n",
       "    </tr>\n",
       "    <tr>\n",
       "      <th>date</th>\n",
       "      <th></th>\n",
       "      <th></th>\n",
       "      <th></th>\n",
       "      <th></th>\n",
       "      <th></th>\n",
       "      <th></th>\n",
       "      <th></th>\n",
       "      <th></th>\n",
       "      <th></th>\n",
       "      <th></th>\n",
       "      <th></th>\n",
       "      <th></th>\n",
       "      <th></th>\n",
       "      <th></th>\n",
       "      <th></th>\n",
       "      <th></th>\n",
       "      <th></th>\n",
       "      <th></th>\n",
       "      <th></th>\n",
       "      <th></th>\n",
       "      <th></th>\n",
       "    </tr>\n",
       "  </thead>\n",
       "  <tbody>\n",
       "    <tr>\n",
       "      <th>2020-01-22</th>\n",
       "      <td>6001</td>\n",
       "      <td>Alameda County</td>\n",
       "      <td>6</td>\n",
       "      <td>California</td>\n",
       "      <td>0.0</td>\n",
       "      <td>0.0</td>\n",
       "      <td>F</td>\n",
       "      <td>F</td>\n",
       "      <td>F</td>\n",
       "      <td>F</td>\n",
       "      <td>...</td>\n",
       "      <td>3</td>\n",
       "      <td>2</td>\n",
       "      <td>2</td>\n",
       "      <td>2</td>\n",
       "      <td>0.023503</td>\n",
       "      <td>0.005964</td>\n",
       "      <td>4.213543</td>\n",
       "      <td>(62937.0, 140382.0]</td>\n",
       "      <td>(5.9079999999999995, 13.01]</td>\n",
       "      <td>(1.899, 8.2]</td>\n",
       "    </tr>\n",
       "    <tr>\n",
       "      <th>2020-01-23</th>\n",
       "      <td>6001</td>\n",
       "      <td>Alameda County</td>\n",
       "      <td>6</td>\n",
       "      <td>California</td>\n",
       "      <td>0.0</td>\n",
       "      <td>0.0</td>\n",
       "      <td>F</td>\n",
       "      <td>F</td>\n",
       "      <td>F</td>\n",
       "      <td>F</td>\n",
       "      <td>...</td>\n",
       "      <td>3</td>\n",
       "      <td>2</td>\n",
       "      <td>2</td>\n",
       "      <td>2</td>\n",
       "      <td>0.023503</td>\n",
       "      <td>0.005964</td>\n",
       "      <td>4.213543</td>\n",
       "      <td>(62937.0, 140382.0]</td>\n",
       "      <td>(5.9079999999999995, 13.01]</td>\n",
       "      <td>(1.899, 8.2]</td>\n",
       "    </tr>\n",
       "    <tr>\n",
       "      <th>2020-01-24</th>\n",
       "      <td>6001</td>\n",
       "      <td>Alameda County</td>\n",
       "      <td>6</td>\n",
       "      <td>California</td>\n",
       "      <td>0.0</td>\n",
       "      <td>0.0</td>\n",
       "      <td>F</td>\n",
       "      <td>F</td>\n",
       "      <td>F</td>\n",
       "      <td>F</td>\n",
       "      <td>...</td>\n",
       "      <td>3</td>\n",
       "      <td>2</td>\n",
       "      <td>2</td>\n",
       "      <td>2</td>\n",
       "      <td>0.023503</td>\n",
       "      <td>0.005964</td>\n",
       "      <td>4.213543</td>\n",
       "      <td>(62937.0, 140382.0]</td>\n",
       "      <td>(5.9079999999999995, 13.01]</td>\n",
       "      <td>(1.899, 8.2]</td>\n",
       "    </tr>\n",
       "    <tr>\n",
       "      <th>2020-01-25</th>\n",
       "      <td>6001</td>\n",
       "      <td>Alameda County</td>\n",
       "      <td>6</td>\n",
       "      <td>California</td>\n",
       "      <td>0.0</td>\n",
       "      <td>0.0</td>\n",
       "      <td>F</td>\n",
       "      <td>F</td>\n",
       "      <td>F</td>\n",
       "      <td>F</td>\n",
       "      <td>...</td>\n",
       "      <td>3</td>\n",
       "      <td>2</td>\n",
       "      <td>2</td>\n",
       "      <td>2</td>\n",
       "      <td>0.023503</td>\n",
       "      <td>0.005964</td>\n",
       "      <td>4.213543</td>\n",
       "      <td>(62937.0, 140382.0]</td>\n",
       "      <td>(5.9079999999999995, 13.01]</td>\n",
       "      <td>(1.899, 8.2]</td>\n",
       "    </tr>\n",
       "    <tr>\n",
       "      <th>2020-01-26</th>\n",
       "      <td>6001</td>\n",
       "      <td>Alameda County</td>\n",
       "      <td>6</td>\n",
       "      <td>California</td>\n",
       "      <td>0.0</td>\n",
       "      <td>0.0</td>\n",
       "      <td>F</td>\n",
       "      <td>F</td>\n",
       "      <td>F</td>\n",
       "      <td>F</td>\n",
       "      <td>...</td>\n",
       "      <td>3</td>\n",
       "      <td>2</td>\n",
       "      <td>2</td>\n",
       "      <td>2</td>\n",
       "      <td>0.023503</td>\n",
       "      <td>0.005964</td>\n",
       "      <td>4.213543</td>\n",
       "      <td>(62937.0, 140382.0]</td>\n",
       "      <td>(5.9079999999999995, 13.01]</td>\n",
       "      <td>(1.899, 8.2]</td>\n",
       "    </tr>\n",
       "    <tr>\n",
       "      <th>...</th>\n",
       "      <td>...</td>\n",
       "      <td>...</td>\n",
       "      <td>...</td>\n",
       "      <td>...</td>\n",
       "      <td>...</td>\n",
       "      <td>...</td>\n",
       "      <td>...</td>\n",
       "      <td>...</td>\n",
       "      <td>...</td>\n",
       "      <td>...</td>\n",
       "      <td>...</td>\n",
       "      <td>...</td>\n",
       "      <td>...</td>\n",
       "      <td>...</td>\n",
       "      <td>...</td>\n",
       "      <td>...</td>\n",
       "      <td>...</td>\n",
       "      <td>...</td>\n",
       "      <td>...</td>\n",
       "      <td>...</td>\n",
       "      <td>...</td>\n",
       "    </tr>\n",
       "    <tr>\n",
       "      <th>2021-06-06</th>\n",
       "      <td>6115</td>\n",
       "      <td>Yuba County</td>\n",
       "      <td>6</td>\n",
       "      <td>California</td>\n",
       "      <td>3.0</td>\n",
       "      <td>0.0</td>\n",
       "      <td>F</td>\n",
       "      <td>F</td>\n",
       "      <td>F</td>\n",
       "      <td>F</td>\n",
       "      <td>...</td>\n",
       "      <td>3</td>\n",
       "      <td>2</td>\n",
       "      <td>1</td>\n",
       "      <td>1</td>\n",
       "      <td>0.027216</td>\n",
       "      <td>0.008636</td>\n",
       "      <td>0.197287</td>\n",
       "      <td>(43585.0, 49161.0]</td>\n",
       "      <td>(14.144, 14.813]</td>\n",
       "      <td>(10.9, 12.1]</td>\n",
       "    </tr>\n",
       "    <tr>\n",
       "      <th>2021-06-07</th>\n",
       "      <td>6115</td>\n",
       "      <td>Yuba County</td>\n",
       "      <td>6</td>\n",
       "      <td>California</td>\n",
       "      <td>9.0</td>\n",
       "      <td>0.0</td>\n",
       "      <td>F</td>\n",
       "      <td>F</td>\n",
       "      <td>D</td>\n",
       "      <td>F</td>\n",
       "      <td>...</td>\n",
       "      <td>3</td>\n",
       "      <td>2</td>\n",
       "      <td>1</td>\n",
       "      <td>1</td>\n",
       "      <td>0.027216</td>\n",
       "      <td>0.008636</td>\n",
       "      <td>0.197287</td>\n",
       "      <td>(43585.0, 49161.0]</td>\n",
       "      <td>(14.144, 14.813]</td>\n",
       "      <td>(10.9, 12.1]</td>\n",
       "    </tr>\n",
       "    <tr>\n",
       "      <th>2021-06-08</th>\n",
       "      <td>6115</td>\n",
       "      <td>Yuba County</td>\n",
       "      <td>6</td>\n",
       "      <td>California</td>\n",
       "      <td>3.0</td>\n",
       "      <td>0.0</td>\n",
       "      <td>F</td>\n",
       "      <td>F</td>\n",
       "      <td>D</td>\n",
       "      <td>F</td>\n",
       "      <td>...</td>\n",
       "      <td>3</td>\n",
       "      <td>2</td>\n",
       "      <td>1</td>\n",
       "      <td>1</td>\n",
       "      <td>0.027216</td>\n",
       "      <td>0.008636</td>\n",
       "      <td>0.197287</td>\n",
       "      <td>(43585.0, 49161.0]</td>\n",
       "      <td>(14.144, 14.813]</td>\n",
       "      <td>(10.9, 12.1]</td>\n",
       "    </tr>\n",
       "    <tr>\n",
       "      <th>2021-06-09</th>\n",
       "      <td>6115</td>\n",
       "      <td>Yuba County</td>\n",
       "      <td>6</td>\n",
       "      <td>California</td>\n",
       "      <td>4.0</td>\n",
       "      <td>1.0</td>\n",
       "      <td>F</td>\n",
       "      <td>F</td>\n",
       "      <td>D</td>\n",
       "      <td>F</td>\n",
       "      <td>...</td>\n",
       "      <td>3</td>\n",
       "      <td>2</td>\n",
       "      <td>1</td>\n",
       "      <td>1</td>\n",
       "      <td>0.027216</td>\n",
       "      <td>0.008636</td>\n",
       "      <td>0.197287</td>\n",
       "      <td>(43585.0, 49161.0]</td>\n",
       "      <td>(14.144, 14.813]</td>\n",
       "      <td>(10.9, 12.1]</td>\n",
       "    </tr>\n",
       "    <tr>\n",
       "      <th>2021-06-10</th>\n",
       "      <td>6115</td>\n",
       "      <td>Yuba County</td>\n",
       "      <td>6</td>\n",
       "      <td>California</td>\n",
       "      <td>6.0</td>\n",
       "      <td>0.0</td>\n",
       "      <td>F</td>\n",
       "      <td>F</td>\n",
       "      <td>D</td>\n",
       "      <td>F</td>\n",
       "      <td>...</td>\n",
       "      <td>3</td>\n",
       "      <td>2</td>\n",
       "      <td>1</td>\n",
       "      <td>1</td>\n",
       "      <td>0.027216</td>\n",
       "      <td>0.008636</td>\n",
       "      <td>0.197287</td>\n",
       "      <td>(43585.0, 49161.0]</td>\n",
       "      <td>(14.144, 14.813]</td>\n",
       "      <td>(10.9, 12.1]</td>\n",
       "    </tr>\n",
       "  </tbody>\n",
       "</table>\n",
       "<p>27324 rows × 66 columns</p>\n",
       "</div>"
      ],
      "text/plain": [
       "            county_fips     county_name  state_fips  state_name  \\\n",
       "date                                                              \n",
       "2020-01-22         6001  Alameda County           6  California   \n",
       "2020-01-23         6001  Alameda County           6  California   \n",
       "2020-01-24         6001  Alameda County           6  California   \n",
       "2020-01-25         6001  Alameda County           6  California   \n",
       "2020-01-26         6001  Alameda County           6  California   \n",
       "...                 ...             ...         ...         ...   \n",
       "2021-06-06         6115     Yuba County           6  California   \n",
       "2021-06-07         6115     Yuba County           6  California   \n",
       "2021-06-08         6115     Yuba County           6  California   \n",
       "2021-06-09         6115     Yuba County           6  California   \n",
       "2021-06-10         6115     Yuba County           6  California   \n",
       "\n",
       "            covid_19_confirmed_cases  covid_19_deaths  \\\n",
       "date                                                    \n",
       "2020-01-22                       0.0              0.0   \n",
       "2020-01-23                       0.0              0.0   \n",
       "2020-01-24                       0.0              0.0   \n",
       "2020-01-25                       0.0              0.0   \n",
       "2020-01-26                       0.0              0.0   \n",
       "...                              ...              ...   \n",
       "2021-06-06                       3.0              0.0   \n",
       "2021-06-07                       9.0              0.0   \n",
       "2021-06-08                       3.0              0.0   \n",
       "2021-06-09                       4.0              1.0   \n",
       "2021-06-10                       6.0              0.0   \n",
       "\n",
       "           social_distancing_total_grade social_distancing_visitation_grade  \\\n",
       "date                                                                          \n",
       "2020-01-22                             F                                  F   \n",
       "2020-01-23                             F                                  F   \n",
       "2020-01-24                             F                                  F   \n",
       "2020-01-25                             F                                  F   \n",
       "2020-01-26                             F                                  F   \n",
       "...                                  ...                                ...   \n",
       "2021-06-06                             F                                  F   \n",
       "2021-06-07                             F                                  F   \n",
       "2021-06-08                             F                                  F   \n",
       "2021-06-09                             F                                  F   \n",
       "2021-06-10                             F                                  F   \n",
       "\n",
       "           social_distancing_encounters_grade  \\\n",
       "date                                            \n",
       "2020-01-22                                  F   \n",
       "2020-01-23                                  F   \n",
       "2020-01-24                                  F   \n",
       "2020-01-25                                  F   \n",
       "2020-01-26                                  F   \n",
       "...                                       ...   \n",
       "2021-06-06                                  F   \n",
       "2021-06-07                                  D   \n",
       "2021-06-08                                  D   \n",
       "2021-06-09                                  D   \n",
       "2021-06-10                                  D   \n",
       "\n",
       "           social_distancing_travel_distance_grade  ...  age_70_74  age_75_79  \\\n",
       "date                                                ...                         \n",
       "2020-01-22                                       F  ...          3          2   \n",
       "2020-01-23                                       F  ...          3          2   \n",
       "2020-01-24                                       F  ...          3          2   \n",
       "2020-01-25                                       F  ...          3          2   \n",
       "2020-01-26                                       F  ...          3          2   \n",
       "...                                            ...  ...        ...        ...   \n",
       "2021-06-06                                       F  ...          3          2   \n",
       "2021-06-07                                       F  ...          3          2   \n",
       "2021-06-08                                       F  ...          3          2   \n",
       "2021-06-09                                       F  ...          3          2   \n",
       "2021-06-10                                       F  ...          3          2   \n",
       "\n",
       "            age_80_84  age_85_or_higher  immigrant_student_ratio  death_ratio  \\\n",
       "date                                                                            \n",
       "2020-01-22          2                 2                 0.023503     0.005964   \n",
       "2020-01-23          2                 2                 0.023503     0.005964   \n",
       "2020-01-24          2                 2                 0.023503     0.005964   \n",
       "2020-01-25          2                 2                 0.023503     0.005964   \n",
       "2020-01-26          2                 2                 0.023503     0.005964   \n",
       "...               ...               ...                      ...          ...   \n",
       "2021-06-06          1                 1                 0.027216     0.008636   \n",
       "2021-06-07          1                 1                 0.027216     0.008636   \n",
       "2021-06-08          1                 1                 0.027216     0.008636   \n",
       "2021-06-09          1                 1                 0.027216     0.008636   \n",
       "2021-06-10          1                 1                 0.027216     0.008636   \n",
       "\n",
       "            population_ratio_in_state  median_household_income_bins  \\\n",
       "date                                                                  \n",
       "2020-01-22                   4.213543           (62937.0, 140382.0]   \n",
       "2020-01-23                   4.213543           (62937.0, 140382.0]   \n",
       "2020-01-24                   4.213543           (62937.0, 140382.0]   \n",
       "2020-01-25                   4.213543           (62937.0, 140382.0]   \n",
       "2020-01-26                   4.213543           (62937.0, 140382.0]   \n",
       "...                               ...                           ...   \n",
       "2021-06-06                   0.197287            (43585.0, 49161.0]   \n",
       "2021-06-07                   0.197287            (43585.0, 49161.0]   \n",
       "2021-06-08                   0.197287            (43585.0, 49161.0]   \n",
       "2021-06-09                   0.197287            (43585.0, 49161.0]   \n",
       "2021-06-10                   0.197287            (43585.0, 49161.0]   \n",
       "\n",
       "                            smoker_bins  diabetes_bins  \n",
       "date                                                    \n",
       "2020-01-22  (5.9079999999999995, 13.01]   (1.899, 8.2]  \n",
       "2020-01-23  (5.9079999999999995, 13.01]   (1.899, 8.2]  \n",
       "2020-01-24  (5.9079999999999995, 13.01]   (1.899, 8.2]  \n",
       "2020-01-25  (5.9079999999999995, 13.01]   (1.899, 8.2]  \n",
       "2020-01-26  (5.9079999999999995, 13.01]   (1.899, 8.2]  \n",
       "...                                 ...            ...  \n",
       "2021-06-06             (14.144, 14.813]   (10.9, 12.1]  \n",
       "2021-06-07             (14.144, 14.813]   (10.9, 12.1]  \n",
       "2021-06-08             (14.144, 14.813]   (10.9, 12.1]  \n",
       "2021-06-09             (14.144, 14.813]   (10.9, 12.1]  \n",
       "2021-06-10             (14.144, 14.813]   (10.9, 12.1]  \n",
       "\n",
       "[27324 rows x 66 columns]"
      ]
     },
     "execution_count": 49,
     "metadata": {},
     "output_type": "execute_result"
    }
   ],
   "source": [
    "state_df['California']"
   ]
  },
  {
   "cell_type": "code",
   "execution_count": 16,
   "metadata": {},
   "outputs": [
    {
     "data": {
      "text/html": [
       "<div>\n",
       "<style scoped>\n",
       "    .dataframe tbody tr th:only-of-type {\n",
       "        vertical-align: middle;\n",
       "    }\n",
       "\n",
       "    .dataframe tbody tr th {\n",
       "        vertical-align: top;\n",
       "    }\n",
       "\n",
       "    .dataframe thead th {\n",
       "        text-align: right;\n",
       "    }\n",
       "</style>\n",
       "<table border=\"1\" class=\"dataframe\">\n",
       "  <thead>\n",
       "    <tr style=\"text-align: right;\">\n",
       "      <th></th>\n",
       "      <th>date</th>\n",
       "      <th>state_fips</th>\n",
       "      <th>state_name</th>\n",
       "      <th>total_population</th>\n",
       "      <th>number_of_meat_plants</th>\n",
       "      <th>covid_19_confirmed_cases</th>\n",
       "      <th>median_household_income_bins</th>\n",
       "      <th>daily_state_test</th>\n",
       "      <th>temperature</th>\n",
       "      <th>virus_pressure</th>\n",
       "      <th>social_distancing_total_grade</th>\n",
       "      <th>political_party</th>\n",
       "      <th>retail_and_recreation_mobility_percent_change</th>\n",
       "      <th>workplaces_mobility_percent_change</th>\n",
       "      <th>death_ratio</th>\n",
       "      <th>smoker_bins</th>\n",
       "      <th>diabetes_bins</th>\n",
       "      <th>grocery_and_pharmacy_mobility_percent_change</th>\n",
       "      <th>percent_of_vaccinated_residents</th>\n",
       "    </tr>\n",
       "  </thead>\n",
       "  <tbody>\n",
       "    <tr>\n",
       "      <th>61226</th>\n",
       "      <td>2020-01-22</td>\n",
       "      <td>6</td>\n",
       "      <td>California</td>\n",
       "      <td>1666753</td>\n",
       "      <td>56</td>\n",
       "      <td>0.0</td>\n",
       "      <td>(62937.0, 140382.0]</td>\n",
       "      <td>1.0</td>\n",
       "      <td>5.88</td>\n",
       "      <td>0.0</td>\n",
       "      <td>F</td>\n",
       "      <td>1</td>\n",
       "      <td>0.0</td>\n",
       "      <td>0.0</td>\n",
       "      <td>0.005964</td>\n",
       "      <td>(5.9079999999999995, 13.01]</td>\n",
       "      <td>(1.899, 8.2]</td>\n",
       "      <td>0.0</td>\n",
       "      <td>0.0</td>\n",
       "    </tr>\n",
       "    <tr>\n",
       "      <th>61227</th>\n",
       "      <td>2020-01-23</td>\n",
       "      <td>6</td>\n",
       "      <td>California</td>\n",
       "      <td>1666753</td>\n",
       "      <td>56</td>\n",
       "      <td>0.0</td>\n",
       "      <td>(62937.0, 140382.0]</td>\n",
       "      <td>1.0</td>\n",
       "      <td>8.92</td>\n",
       "      <td>0.0</td>\n",
       "      <td>F</td>\n",
       "      <td>1</td>\n",
       "      <td>0.0</td>\n",
       "      <td>0.0</td>\n",
       "      <td>0.005964</td>\n",
       "      <td>(5.9079999999999995, 13.01]</td>\n",
       "      <td>(1.899, 8.2]</td>\n",
       "      <td>0.0</td>\n",
       "      <td>0.0</td>\n",
       "    </tr>\n",
       "    <tr>\n",
       "      <th>61228</th>\n",
       "      <td>2020-01-24</td>\n",
       "      <td>6</td>\n",
       "      <td>California</td>\n",
       "      <td>1666753</td>\n",
       "      <td>56</td>\n",
       "      <td>0.0</td>\n",
       "      <td>(62937.0, 140382.0]</td>\n",
       "      <td>0.0</td>\n",
       "      <td>9.32</td>\n",
       "      <td>0.0</td>\n",
       "      <td>F</td>\n",
       "      <td>1</td>\n",
       "      <td>0.0</td>\n",
       "      <td>0.0</td>\n",
       "      <td>0.005964</td>\n",
       "      <td>(5.9079999999999995, 13.01]</td>\n",
       "      <td>(1.899, 8.2]</td>\n",
       "      <td>0.0</td>\n",
       "      <td>0.0</td>\n",
       "    </tr>\n",
       "    <tr>\n",
       "      <th>61229</th>\n",
       "      <td>2020-01-25</td>\n",
       "      <td>6</td>\n",
       "      <td>California</td>\n",
       "      <td>1666753</td>\n",
       "      <td>56</td>\n",
       "      <td>0.0</td>\n",
       "      <td>(62937.0, 140382.0]</td>\n",
       "      <td>0.0</td>\n",
       "      <td>11.72</td>\n",
       "      <td>0.0</td>\n",
       "      <td>F</td>\n",
       "      <td>1</td>\n",
       "      <td>0.0</td>\n",
       "      <td>0.0</td>\n",
       "      <td>0.005964</td>\n",
       "      <td>(5.9079999999999995, 13.01]</td>\n",
       "      <td>(1.899, 8.2]</td>\n",
       "      <td>0.0</td>\n",
       "      <td>0.0</td>\n",
       "    </tr>\n",
       "    <tr>\n",
       "      <th>61230</th>\n",
       "      <td>2020-01-26</td>\n",
       "      <td>6</td>\n",
       "      <td>California</td>\n",
       "      <td>1666753</td>\n",
       "      <td>56</td>\n",
       "      <td>0.0</td>\n",
       "      <td>(62937.0, 140382.0]</td>\n",
       "      <td>0.0</td>\n",
       "      <td>7.30</td>\n",
       "      <td>0.0</td>\n",
       "      <td>F</td>\n",
       "      <td>1</td>\n",
       "      <td>0.0</td>\n",
       "      <td>0.0</td>\n",
       "      <td>0.005964</td>\n",
       "      <td>(5.9079999999999995, 13.01]</td>\n",
       "      <td>(1.899, 8.2]</td>\n",
       "      <td>0.0</td>\n",
       "      <td>0.0</td>\n",
       "    </tr>\n",
       "  </tbody>\n",
       "</table>\n",
       "</div>"
      ],
      "text/plain": [
       "            date  state_fips  state_name  total_population  \\\n",
       "61226 2020-01-22           6  California           1666753   \n",
       "61227 2020-01-23           6  California           1666753   \n",
       "61228 2020-01-24           6  California           1666753   \n",
       "61229 2020-01-25           6  California           1666753   \n",
       "61230 2020-01-26           6  California           1666753   \n",
       "\n",
       "       number_of_meat_plants  covid_19_confirmed_cases  \\\n",
       "61226                     56                       0.0   \n",
       "61227                     56                       0.0   \n",
       "61228                     56                       0.0   \n",
       "61229                     56                       0.0   \n",
       "61230                     56                       0.0   \n",
       "\n",
       "      median_household_income_bins  daily_state_test  temperature  \\\n",
       "61226          (62937.0, 140382.0]               1.0         5.88   \n",
       "61227          (62937.0, 140382.0]               1.0         8.92   \n",
       "61228          (62937.0, 140382.0]               0.0         9.32   \n",
       "61229          (62937.0, 140382.0]               0.0        11.72   \n",
       "61230          (62937.0, 140382.0]               0.0         7.30   \n",
       "\n",
       "       virus_pressure social_distancing_total_grade  political_party  \\\n",
       "61226             0.0                             F                1   \n",
       "61227             0.0                             F                1   \n",
       "61228             0.0                             F                1   \n",
       "61229             0.0                             F                1   \n",
       "61230             0.0                             F                1   \n",
       "\n",
       "       retail_and_recreation_mobility_percent_change  \\\n",
       "61226                                            0.0   \n",
       "61227                                            0.0   \n",
       "61228                                            0.0   \n",
       "61229                                            0.0   \n",
       "61230                                            0.0   \n",
       "\n",
       "       workplaces_mobility_percent_change  death_ratio  \\\n",
       "61226                                 0.0     0.005964   \n",
       "61227                                 0.0     0.005964   \n",
       "61228                                 0.0     0.005964   \n",
       "61229                                 0.0     0.005964   \n",
       "61230                                 0.0     0.005964   \n",
       "\n",
       "                       smoker_bins diabetes_bins  \\\n",
       "61226  (5.9079999999999995, 13.01]  (1.899, 8.2]   \n",
       "61227  (5.9079999999999995, 13.01]  (1.899, 8.2]   \n",
       "61228  (5.9079999999999995, 13.01]  (1.899, 8.2]   \n",
       "61229  (5.9079999999999995, 13.01]  (1.899, 8.2]   \n",
       "61230  (5.9079999999999995, 13.01]  (1.899, 8.2]   \n",
       "\n",
       "       grocery_and_pharmacy_mobility_percent_change  \\\n",
       "61226                                           0.0   \n",
       "61227                                           0.0   \n",
       "61228                                           0.0   \n",
       "61229                                           0.0   \n",
       "61230                                           0.0   \n",
       "\n",
       "       percent_of_vaccinated_residents  \n",
       "61226                              0.0  \n",
       "61227                              0.0  \n",
       "61228                              0.0  \n",
       "61229                              0.0  \n",
       "61230                              0.0  "
      ]
     },
     "execution_count": 16,
     "metadata": {},
     "output_type": "execute_result"
    }
   ],
   "source": [
    "# training\n",
    "df_train1 = df_covid[['date','state_fips','state_name','total_population','number_of_meat_plants',\n",
    "                     'covid_19_confirmed_cases','median_household_income_bins',\n",
    "                    'daily_state_test','temperature','virus_pressure','social_distancing_total_grade',\n",
    "                     'political_party','retail_and_recreation_mobility_percent_change',\n",
    "                      'workplaces_mobility_percent_change','death_ratio','smoker_bins','diabetes_bins',\n",
    "                      'grocery_and_pharmacy_mobility_percent_change',\n",
    "                     'percent_of_vaccinated_residents',\n",
    "                     ]].copy()\n",
    "df_train1 = df_train1[df_train1['state_name'].isin(high_case_10)]\n",
    "df_train1.head()"
   ]
  },
  {
   "cell_type": "code",
   "execution_count": 18,
   "metadata": {},
   "outputs": [
    {
     "name": "stdout",
     "output_type": "stream",
     "text": [
      "<class 'pandas.core.frame.DataFrame'>\n",
      "Int64Index: 341550 entries, 61226 to 874367\n",
      "Data columns (total 19 columns):\n",
      " #   Column                                         Non-Null Count   Dtype         \n",
      "---  ------                                         --------------   -----         \n",
      " 0   date                                           341550 non-null  datetime64[ns]\n",
      " 1   state_fips                                     341550 non-null  int64         \n",
      " 2   state_name                                     341550 non-null  object        \n",
      " 3   total_population                               341550 non-null  int64         \n",
      " 4   number_of_meat_plants                          341550 non-null  int64         \n",
      " 5   covid_19_confirmed_cases                       341550 non-null  float64       \n",
      " 6   median_household_income_bins                   341550 non-null  category      \n",
      " 7   daily_state_test                               341550 non-null  float64       \n",
      " 8   temperature                                    341550 non-null  float64       \n",
      " 9   virus_pressure                                 341550 non-null  float64       \n",
      " 10  social_distancing_total_grade                  341550 non-null  object        \n",
      " 11  political_party                                341550 non-null  int64         \n",
      " 12  retail_and_recreation_mobility_percent_change  341550 non-null  float64       \n",
      " 13  workplaces_mobility_percent_change             341550 non-null  float64       \n",
      " 14  death_ratio                                    341550 non-null  float64       \n",
      " 15  smoker_bins                                    341550 non-null  category      \n",
      " 16  diabetes_bins                                  341550 non-null  category      \n",
      " 17  grocery_and_pharmacy_mobility_percent_change   341550 non-null  float64       \n",
      " 18  percent_of_vaccinated_residents                341550 non-null  float64       \n",
      "dtypes: category(3), datetime64[ns](1), float64(9), int64(4), object(2)\n",
      "memory usage: 45.3+ MB\n"
     ]
    }
   ],
   "source": [
    "# train info\n",
    "df_train1.info()"
   ]
  },
  {
   "cell_type": "code",
   "execution_count": null,
   "metadata": {},
   "outputs": [],
   "source": []
  }
 ],
 "metadata": {
  "kernelspec": {
   "display_name": "Python 3",
   "language": "python",
   "name": "python3"
  },
  "language_info": {
   "codemirror_mode": {
    "name": "ipython",
    "version": 3
   },
   "file_extension": ".py",
   "mimetype": "text/x-python",
   "name": "python",
   "nbconvert_exporter": "python",
   "pygments_lexer": "ipython3",
   "version": "3.7.7"
  }
 },
 "nbformat": 4,
 "nbformat_minor": 4
}
