{
 "cells": [
  {
   "cell_type": "code",
   "execution_count": 1,
   "metadata": {},
   "outputs": [
    {
     "data": {
      "text/plain": [
       "['import altair as alt',\n",
       " 'import plotly.express as px',\n",
       " 'from sklearn.ensemble import GradientBoostingClassifier',\n",
       " 'import fbprophet',\n",
       " 'from fbprophet import Prophet',\n",
       " 'import pydot',\n",
       " 'from sklearn.preprocessing import LabelEncoder',\n",
       " 'import gensim',\n",
       " 'import sklearn',\n",
       " 'from sklearn.impute import SimpleImputer',\n",
       " 'import os',\n",
       " 'import sys',\n",
       " 'from sklearn.linear_model import RidgeCV',\n",
       " 'import awswrangler as wr',\n",
       " 'from sklearn.linear_model import Ridge',\n",
       " 'from sklearn.model_selection import StratifiedKFold',\n",
       " 'from sklearn.ensemble import RandomForestRegressor',\n",
       " 'import matplotlib as mpl',\n",
       " 'import spacy',\n",
       " 'from sklearn.feature_extraction.text import TfidfVectorizer',\n",
       " 'from sklearn.linear_model import LogisticRegression',\n",
       " 'import seaborn as sns',\n",
       " 'import plotly.graph_objs as go',\n",
       " 'from sklearn.linear_model import Lasso',\n",
       " 'import xgboost as xgb',\n",
       " 'from sklearn.preprocessing import RobustScaler',\n",
       " 'import tqdm',\n",
       " 'from sklearn.linear_model import LinearRegression',\n",
       " 'from sklearn.decomposition import PCA',\n",
       " 'import nltk',\n",
       " 'from pathlib import Path',\n",
       " 'from sklearn import metrics',\n",
       " 'import cv2',\n",
       " 'from xlrd import open_workbook',\n",
       " 'import tensorflow as tf',\n",
       " 'from sklearn.model_selection import RandomizedSearchCV',\n",
       " 'import fastai',\n",
       " 'from statsmodels.tsa.arima_model import ARIMA',\n",
       " 'from sklearn.preprocessing import StandardScaler',\n",
       " 'import textblob',\n",
       " 'import statsmodels.api as sm',\n",
       " 'from scipy import signal as sg',\n",
       " 'import glob',\n",
       " 'import matplotlib.pyplot as plt',\n",
       " 'import bokeh',\n",
       " 'from sklearn import svm',\n",
       " 'from sklearn.cluster import KMeans',\n",
       " 'from sklearn.manifold import TSNE',\n",
       " 'import pandas as pd',\n",
       " 'from sklearn.model_selection import KFold',\n",
       " 'import dash',\n",
       " 'from sklearn.feature_extraction.text import CountVectorizer',\n",
       " 'import imutils',\n",
       " 'import keras',\n",
       " 'from sklearn.model_selection import cross_val_score',\n",
       " 'import numpy as np',\n",
       " 'from openpyxl import load_workbook',\n",
       " 'from sklearn.ensemble import RandomForestClassifier',\n",
       " 'from sklearn.linear_model import ElasticNet',\n",
       " 'from sklearn.preprocessing import MinMaxScaler',\n",
       " 'import statistics',\n",
       " 'import plotly as py',\n",
       " 'from dask import dataframe as dd',\n",
       " 'import datetime as dt',\n",
       " 'from sklearn.model_selection import train_test_split',\n",
       " 'from sklearn.preprocessing import PolynomialFeatures',\n",
       " 'import skimage',\n",
       " 'from sklearn.preprocessing import OneHotEncoder',\n",
       " 'import re',\n",
       " 'from sklearn.ensemble import GradientBoostingRegressor',\n",
       " 'from scipy import stats',\n",
       " 'import torch',\n",
       " 'import pickle',\n",
       " 'from sklearn.model_selection import GridSearchCV',\n",
       " 'from pyspark import SparkContext',\n",
       " 'import lightgbm as lgb',\n",
       " 'from sklearn.linear_model import ElasticNetCV',\n",
       " 'from PIL import Image',\n",
       " 'from sklearn.linear_model import LassoCV']"
      ]
     },
     "execution_count": 1,
     "metadata": {},
     "output_type": "execute_result"
    }
   ],
   "source": [
    "from pyforest import *\n",
    "import warnings\n",
    "from statsmodels.tsa.statespace.sarimax import SARIMAX\n",
    "from statsmodels.tsa.seasonal import seasonal_decompose\n",
    "warnings.filterwarnings('ignore')\n",
    "lazy_imports()"
   ]
  },
  {
   "cell_type": "code",
   "execution_count": 2,
   "metadata": {},
   "outputs": [
    {
     "data": {
      "application/javascript": [
       "\n",
       "        if (window._pyforest_update_imports_cell) { window._pyforest_update_imports_cell('import pandas as pd'); }\n",
       "    "
      ],
      "text/plain": [
       "<IPython.core.display.Javascript object>"
      ]
     },
     "metadata": {},
     "output_type": "display_data"
    },
    {
     "data": {
      "text/html": [
       "<div>\n",
       "<style scoped>\n",
       "    .dataframe tbody tr th:only-of-type {\n",
       "        vertical-align: middle;\n",
       "    }\n",
       "\n",
       "    .dataframe tbody tr th {\n",
       "        vertical-align: top;\n",
       "    }\n",
       "\n",
       "    .dataframe thead th {\n",
       "        text-align: right;\n",
       "    }\n",
       "</style>\n",
       "<table border=\"1\" class=\"dataframe\">\n",
       "  <thead>\n",
       "    <tr style=\"text-align: right;\">\n",
       "      <th></th>\n",
       "      <th>date</th>\n",
       "      <th>county_fips</th>\n",
       "      <th>county_name</th>\n",
       "      <th>state_fips</th>\n",
       "      <th>state_name</th>\n",
       "      <th>covid_19_confirmed_cases</th>\n",
       "      <th>covid_19_deaths</th>\n",
       "      <th>social_distancing_total_grade</th>\n",
       "      <th>social_distancing_visitation_grade</th>\n",
       "      <th>social_distancing_encounters_grade</th>\n",
       "      <th>...</th>\n",
       "      <th>age_55_59</th>\n",
       "      <th>age_60_64</th>\n",
       "      <th>age_65_69</th>\n",
       "      <th>age_70_74</th>\n",
       "      <th>age_75_79</th>\n",
       "      <th>age_80_84</th>\n",
       "      <th>age_85_or_higher</th>\n",
       "      <th>immigrant_student_ratio</th>\n",
       "      <th>death_ratio</th>\n",
       "      <th>population_ratio_in_state</th>\n",
       "    </tr>\n",
       "  </thead>\n",
       "  <tbody>\n",
       "    <tr>\n",
       "      <th>0</th>\n",
       "      <td>2020/01/22</td>\n",
       "      <td>1003</td>\n",
       "      <td>Baldwin County</td>\n",
       "      <td>1</td>\n",
       "      <td>Alabama</td>\n",
       "      <td>0.0</td>\n",
       "      <td>0.0</td>\n",
       "      <td>F</td>\n",
       "      <td>F</td>\n",
       "      <td>F</td>\n",
       "      <td>...</td>\n",
       "      <td>7</td>\n",
       "      <td>7</td>\n",
       "      <td>6</td>\n",
       "      <td>4</td>\n",
       "      <td>3</td>\n",
       "      <td>2</td>\n",
       "      <td>2</td>\n",
       "      <td>0.021048</td>\n",
       "      <td>0.010811</td>\n",
       "      <td>4.46047</td>\n",
       "    </tr>\n",
       "    <tr>\n",
       "      <th>1</th>\n",
       "      <td>2020/01/23</td>\n",
       "      <td>1003</td>\n",
       "      <td>Baldwin County</td>\n",
       "      <td>1</td>\n",
       "      <td>Alabama</td>\n",
       "      <td>0.0</td>\n",
       "      <td>0.0</td>\n",
       "      <td>F</td>\n",
       "      <td>F</td>\n",
       "      <td>F</td>\n",
       "      <td>...</td>\n",
       "      <td>7</td>\n",
       "      <td>7</td>\n",
       "      <td>6</td>\n",
       "      <td>4</td>\n",
       "      <td>3</td>\n",
       "      <td>2</td>\n",
       "      <td>2</td>\n",
       "      <td>0.021048</td>\n",
       "      <td>0.010811</td>\n",
       "      <td>4.46047</td>\n",
       "    </tr>\n",
       "    <tr>\n",
       "      <th>2</th>\n",
       "      <td>2020/01/24</td>\n",
       "      <td>1003</td>\n",
       "      <td>Baldwin County</td>\n",
       "      <td>1</td>\n",
       "      <td>Alabama</td>\n",
       "      <td>0.0</td>\n",
       "      <td>0.0</td>\n",
       "      <td>F</td>\n",
       "      <td>F</td>\n",
       "      <td>F</td>\n",
       "      <td>...</td>\n",
       "      <td>7</td>\n",
       "      <td>7</td>\n",
       "      <td>6</td>\n",
       "      <td>4</td>\n",
       "      <td>3</td>\n",
       "      <td>2</td>\n",
       "      <td>2</td>\n",
       "      <td>0.021048</td>\n",
       "      <td>0.010811</td>\n",
       "      <td>4.46047</td>\n",
       "    </tr>\n",
       "    <tr>\n",
       "      <th>3</th>\n",
       "      <td>2020/01/25</td>\n",
       "      <td>1003</td>\n",
       "      <td>Baldwin County</td>\n",
       "      <td>1</td>\n",
       "      <td>Alabama</td>\n",
       "      <td>0.0</td>\n",
       "      <td>0.0</td>\n",
       "      <td>F</td>\n",
       "      <td>F</td>\n",
       "      <td>F</td>\n",
       "      <td>...</td>\n",
       "      <td>7</td>\n",
       "      <td>7</td>\n",
       "      <td>6</td>\n",
       "      <td>4</td>\n",
       "      <td>3</td>\n",
       "      <td>2</td>\n",
       "      <td>2</td>\n",
       "      <td>0.021048</td>\n",
       "      <td>0.010811</td>\n",
       "      <td>4.46047</td>\n",
       "    </tr>\n",
       "    <tr>\n",
       "      <th>4</th>\n",
       "      <td>2020/01/26</td>\n",
       "      <td>1003</td>\n",
       "      <td>Baldwin County</td>\n",
       "      <td>1</td>\n",
       "      <td>Alabama</td>\n",
       "      <td>0.0</td>\n",
       "      <td>0.0</td>\n",
       "      <td>F</td>\n",
       "      <td>F</td>\n",
       "      <td>F</td>\n",
       "      <td>...</td>\n",
       "      <td>7</td>\n",
       "      <td>7</td>\n",
       "      <td>6</td>\n",
       "      <td>4</td>\n",
       "      <td>3</td>\n",
       "      <td>2</td>\n",
       "      <td>2</td>\n",
       "      <td>0.021048</td>\n",
       "      <td>0.010811</td>\n",
       "      <td>4.46047</td>\n",
       "    </tr>\n",
       "  </tbody>\n",
       "</table>\n",
       "<p>5 rows × 64 columns</p>\n",
       "</div>"
      ],
      "text/plain": [
       "         date  county_fips     county_name  state_fips state_name  \\\n",
       "0  2020/01/22         1003  Baldwin County           1    Alabama   \n",
       "1  2020/01/23         1003  Baldwin County           1    Alabama   \n",
       "2  2020/01/24         1003  Baldwin County           1    Alabama   \n",
       "3  2020/01/25         1003  Baldwin County           1    Alabama   \n",
       "4  2020/01/26         1003  Baldwin County           1    Alabama   \n",
       "\n",
       "   covid_19_confirmed_cases  covid_19_deaths social_distancing_total_grade  \\\n",
       "0                       0.0              0.0                             F   \n",
       "1                       0.0              0.0                             F   \n",
       "2                       0.0              0.0                             F   \n",
       "3                       0.0              0.0                             F   \n",
       "4                       0.0              0.0                             F   \n",
       "\n",
       "  social_distancing_visitation_grade social_distancing_encounters_grade  ...  \\\n",
       "0                                  F                                  F  ...   \n",
       "1                                  F                                  F  ...   \n",
       "2                                  F                                  F  ...   \n",
       "3                                  F                                  F  ...   \n",
       "4                                  F                                  F  ...   \n",
       "\n",
       "  age_55_59  age_60_64  age_65_69  age_70_74  age_75_79  age_80_84  \\\n",
       "0         7          7          6          4          3          2   \n",
       "1         7          7          6          4          3          2   \n",
       "2         7          7          6          4          3          2   \n",
       "3         7          7          6          4          3          2   \n",
       "4         7          7          6          4          3          2   \n",
       "\n",
       "   age_85_or_higher  immigrant_student_ratio  death_ratio  \\\n",
       "0                 2                 0.021048     0.010811   \n",
       "1                 2                 0.021048     0.010811   \n",
       "2                 2                 0.021048     0.010811   \n",
       "3                 2                 0.021048     0.010811   \n",
       "4                 2                 0.021048     0.010811   \n",
       "\n",
       "   population_ratio_in_state  \n",
       "0                    4.46047  \n",
       "1                    4.46047  \n",
       "2                    4.46047  \n",
       "3                    4.46047  \n",
       "4                    4.46047  \n",
       "\n",
       "[5 rows x 64 columns]"
      ]
     },
     "execution_count": 2,
     "metadata": {},
     "output_type": "execute_result"
    }
   ],
   "source": [
    "# read dataset\n",
    "df_covid = pd.read_csv('dataset/imputed-data.csv',header = 0)\n",
    "df_covid.head()"
   ]
  },
  {
   "cell_type": "code",
   "execution_count": 3,
   "metadata": {},
   "outputs": [
    {
     "name": "stdout",
     "output_type": "stream",
     "text": [
      "<class 'pandas.core.frame.DataFrame'>\n",
      "RangeIndex: 992266 entries, 0 to 992265\n",
      "Data columns (total 64 columns):\n",
      " #   Column                                         Non-Null Count   Dtype  \n",
      "---  ------                                         --------------   -----  \n",
      " 0   date                                           992266 non-null  object \n",
      " 1   county_fips                                    992266 non-null  int64  \n",
      " 2   county_name                                    992266 non-null  object \n",
      " 3   state_fips                                     992266 non-null  int64  \n",
      " 4   state_name                                     992266 non-null  object \n",
      " 5   covid_19_confirmed_cases                       992266 non-null  float64\n",
      " 6   covid_19_deaths                                992266 non-null  float64\n",
      " 7   social_distancing_total_grade                  992266 non-null  object \n",
      " 8   social_distancing_visitation_grade             992266 non-null  object \n",
      " 9   social_distancing_encounters_grade             992266 non-null  object \n",
      " 10  social_distancing_travel_distance_grade        992266 non-null  object \n",
      " 11  retail_and_recreation_mobility_percent_change  992266 non-null  float64\n",
      " 12  grocery_and_pharmacy_mobility_percent_change   992266 non-null  float64\n",
      " 13  workplaces_mobility_percent_change             992266 non-null  float64\n",
      " 14  daily_state_test                               992266 non-null  float64\n",
      " 15  precipitation                                  992266 non-null  float64\n",
      " 16  temperature                                    992266 non-null  float64\n",
      " 17  percent_of_vaccinated_residents                992266 non-null  float64\n",
      " 18  virus_pressure                                 992266 non-null  float64\n",
      " 19  total_population                               992266 non-null  int64  \n",
      " 20  proportion_female                              992266 non-null  float64\n",
      " 21  area                                           992266 non-null  float64\n",
      " 22  population_density                             992266 non-null  float64\n",
      " 23  latitude                                       992266 non-null  float64\n",
      " 24  longitude                                      992266 non-null  float64\n",
      " 25  hospital_beds_ratio                            992266 non-null  float64\n",
      " 26  ventilator_capacity_ratio                      992266 non-null  float64\n",
      " 27  intensive_care_unit_(ICU)_bed_ratio            992266 non-null  float64\n",
      " 28  housing_density                                992266 non-null  float64\n",
      " 29  less_than_high_school_diploma                  992266 non-null  float64\n",
      " 30  high_school_diploma_only                       992266 non-null  float64\n",
      " 31  some_college_or_higher                         992266 non-null  float64\n",
      " 32  academic_population_ratio                      992266 non-null  float64\n",
      " 33  percent_of_smokers                             992266 non-null  float64\n",
      " 34  percent_of_diabetes                            992266 non-null  float64\n",
      " 35  religious_congregation_ratio                   992266 non-null  float64\n",
      " 36  political_party                                992266 non-null  int64  \n",
      " 37  airport_distance                               992266 non-null  float64\n",
      " 38  passenger_load_ratio                           992266 non-null  float64\n",
      " 39  number_of_meat_plants                          992266 non-null  int64  \n",
      " 40  median_household_income                        992266 non-null  int64  \n",
      " 41  percent_of_insured_residents                   992266 non-null  float64\n",
      " 42  gdp_per_capita                                 992266 non-null  float64\n",
      " 43  age_0_4                                        992266 non-null  int64  \n",
      " 44  age_5_9                                        992266 non-null  int64  \n",
      " 45  age_10_14                                      992266 non-null  int64  \n",
      " 46  age_15_19                                      992266 non-null  int64  \n",
      " 47  age_20_24                                      992266 non-null  int64  \n",
      " 48  age_25_29                                      992266 non-null  int64  \n",
      " 49  age_30_34                                      992266 non-null  int64  \n",
      " 50  age_35_39                                      992266 non-null  int64  \n",
      " 51  age_40_44                                      992266 non-null  int64  \n",
      " 52  age_45_49                                      992266 non-null  int64  \n",
      " 53  age_50_54                                      992266 non-null  int64  \n",
      " 54  age_55_59                                      992266 non-null  int64  \n",
      " 55  age_60_64                                      992266 non-null  int64  \n",
      " 56  age_65_69                                      992266 non-null  int64  \n",
      " 57  age_70_74                                      992266 non-null  int64  \n",
      " 58  age_75_79                                      992266 non-null  int64  \n",
      " 59  age_80_84                                      992266 non-null  int64  \n",
      " 60  age_85_or_higher                               992266 non-null  int64  \n",
      " 61  immigrant_student_ratio                        992266 non-null  float64\n",
      " 62  death_ratio                                    992266 non-null  float64\n",
      " 63  population_ratio_in_state                      992266 non-null  float64\n",
      "dtypes: float64(33), int64(24), object(7)\n",
      "memory usage: 484.5+ MB\n"
     ]
    }
   ],
   "source": [
    "# df_informations\n",
    "df_covid.info()"
   ]
  },
  {
   "cell_type": "code",
   "execution_count": 4,
   "metadata": {},
   "outputs": [
    {
     "data": {
      "application/javascript": [
       "\n",
       "        if (window._pyforest_update_imports_cell) { window._pyforest_update_imports_cell('import pandas as pd'); }\n",
       "    "
      ],
      "text/plain": [
       "<IPython.core.display.Javascript object>"
      ]
     },
     "metadata": {},
     "output_type": "display_data"
    },
    {
     "data": {
      "text/plain": [
       "0   2020-01-22\n",
       "1   2020-01-23\n",
       "2   2020-01-24\n",
       "3   2020-01-25\n",
       "4   2020-01-26\n",
       "Name: date, dtype: datetime64[ns]"
      ]
     },
     "execution_count": 4,
     "metadata": {},
     "output_type": "execute_result"
    }
   ],
   "source": [
    "# date as date format\n",
    "df_covid['date'] = pd.to_datetime(df_covid['date'])\n",
    "df_covid['date'].head()"
   ]
  },
  {
   "cell_type": "code",
   "execution_count": 5,
   "metadata": {},
   "outputs": [],
   "source": [
    "# plt.figure(figsize = (12,6))\n",
    "# sns.lineplot(x = 'date', y = 'covid_19_confirmed_cases', data = df_covid)\n",
    "# sns.lineplot(x = 'date', y = 'temperature', data = df_covid)"
   ]
  },
  {
   "cell_type": "code",
   "execution_count": 6,
   "metadata": {},
   "outputs": [
    {
     "data": {
      "text/plain": [
       "['California',\n",
       " 'Texas',\n",
       " 'Florida',\n",
       " 'New York',\n",
       " 'Pennsylvania',\n",
       " 'Illinois',\n",
       " 'North Carolina',\n",
       " 'Ohio',\n",
       " 'Michigan',\n",
       " 'New Jersey']"
      ]
     },
     "execution_count": 6,
     "metadata": {},
     "output_type": "execute_result"
    }
   ],
   "source": [
    "# top high POPULATED counties\n",
    "high_case = df_covid[df_covid['date'] == '2020-02-01'].groupby(['state_name'])[\n",
    "    'total_population'].sum().sort_values(ascending = False)\n",
    "high_case_10 = list(high_case.index[:10])\n",
    "high_case_10"
   ]
  },
  {
   "cell_type": "code",
   "execution_count": 7,
   "metadata": {},
   "outputs": [
    {
     "data": {
      "text/plain": [
       "['Wyoming',\n",
       " 'Vermont',\n",
       " 'North Dakota',\n",
       " 'South Dakota',\n",
       " 'Montana',\n",
       " 'Delaware',\n",
       " 'Rhode Island',\n",
       " 'Maine',\n",
       " 'New Hampshire',\n",
       " 'West Virginia']"
      ]
     },
     "execution_count": 7,
     "metadata": {},
     "output_type": "execute_result"
    }
   ],
   "source": [
    "# top low POPULATED counties\n",
    "low_case = df_covid[df_covid['date'] == '2020-02-01'].groupby(['state_name'])[\n",
    "    'total_population'].sum().sort_values(ascending = True)\n",
    "low_case_10 = list(low_case.index[:10])\n",
    "low_case_10"
   ]
  },
  {
   "cell_type": "code",
   "execution_count": 8,
   "metadata": {},
   "outputs": [
    {
     "data": {
      "application/javascript": [
       "\n",
       "        if (window._pyforest_update_imports_cell) { window._pyforest_update_imports_cell('import pandas as pd'); }\n",
       "    "
      ],
      "text/plain": [
       "<IPython.core.display.Javascript object>"
      ]
     },
     "metadata": {},
     "output_type": "display_data"
    },
    {
     "data": {
      "application/javascript": [
       "\n",
       "        if (window._pyforest_update_imports_cell) { window._pyforest_update_imports_cell('import pandas as pd'); }\n",
       "    "
      ],
      "text/plain": [
       "<IPython.core.display.Javascript object>"
      ]
     },
     "metadata": {},
     "output_type": "display_data"
    },
    {
     "data": {
      "application/javascript": [
       "\n",
       "        if (window._pyforest_update_imports_cell) { window._pyforest_update_imports_cell('import pandas as pd'); }\n",
       "    "
      ],
      "text/plain": [
       "<IPython.core.display.Javascript object>"
      ]
     },
     "metadata": {},
     "output_type": "display_data"
    },
    {
     "data": {
      "application/javascript": [
       "\n",
       "        if (window._pyforest_update_imports_cell) { window._pyforest_update_imports_cell('import pandas as pd\\nfrom sklearn.preprocessing import LabelEncoder'); }\n",
       "    "
      ],
      "text/plain": [
       "<IPython.core.display.Javascript object>"
      ]
     },
     "metadata": {},
     "output_type": "display_data"
    }
   ],
   "source": [
    "# feature engineering\n",
    "df_covid['median_household_income_bins'] = pd.qcut(df_covid['median_household_income'],q = 5).cat.codes\n",
    "df_covid['smoker_bins'] = pd.qcut(df_covid['percent_of_smokers'],q = 13).cat.codes\n",
    "df_covid['diabetes_bins'] = pd.qcut(df_covid['percent_of_diabetes'],q = 7).cat.codes\n",
    "df_covid['no_of_death'] = df_covid['death_ratio']*df_covid['total_population']\n",
    "df_covid['no_of_student_immigrants'] = df_covid['immigrant_student_ratio']*df_covid['total_population']\n",
    "df_covid['social_distancing_total_grade'] = LabelEncoder().fit_transform(df_covid['social_distancing_total_grade'])"
   ]
  },
  {
   "cell_type": "code",
   "execution_count": 9,
   "metadata": {},
   "outputs": [
    {
     "data": {
      "text/html": [
       "<div>\n",
       "<style scoped>\n",
       "    .dataframe tbody tr th:only-of-type {\n",
       "        vertical-align: middle;\n",
       "    }\n",
       "\n",
       "    .dataframe tbody tr th {\n",
       "        vertical-align: top;\n",
       "    }\n",
       "\n",
       "    .dataframe thead th {\n",
       "        text-align: right;\n",
       "    }\n",
       "</style>\n",
       "<table border=\"1\" class=\"dataframe\">\n",
       "  <thead>\n",
       "    <tr style=\"text-align: right;\">\n",
       "      <th></th>\n",
       "      <th>state_fips</th>\n",
       "      <th>state_name</th>\n",
       "      <th>date</th>\n",
       "      <th>total_population</th>\n",
       "      <th>number_of_meat_plants</th>\n",
       "      <th>no_of_death</th>\n",
       "      <th>covid_19_confirmed_cases</th>\n",
       "      <th>daily_state_test</th>\n",
       "      <th>virus_pressure</th>\n",
       "      <th>no_of_student_immigrants</th>\n",
       "      <th>airport_distance</th>\n",
       "    </tr>\n",
       "  </thead>\n",
       "  <tbody>\n",
       "    <tr>\n",
       "      <th>0</th>\n",
       "      <td>6</td>\n",
       "      <td>California</td>\n",
       "      <td>2020-01-22</td>\n",
       "      <td>730506.907407</td>\n",
       "      <td>12.611111</td>\n",
       "      <td>4959.259774</td>\n",
       "      <td>0.000000</td>\n",
       "      <td>1.0</td>\n",
       "      <td>0.000000</td>\n",
       "      <td>15321.5</td>\n",
       "      <td>94.495167</td>\n",
       "    </tr>\n",
       "    <tr>\n",
       "      <th>1</th>\n",
       "      <td>6</td>\n",
       "      <td>California</td>\n",
       "      <td>2020-01-23</td>\n",
       "      <td>730506.907407</td>\n",
       "      <td>12.611111</td>\n",
       "      <td>4959.259774</td>\n",
       "      <td>0.000000</td>\n",
       "      <td>1.0</td>\n",
       "      <td>0.000000</td>\n",
       "      <td>15321.5</td>\n",
       "      <td>94.495167</td>\n",
       "    </tr>\n",
       "    <tr>\n",
       "      <th>2</th>\n",
       "      <td>6</td>\n",
       "      <td>California</td>\n",
       "      <td>2020-01-24</td>\n",
       "      <td>730506.907407</td>\n",
       "      <td>12.611111</td>\n",
       "      <td>4959.259774</td>\n",
       "      <td>0.000000</td>\n",
       "      <td>0.0</td>\n",
       "      <td>0.000000</td>\n",
       "      <td>15321.5</td>\n",
       "      <td>94.495167</td>\n",
       "    </tr>\n",
       "    <tr>\n",
       "      <th>3</th>\n",
       "      <td>6</td>\n",
       "      <td>California</td>\n",
       "      <td>2020-01-25</td>\n",
       "      <td>730506.907407</td>\n",
       "      <td>12.611111</td>\n",
       "      <td>4959.259774</td>\n",
       "      <td>0.000000</td>\n",
       "      <td>0.0</td>\n",
       "      <td>0.000000</td>\n",
       "      <td>15321.5</td>\n",
       "      <td>94.495167</td>\n",
       "    </tr>\n",
       "    <tr>\n",
       "      <th>4</th>\n",
       "      <td>6</td>\n",
       "      <td>California</td>\n",
       "      <td>2020-01-26</td>\n",
       "      <td>730506.907407</td>\n",
       "      <td>12.611111</td>\n",
       "      <td>4959.259774</td>\n",
       "      <td>0.037037</td>\n",
       "      <td>0.0</td>\n",
       "      <td>0.032253</td>\n",
       "      <td>15321.5</td>\n",
       "      <td>94.495167</td>\n",
       "    </tr>\n",
       "  </tbody>\n",
       "</table>\n",
       "</div>"
      ],
      "text/plain": [
       "   state_fips  state_name       date  total_population  number_of_meat_plants  \\\n",
       "0           6  California 2020-01-22     730506.907407              12.611111   \n",
       "1           6  California 2020-01-23     730506.907407              12.611111   \n",
       "2           6  California 2020-01-24     730506.907407              12.611111   \n",
       "3           6  California 2020-01-25     730506.907407              12.611111   \n",
       "4           6  California 2020-01-26     730506.907407              12.611111   \n",
       "\n",
       "   no_of_death  covid_19_confirmed_cases  daily_state_test  virus_pressure  \\\n",
       "0  4959.259774                  0.000000               1.0        0.000000   \n",
       "1  4959.259774                  0.000000               1.0        0.000000   \n",
       "2  4959.259774                  0.000000               0.0        0.000000   \n",
       "3  4959.259774                  0.000000               0.0        0.000000   \n",
       "4  4959.259774                  0.037037               0.0        0.032253   \n",
       "\n",
       "   no_of_student_immigrants  airport_distance  \n",
       "0                   15321.5         94.495167  \n",
       "1                   15321.5         94.495167  \n",
       "2                   15321.5         94.495167  \n",
       "3                   15321.5         94.495167  \n",
       "4                   15321.5         94.495167  "
      ]
     },
     "execution_count": 9,
     "metadata": {},
     "output_type": "execute_result"
    }
   ],
   "source": [
    "# top states filter\n",
    "top_states = df_covid[df_covid['state_name'].isin(high_case_10)]\n",
    "top_states = top_states.groupby(['state_fips','state_name','date'])[['total_population','number_of_meat_plants',\n",
    "                                    'no_of_death','covid_19_confirmed_cases', 'daily_state_test','virus_pressure',\n",
    "                                       'no_of_student_immigrants','airport_distance']].mean().reset_index()\n",
    "top_states.head()"
   ]
  },
  {
   "cell_type": "code",
   "execution_count": 10,
   "metadata": {},
   "outputs": [
    {
     "data": {
      "application/javascript": [
       "\n",
       "        if (window._pyforest_update_imports_cell) { window._pyforest_update_imports_cell('import pandas as pd\\nfrom sklearn.preprocessing import LabelEncoder'); }\n",
       "    "
      ],
      "text/plain": [
       "<IPython.core.display.Javascript object>"
      ]
     },
     "metadata": {},
     "output_type": "display_data"
    },
    {
     "data": {
      "application/javascript": [
       "\n",
       "        if (window._pyforest_update_imports_cell) { window._pyforest_update_imports_cell('import pandas as pd\\nfrom sklearn.preprocessing import LabelEncoder'); }\n",
       "    "
      ],
      "text/plain": [
       "<IPython.core.display.Javascript object>"
      ]
     },
     "metadata": {},
     "output_type": "display_data"
    },
    {
     "data": {
      "application/javascript": [
       "\n",
       "        if (window._pyforest_update_imports_cell) { window._pyforest_update_imports_cell('import pandas as pd\\nfrom sklearn.preprocessing import LabelEncoder'); }\n",
       "    "
      ],
      "text/plain": [
       "<IPython.core.display.Javascript object>"
      ]
     },
     "metadata": {},
     "output_type": "display_data"
    },
    {
     "data": {
      "application/javascript": [
       "\n",
       "        if (window._pyforest_update_imports_cell) { window._pyforest_update_imports_cell('import pandas as pd\\nfrom sklearn.preprocessing import LabelEncoder'); }\n",
       "    "
      ],
      "text/plain": [
       "<IPython.core.display.Javascript object>"
      ]
     },
     "metadata": {},
     "output_type": "display_data"
    },
    {
     "data": {
      "application/javascript": [
       "\n",
       "        if (window._pyforest_update_imports_cell) { window._pyforest_update_imports_cell('import pandas as pd\\nfrom sklearn.preprocessing import LabelEncoder'); }\n",
       "    "
      ],
      "text/plain": [
       "<IPython.core.display.Javascript object>"
      ]
     },
     "metadata": {},
     "output_type": "display_data"
    },
    {
     "data": {
      "application/javascript": [
       "\n",
       "        if (window._pyforest_update_imports_cell) { window._pyforest_update_imports_cell('import pandas as pd\\nfrom sklearn.preprocessing import LabelEncoder'); }\n",
       "    "
      ],
      "text/plain": [
       "<IPython.core.display.Javascript object>"
      ]
     },
     "metadata": {},
     "output_type": "display_data"
    },
    {
     "data": {
      "application/javascript": [
       "\n",
       "        if (window._pyforest_update_imports_cell) { window._pyforest_update_imports_cell('import pandas as pd\\nfrom sklearn.preprocessing import LabelEncoder'); }\n",
       "    "
      ],
      "text/plain": [
       "<IPython.core.display.Javascript object>"
      ]
     },
     "metadata": {},
     "output_type": "display_data"
    },
    {
     "data": {
      "application/javascript": [
       "\n",
       "        if (window._pyforest_update_imports_cell) { window._pyforest_update_imports_cell('import pandas as pd\\nfrom sklearn.preprocessing import LabelEncoder'); }\n",
       "    "
      ],
      "text/plain": [
       "<IPython.core.display.Javascript object>"
      ]
     },
     "metadata": {},
     "output_type": "display_data"
    },
    {
     "data": {
      "application/javascript": [
       "\n",
       "        if (window._pyforest_update_imports_cell) { window._pyforest_update_imports_cell('import pandas as pd\\nfrom sklearn.preprocessing import LabelEncoder'); }\n",
       "    "
      ],
      "text/plain": [
       "<IPython.core.display.Javascript object>"
      ]
     },
     "metadata": {},
     "output_type": "display_data"
    },
    {
     "data": {
      "application/javascript": [
       "\n",
       "        if (window._pyforest_update_imports_cell) { window._pyforest_update_imports_cell('import pandas as pd\\nfrom sklearn.preprocessing import LabelEncoder'); }\n",
       "    "
      ],
      "text/plain": [
       "<IPython.core.display.Javascript object>"
      ]
     },
     "metadata": {},
     "output_type": "display_data"
    }
   ],
   "source": [
    "# create individual df for states\n",
    "state_df = {}\n",
    "state_ts = {}\n",
    "for state in high_case_10:\n",
    "    state_df[state] = pd.DataFrame(data = top_states[top_states['state_name'] == state])\n",
    "    state_df[state] = state_df[state][['date','total_population','number_of_meat_plants',\n",
    "                                    'no_of_death','covid_19_confirmed_cases','virus_pressure',\n",
    "                                       'no_of_student_immigrants','airport_distance']].resample('D', on='date').mean()"
   ]
  },
  {
   "cell_type": "code",
   "execution_count": 11,
   "metadata": {},
   "outputs": [
    {
     "data": {
      "text/html": [
       "<div>\n",
       "<style scoped>\n",
       "    .dataframe tbody tr th:only-of-type {\n",
       "        vertical-align: middle;\n",
       "    }\n",
       "\n",
       "    .dataframe tbody tr th {\n",
       "        vertical-align: top;\n",
       "    }\n",
       "\n",
       "    .dataframe thead th {\n",
       "        text-align: right;\n",
       "    }\n",
       "</style>\n",
       "<table border=\"1\" class=\"dataframe\">\n",
       "  <thead>\n",
       "    <tr style=\"text-align: right;\">\n",
       "      <th></th>\n",
       "      <th>total_population</th>\n",
       "      <th>number_of_meat_plants</th>\n",
       "      <th>no_of_death</th>\n",
       "      <th>covid_19_confirmed_cases</th>\n",
       "      <th>virus_pressure</th>\n",
       "      <th>no_of_student_immigrants</th>\n",
       "      <th>airport_distance</th>\n",
       "    </tr>\n",
       "    <tr>\n",
       "      <th>date</th>\n",
       "      <th></th>\n",
       "      <th></th>\n",
       "      <th></th>\n",
       "      <th></th>\n",
       "      <th></th>\n",
       "      <th></th>\n",
       "      <th></th>\n",
       "    </tr>\n",
       "  </thead>\n",
       "  <tbody>\n",
       "    <tr>\n",
       "      <th>2020-01-22</th>\n",
       "      <td>730506.907407</td>\n",
       "      <td>12.611111</td>\n",
       "      <td>4959.259774</td>\n",
       "      <td>0.000000</td>\n",
       "      <td>0.000000</td>\n",
       "      <td>15321.5</td>\n",
       "      <td>94.495167</td>\n",
       "    </tr>\n",
       "    <tr>\n",
       "      <th>2020-01-23</th>\n",
       "      <td>730506.907407</td>\n",
       "      <td>12.611111</td>\n",
       "      <td>4959.259774</td>\n",
       "      <td>0.000000</td>\n",
       "      <td>0.000000</td>\n",
       "      <td>15321.5</td>\n",
       "      <td>94.495167</td>\n",
       "    </tr>\n",
       "    <tr>\n",
       "      <th>2020-01-24</th>\n",
       "      <td>730506.907407</td>\n",
       "      <td>12.611111</td>\n",
       "      <td>4959.259774</td>\n",
       "      <td>0.000000</td>\n",
       "      <td>0.000000</td>\n",
       "      <td>15321.5</td>\n",
       "      <td>94.495167</td>\n",
       "    </tr>\n",
       "    <tr>\n",
       "      <th>2020-01-25</th>\n",
       "      <td>730506.907407</td>\n",
       "      <td>12.611111</td>\n",
       "      <td>4959.259774</td>\n",
       "      <td>0.000000</td>\n",
       "      <td>0.000000</td>\n",
       "      <td>15321.5</td>\n",
       "      <td>94.495167</td>\n",
       "    </tr>\n",
       "    <tr>\n",
       "      <th>2020-01-26</th>\n",
       "      <td>730506.907407</td>\n",
       "      <td>12.611111</td>\n",
       "      <td>4959.259774</td>\n",
       "      <td>0.037037</td>\n",
       "      <td>0.032253</td>\n",
       "      <td>15321.5</td>\n",
       "      <td>94.495167</td>\n",
       "    </tr>\n",
       "  </tbody>\n",
       "</table>\n",
       "</div>"
      ],
      "text/plain": [
       "            total_population  number_of_meat_plants  no_of_death  \\\n",
       "date                                                               \n",
       "2020-01-22     730506.907407              12.611111  4959.259774   \n",
       "2020-01-23     730506.907407              12.611111  4959.259774   \n",
       "2020-01-24     730506.907407              12.611111  4959.259774   \n",
       "2020-01-25     730506.907407              12.611111  4959.259774   \n",
       "2020-01-26     730506.907407              12.611111  4959.259774   \n",
       "\n",
       "            covid_19_confirmed_cases  virus_pressure  \\\n",
       "date                                                   \n",
       "2020-01-22                  0.000000        0.000000   \n",
       "2020-01-23                  0.000000        0.000000   \n",
       "2020-01-24                  0.000000        0.000000   \n",
       "2020-01-25                  0.000000        0.000000   \n",
       "2020-01-26                  0.037037        0.032253   \n",
       "\n",
       "            no_of_student_immigrants  airport_distance  \n",
       "date                                                    \n",
       "2020-01-22                   15321.5         94.495167  \n",
       "2020-01-23                   15321.5         94.495167  \n",
       "2020-01-24                   15321.5         94.495167  \n",
       "2020-01-25                   15321.5         94.495167  \n",
       "2020-01-26                   15321.5         94.495167  "
      ]
     },
     "execution_count": 11,
     "metadata": {},
     "output_type": "execute_result"
    }
   ],
   "source": [
    "# testing dfs\n",
    "state_df['California'].head()"
   ]
  },
  {
   "cell_type": "code",
   "execution_count": 12,
   "metadata": {},
   "outputs": [
    {
     "data": {
      "text/plain": [
       "<AxesSubplot:xlabel='date'>"
      ]
     },
     "execution_count": 12,
     "metadata": {},
     "output_type": "execute_result"
    },
    {
     "data": {
      "image/png": "[encoded data removed]",
      "text/plain": [
       "<Figure size 432x288 with 1 Axes>"
      ]
     },
     "metadata": {
      "needs_background": "light"
     },
     "output_type": "display_data"
    }
   ],
   "source": [
    "state_df['California']['covid_19_confirmed_cases'].plot()"
   ]
  },
  {
   "cell_type": "code",
   "execution_count": 13,
   "metadata": {},
   "outputs": [
    {
     "data": {
      "image/png": "[encoded data removed]",
      "text/plain": [
       "<Figure size 432x288 with 4 Axes>"
      ]
     },
     "metadata": {
      "needs_background": "light"
     },
     "output_type": "display_data"
    }
   ],
   "source": [
    "# check seasonal decompose\n",
    "result = seasonal_decompose(state_df['California']['covid_19_confirmed_cases'],model = 'add')\n",
    "result.plot();"
   ]
  },
  {
   "cell_type": "code",
   "execution_count": 14,
   "metadata": {},
   "outputs": [
    {
     "data": {
      "application/javascript": [
       "\n",
       "        if (window._pyforest_update_imports_cell) { window._pyforest_update_imports_cell('import matplotlib.pyplot as plt\\nimport pandas as pd\\nfrom sklearn.preprocessing import LabelEncoder'); }\n",
       "    "
      ],
      "text/plain": [
       "<IPython.core.display.Javascript object>"
      ]
     },
     "metadata": {},
     "output_type": "display_data"
    },
    {
     "data": {
      "text/plain": [
       "<AxesSubplot:xlabel='date'>"
      ]
     },
     "execution_count": 14,
     "metadata": {},
     "output_type": "execute_result"
    },
    {
     "data": {
      "image/png": "[encoded data removed]",
      "text/plain": [
       "<Figure size 864x432 with 1 Axes>"
      ]
     },
     "metadata": {
      "needs_background": "light"
     },
     "output_type": "display_data"
    }
   ],
   "source": [
    "plt.figure(figsize = (12,6))\n",
    "result.seasonal.plot()"
   ]
  },
  {
   "cell_type": "code",
   "execution_count": 15,
   "metadata": {},
   "outputs": [
    {
     "data": {
      "application/javascript": [
       "\n",
       "        if (window._pyforest_update_imports_cell) { window._pyforest_update_imports_cell('import matplotlib.pyplot as plt\\nimport pandas as pd\\nfrom sklearn.preprocessing import LabelEncoder'); }\n",
       "    "
      ],
      "text/plain": [
       "<IPython.core.display.Javascript object>"
      ]
     },
     "metadata": {},
     "output_type": "display_data"
    },
    {
     "data": {
      "text/plain": [
       "<AxesSubplot:xlabel='date'>"
      ]
     },
     "execution_count": 15,
     "metadata": {},
     "output_type": "execute_result"
    },
    {
     "data": {
      "image/png": "[encoded data removed]",
      "text/plain": [
       "<Figure size 864x432 with 1 Axes>"
      ]
     },
     "metadata": {
      "needs_background": "light"
     },
     "output_type": "display_data"
    }
   ],
   "source": [
    "plt.figure(figsize = (12,6))\n",
    "result.seasonal[5:26].plot()"
   ]
  },
  {
   "cell_type": "code",
   "execution_count": 16,
   "metadata": {},
   "outputs": [],
   "source": [
    "# train test split\n",
    "from sklearn.model_selection import train_test_split\n",
    "\n",
    "train_df = {}\n",
    "test_df = {}\n",
    "future_df = {}\n",
    "\n",
    "for state in high_case_10:\n",
    "#     X_train,X_test,y_train,y_test = train_test_split(state_df[state].loc[:,\n",
    "#                                                     ~state_df[state].columns.isin(['covid_19_confirmed_cases','date'])],\n",
    "#                                             state_df[state]['covid_19_confirmed_cases'],test_size = 0.4,shuffle = False,\n",
    "#                                                      stratify = None)\n",
    "\n",
    "    train = state_df[state][state_df[state].index <= '2020-12-31']\n",
    "    test = state_df[state][(state_df[state].index > '2020-12-24')]\n",
    "\n",
    "    train_df[state] = train\n",
    "    test_df[state] = test"
   ]
  },
  {
   "cell_type": "code",
   "execution_count": 17,
   "metadata": {},
   "outputs": [
    {
     "data": {
      "text/plain": [
       "<AxesSubplot:xlabel='date'>"
      ]
     },
     "execution_count": 17,
     "metadata": {},
     "output_type": "execute_result"
    },
    {
     "data": {
      "image/png": "[encoded data removed]",
      "text/plain": [
       "<Figure size 432x288 with 1 Axes>"
      ]
     },
     "metadata": {
      "needs_background": "light"
     },
     "output_type": "display_data"
    }
   ],
   "source": [
    "test_df['California']['covid_19_confirmed_cases'].plot()"
   ]
  },
  {
   "cell_type": "code",
   "execution_count": 18,
   "metadata": {},
   "outputs": [
    {
     "name": "stdout",
     "output_type": "stream",
     "text": [
      "California  : whole :  506\n",
      "California  : train :  345\n",
      "California  : test :  168\n",
      "Texas  : whole :  506\n",
      "Texas  : train :  345\n",
      "Texas  : test :  168\n",
      "Florida  : whole :  506\n",
      "Florida  : train :  345\n",
      "Florida  : test :  168\n",
      "New York  : whole :  506\n",
      "New York  : train :  345\n",
      "New York  : test :  168\n",
      "Pennsylvania  : whole :  506\n",
      "Pennsylvania  : train :  345\n",
      "Pennsylvania  : test :  168\n",
      "Illinois  : whole :  506\n",
      "Illinois  : train :  345\n",
      "Illinois  : test :  168\n",
      "North Carolina  : whole :  506\n",
      "North Carolina  : train :  345\n",
      "North Carolina  : test :  168\n",
      "Ohio  : whole :  506\n",
      "Ohio  : train :  345\n",
      "Ohio  : test :  168\n",
      "Michigan  : whole :  506\n",
      "Michigan  : train :  345\n",
      "Michigan  : test :  168\n",
      "New Jersey  : whole :  506\n",
      "New Jersey  : train :  345\n",
      "New Jersey  : test :  168\n"
     ]
    }
   ],
   "source": [
    "# checking for each states forecast range\n",
    "for state in high_case_10:\n",
    "    print(state , \" : whole : \", len(state_df[state].index))\n",
    "    print(state , \" : train : \", len(train_df[state].index))\n",
    "    print(state , \" : test : \", len(test_df[state].index))"
   ]
  },
  {
   "cell_type": "code",
   "execution_count": 19,
   "metadata": {},
   "outputs": [
    {
     "data": {
      "text/plain": [
       "Index(['total_population', 'number_of_meat_plants', 'no_of_death',\n",
       "       'covid_19_confirmed_cases', 'virus_pressure',\n",
       "       'no_of_student_immigrants', 'airport_distance'],\n",
       "      dtype='object')"
      ]
     },
     "execution_count": 19,
     "metadata": {},
     "output_type": "execute_result"
    }
   ],
   "source": [
    "train_df['California'].columns"
   ]
  },
  {
   "cell_type": "code",
   "execution_count": 20,
   "metadata": {},
   "outputs": [
    {
     "name": "stdout",
     "output_type": "stream",
     "text": [
      "Performing stepwise search to minimize aic\n",
      " ARIMA(2,0,2)(1,0,1)[7] intercept   : AIC=inf, Time=nan sec\n",
      " ARIMA(0,0,0)(0,0,0)[7] intercept   : AIC=inf, Time=nan sec\n",
      " ARIMA(1,0,0)(1,0,0)[7] intercept   : AIC=inf, Time=nan sec\n",
      " ARIMA(0,0,1)(0,0,1)[7] intercept   : AIC=inf, Time=nan sec\n",
      " ARIMA(0,0,0)(0,0,0)[7]             : AIC=6168.853, Time=0.49 sec\n",
      " ARIMA(0,0,0)(1,0,0)[7] intercept   : AIC=inf, Time=nan sec\n",
      " ARIMA(0,0,0)(0,0,1)[7] intercept   : AIC=inf, Time=nan sec\n",
      " ARIMA(0,0,0)(1,0,1)[7] intercept   : AIC=inf, Time=nan sec\n",
      " ARIMA(1,0,0)(0,0,0)[7] intercept   : AIC=inf, Time=nan sec\n",
      " ARIMA(0,0,1)(0,0,0)[7] intercept   : AIC=inf, Time=nan sec\n",
      " ARIMA(1,0,1)(0,0,0)[7] intercept   : AIC=inf, Time=nan sec\n",
      "\n",
      "Best model:  ARIMA(0,0,0)(0,0,0)[7]          \n",
      "Total fit time: 0.552 seconds\n",
      "Performing stepwise search to minimize aic\n",
      " ARIMA(2,0,2)(1,0,1)[7] intercept   : AIC=inf, Time=nan sec\n",
      " ARIMA(0,0,0)(0,0,0)[7] intercept   : AIC=inf, Time=nan sec\n",
      " ARIMA(1,0,0)(1,0,0)[7] intercept   : AIC=inf, Time=nan sec\n",
      " ARIMA(0,0,1)(0,0,1)[7] intercept   : AIC=inf, Time=nan sec\n",
      " ARIMA(0,0,0)(0,0,0)[7]             : AIC=5725.679, Time=0.32 sec\n",
      " ARIMA(0,0,0)(1,0,0)[7] intercept   : AIC=inf, Time=nan sec\n",
      " ARIMA(0,0,0)(0,0,1)[7] intercept   : AIC=inf, Time=nan sec\n",
      " ARIMA(0,0,0)(1,0,1)[7] intercept   : AIC=inf, Time=nan sec\n",
      " ARIMA(1,0,0)(0,0,0)[7] intercept   : AIC=inf, Time=nan sec\n",
      " ARIMA(0,0,1)(0,0,0)[7] intercept   : AIC=inf, Time=nan sec\n",
      " ARIMA(1,0,1)(0,0,0)[7] intercept   : AIC=inf, Time=nan sec\n",
      "\n",
      "Best model:  ARIMA(0,0,0)(0,0,0)[7]          \n",
      "Total fit time: 0.338 seconds\n",
      "Performing stepwise search to minimize aic\n",
      " ARIMA(2,0,2)(1,0,1)[7] intercept   : AIC=inf, Time=nan sec\n",
      " ARIMA(0,0,0)(0,0,0)[7] intercept   : AIC=inf, Time=nan sec\n",
      " ARIMA(1,0,0)(1,0,0)[7] intercept   : AIC=inf, Time=nan sec\n",
      " ARIMA(0,0,1)(0,0,1)[7] intercept   : AIC=inf, Time=nan sec\n",
      " ARIMA(0,0,0)(0,0,0)[7]             : AIC=4828.063, Time=0.48 sec\n",
      " ARIMA(0,0,0)(1,0,0)[7] intercept   : AIC=inf, Time=nan sec\n",
      " ARIMA(0,0,0)(0,0,1)[7] intercept   : AIC=inf, Time=nan sec\n",
      " ARIMA(0,0,0)(1,0,1)[7] intercept   : AIC=inf, Time=nan sec\n",
      " ARIMA(1,0,0)(0,0,0)[7] intercept   : AIC=inf, Time=nan sec\n",
      " ARIMA(0,0,1)(0,0,0)[7] intercept   : AIC=inf, Time=nan sec\n",
      " ARIMA(1,0,1)(0,0,0)[7] intercept   : AIC=inf, Time=nan sec\n",
      "\n",
      "Best model:  ARIMA(0,0,0)(0,0,0)[7]          \n",
      "Total fit time: 0.515 seconds\n",
      "Performing stepwise search to minimize aic\n",
      " ARIMA(2,0,2)(1,0,1)[7] intercept   : AIC=inf, Time=nan sec\n",
      " ARIMA(0,0,0)(0,0,0)[7] intercept   : AIC=inf, Time=nan sec\n",
      " ARIMA(1,0,0)(1,0,0)[7] intercept   : AIC=inf, Time=nan sec\n",
      " ARIMA(0,0,1)(0,0,1)[7] intercept   : AIC=inf, Time=nan sec\n",
      " ARIMA(0,0,0)(0,0,0)[7]             : AIC=6358.581, Time=0.40 sec\n",
      " ARIMA(0,0,0)(1,0,0)[7] intercept   : AIC=inf, Time=nan sec\n",
      " ARIMA(0,0,0)(0,0,1)[7] intercept   : AIC=inf, Time=nan sec\n",
      " ARIMA(0,0,0)(1,0,1)[7] intercept   : AIC=inf, Time=nan sec\n",
      " ARIMA(1,0,0)(0,0,0)[7] intercept   : AIC=inf, Time=nan sec\n",
      " ARIMA(0,0,1)(0,0,0)[7] intercept   : AIC=inf, Time=nan sec\n",
      " ARIMA(1,0,1)(0,0,0)[7] intercept   : AIC=inf, Time=nan sec\n",
      "\n",
      "Best model:  ARIMA(0,0,0)(0,0,0)[7]          \n",
      "Total fit time: 0.441 seconds\n",
      "Performing stepwise search to minimize aic\n",
      " ARIMA(2,0,2)(1,0,1)[7] intercept   : AIC=inf, Time=nan sec\n",
      " ARIMA(0,0,0)(0,0,0)[7] intercept   : AIC=inf, Time=nan sec\n",
      " ARIMA(1,0,0)(1,0,0)[7] intercept   : AIC=inf, Time=nan sec\n",
      " ARIMA(0,0,1)(0,0,1)[7] intercept   : AIC=inf, Time=nan sec\n",
      " ARIMA(0,0,0)(0,0,0)[7]             : AIC=5404.704, Time=0.43 sec\n",
      " ARIMA(0,0,0)(1,0,0)[7] intercept   : AIC=inf, Time=nan sec\n",
      " ARIMA(0,0,0)(0,0,1)[7] intercept   : AIC=inf, Time=nan sec\n",
      " ARIMA(0,0,0)(1,0,1)[7] intercept   : AIC=inf, Time=nan sec\n",
      " ARIMA(1,0,0)(0,0,0)[7] intercept   : AIC=inf, Time=nan sec\n",
      " ARIMA(0,0,1)(0,0,0)[7] intercept   : AIC=inf, Time=nan sec\n",
      " ARIMA(1,0,1)(0,0,0)[7] intercept   : AIC=inf, Time=nan sec\n",
      "\n",
      "Best model:  ARIMA(0,0,0)(0,0,0)[7]          \n",
      "Total fit time: 0.471 seconds\n",
      "Performing stepwise search to minimize aic\n",
      " ARIMA(2,0,2)(1,0,1)[7] intercept   : AIC=inf, Time=nan sec\n",
      " ARIMA(0,0,0)(0,0,0)[7] intercept   : AIC=inf, Time=nan sec\n",
      " ARIMA(1,0,0)(1,0,0)[7] intercept   : AIC=inf, Time=nan sec\n",
      " ARIMA(0,0,1)(0,0,1)[7] intercept   : AIC=inf, Time=nan sec\n",
      " ARIMA(0,0,0)(0,0,0)[7]             : AIC=6023.664, Time=0.38 sec\n",
      " ARIMA(0,0,0)(1,0,0)[7] intercept   : AIC=inf, Time=nan sec\n",
      " ARIMA(0,0,0)(0,0,1)[7] intercept   : AIC=inf, Time=nan sec\n",
      " ARIMA(0,0,0)(1,0,1)[7] intercept   : AIC=inf, Time=nan sec\n",
      " ARIMA(1,0,0)(0,0,0)[7] intercept   : AIC=inf, Time=nan sec\n",
      " ARIMA(0,0,1)(0,0,0)[7] intercept   : AIC=inf, Time=nan sec\n",
      " ARIMA(1,0,1)(0,0,0)[7] intercept   : AIC=inf, Time=nan sec\n",
      "\n",
      "Best model:  ARIMA(0,0,0)(0,0,0)[7]          \n",
      "Total fit time: 0.431 seconds\n",
      "Performing stepwise search to minimize aic\n",
      " ARIMA(2,0,2)(1,0,1)[7] intercept   : AIC=inf, Time=nan sec\n",
      " ARIMA(0,0,0)(0,0,0)[7] intercept   : AIC=inf, Time=nan sec\n",
      " ARIMA(1,0,0)(1,0,0)[7] intercept   : AIC=inf, Time=nan sec\n",
      " ARIMA(0,0,1)(0,0,1)[7] intercept   : AIC=inf, Time=nan sec\n",
      " ARIMA(0,0,0)(0,0,0)[7]             : AIC=5112.808, Time=0.29 sec\n",
      " ARIMA(0,0,0)(1,0,0)[7] intercept   : AIC=inf, Time=nan sec\n",
      " ARIMA(0,0,0)(0,0,1)[7] intercept   : AIC=inf, Time=nan sec\n",
      " ARIMA(0,0,0)(1,0,1)[7] intercept   : AIC=inf, Time=nan sec\n",
      " ARIMA(1,0,0)(0,0,0)[7] intercept   : AIC=inf, Time=nan sec\n",
      " ARIMA(0,0,1)(0,0,0)[7] intercept   : AIC=inf, Time=nan sec\n",
      " ARIMA(1,0,1)(0,0,0)[7] intercept   : AIC=inf, Time=nan sec\n",
      "\n",
      "Best model:  ARIMA(0,0,0)(0,0,0)[7]          \n",
      "Total fit time: 0.308 seconds\n",
      "Performing stepwise search to minimize aic\n",
      " ARIMA(2,0,2)(1,0,1)[7] intercept   : AIC=inf, Time=nan sec\n",
      " ARIMA(0,0,0)(0,0,0)[7] intercept   : AIC=inf, Time=nan sec\n",
      " ARIMA(1,0,0)(1,0,0)[7] intercept   : AIC=inf, Time=nan sec\n",
      " ARIMA(0,0,1)(0,0,1)[7] intercept   : AIC=inf, Time=nan sec\n",
      " ARIMA(0,0,0)(0,0,0)[7]             : AIC=4821.044, Time=0.25 sec\n",
      " ARIMA(0,0,0)(1,0,0)[7] intercept   : AIC=inf, Time=nan sec\n",
      " ARIMA(0,0,0)(0,0,1)[7] intercept   : AIC=inf, Time=nan sec\n",
      " ARIMA(0,0,0)(1,0,1)[7] intercept   : AIC=inf, Time=nan sec\n",
      " ARIMA(1,0,0)(0,0,0)[7] intercept   : AIC=inf, Time=nan sec\n",
      " ARIMA(0,0,1)(0,0,0)[7] intercept   : AIC=inf, Time=nan sec\n",
      " ARIMA(1,0,1)(0,0,0)[7] intercept   : AIC=inf, Time=nan sec\n",
      "\n",
      "Best model:  ARIMA(0,0,0)(0,0,0)[7]          \n",
      "Total fit time: 0.271 seconds\n",
      "Performing stepwise search to minimize aic\n",
      " ARIMA(2,0,2)(1,0,1)[7] intercept   : AIC=inf, Time=nan sec\n",
      " ARIMA(0,0,0)(0,0,0)[7] intercept   : AIC=inf, Time=nan sec\n",
      " ARIMA(1,0,0)(1,0,0)[7] intercept   : AIC=inf, Time=nan sec\n",
      " ARIMA(0,0,1)(0,0,1)[7] intercept   : AIC=inf, Time=nan sec\n",
      " ARIMA(0,0,0)(0,0,0)[7]             : AIC=5738.956, Time=0.25 sec\n",
      " ARIMA(0,0,0)(1,0,0)[7] intercept   : AIC=inf, Time=nan sec\n",
      " ARIMA(0,0,0)(0,0,1)[7] intercept   : AIC=inf, Time=nan sec\n",
      " ARIMA(0,0,0)(1,0,1)[7] intercept   : AIC=inf, Time=nan sec\n",
      " ARIMA(1,0,0)(0,0,0)[7] intercept   : AIC=inf, Time=nan sec\n",
      " ARIMA(0,0,1)(0,0,0)[7] intercept   : AIC=inf, Time=nan sec\n",
      " ARIMA(1,0,1)(0,0,0)[7] intercept   : AIC=inf, Time=nan sec\n",
      "\n",
      "Best model:  ARIMA(0,0,0)(0,0,0)[7]          \n",
      "Total fit time: 0.284 seconds\n",
      "Performing stepwise search to minimize aic\n",
      " ARIMA(2,0,2)(1,0,1)[7] intercept   : AIC=inf, Time=nan sec\n",
      " ARIMA(0,0,0)(0,0,0)[7] intercept   : AIC=inf, Time=nan sec\n",
      " ARIMA(1,0,0)(1,0,0)[7] intercept   : AIC=inf, Time=nan sec\n",
      " ARIMA(0,0,1)(0,0,1)[7] intercept   : AIC=inf, Time=nan sec\n",
      " ARIMA(0,0,0)(0,0,0)[7]             : AIC=7718.559, Time=0.30 sec\n",
      " ARIMA(0,0,0)(1,0,0)[7] intercept   : AIC=inf, Time=nan sec\n",
      " ARIMA(0,0,0)(0,0,1)[7] intercept   : AIC=inf, Time=nan sec\n",
      " ARIMA(0,0,0)(1,0,1)[7] intercept   : AIC=inf, Time=nan sec\n",
      " ARIMA(1,0,0)(0,0,0)[7] intercept   : AIC=inf, Time=nan sec\n",
      " ARIMA(0,0,1)(0,0,0)[7] intercept   : AIC=inf, Time=nan sec\n",
      " ARIMA(1,0,1)(0,0,0)[7] intercept   : AIC=inf, Time=nan sec\n",
      "\n",
      "Best model:  ARIMA(0,0,0)(0,0,0)[7]          \n",
      "Total fit time: 0.323 seconds\n"
     ]
    }
   ],
   "source": [
    "# auto_arima fit #c\n",
    "from pmdarima import auto_arima\n",
    "grid_model = {}\n",
    "for state in high_case_10:\n",
    "    grid_model[state] = auto_arima(state_df[state]['covid_19_confirmed_cases'],\n",
    "                        exogenous = state_df[state][['total_population', 'number_of_meat_plants', 'no_of_death',\n",
    "       'virus_pressure', 'no_of_student_immigrants',\n",
    "       'airport_distance']],seasonal = True,m = 7,trace = True)"
   ]
  },
  {
   "cell_type": "code",
   "execution_count": 21,
   "metadata": {},
   "outputs": [
    {
     "name": "stdout",
     "output_type": "stream",
     "text": [
      "                               SARIMAX Results                                \n",
      "==============================================================================\n",
      "Dep. Variable:                      y   No. Observations:                  506\n",
      "Model:                        SARIMAX   Log Likelihood               -3077.426\n",
      "Date:                Mon, 04 Apr 2022   AIC                           6168.853\n",
      "Time:                        01:57:26   BIC                           6198.439\n",
      "Sample:                    01-22-2020   HQIC                          6180.456\n",
      "                         - 06-10-2021                                         \n",
      "Covariance Type:                  opg                                         \n",
      "============================================================================================\n",
      "                               coef    std err          z      P>|z|      [0.025      0.975]\n",
      "--------------------------------------------------------------------------------------------\n",
      "total_population         -3.632e-06      0.000     -0.009      0.993      -0.001       0.001\n",
      "number_of_meat_plants     -6.27e-11   7.34e-09     -0.009      0.993   -1.45e-08    1.43e-08\n",
      "no_of_death              -2.466e-08   2.89e-06     -0.009      0.993   -5.68e-06    5.63e-06\n",
      "virus_pressure               1.0539      0.551      1.913      0.056      -0.026       2.134\n",
      "no_of_student_immigrants -7.618e-08   8.92e-06     -0.009      0.993   -1.76e-05    1.74e-05\n",
      "airport_distance         -4.698e-10    5.5e-08     -0.009      0.993   -1.08e-07    1.07e-07\n",
      "sigma2                    3.045e+04   2712.766     11.225      0.000    2.51e+04    3.58e+04\n",
      "===================================================================================\n",
      "Ljung-Box (L1) (Q):                   6.86   Jarque-Bera (JB):              1885.59\n",
      "Prob(Q):                              0.01   Prob(JB):                         0.00\n",
      "Heteroskedasticity (H):               4.32   Skew:                            -0.83\n",
      "Prob(H) (two-sided):                  0.00   Kurtosis:                        12.31\n",
      "===================================================================================\n",
      "\n",
      "Warnings:\n",
      "[1] Covariance matrix calculated using the outer product of gradients (complex-step).\n",
      "[2] Covariance matrix is singular or near-singular, with condition number 4.24e+35. Standard errors may be unstable.\n",
      "                               SARIMAX Results                                \n",
      "==============================================================================\n",
      "Dep. Variable:                      y   No. Observations:                  506\n",
      "Model:                        SARIMAX   Log Likelihood               -2855.840\n",
      "Date:                Mon, 04 Apr 2022   AIC                           5725.679\n",
      "Time:                        01:57:26   BIC                           5755.265\n",
      "Sample:                    01-22-2020   HQIC                          5737.283\n",
      "                         - 06-10-2021                                         \n",
      "Covariance Type:                  opg                                         \n",
      "============================================================================================\n",
      "                               coef    std err          z      P>|z|      [0.025      0.975]\n",
      "--------------------------------------------------------------------------------------------\n",
      "total_population         -4.833e-06      0.001     -0.007      0.995      -0.001       0.001\n",
      "number_of_meat_plants    -8.113e-11   1.22e-08     -0.007      0.995   -2.39e-08    2.37e-08\n",
      "no_of_death              -3.338e-08      5e-06     -0.007      0.995   -9.83e-06    9.77e-06\n",
      "virus_pressure               1.1704      0.508      2.303      0.021       0.175       2.166\n",
      "no_of_student_immigrants -8.925e-08   1.34e-05     -0.007      0.995   -2.63e-05    2.61e-05\n",
      "airport_distance          -2.25e-09   3.37e-07     -0.007      0.995   -6.63e-07    6.59e-07\n",
      "sigma2                    1.268e+04   1129.880     11.225      0.000    1.05e+04    1.49e+04\n",
      "===================================================================================\n",
      "Ljung-Box (L1) (Q):                  70.02   Jarque-Bera (JB):              8961.55\n",
      "Prob(Q):                              0.00   Prob(JB):                         0.00\n",
      "Heteroskedasticity (H):              20.61   Skew:                            -1.00\n",
      "Prob(H) (two-sided):                  0.00   Kurtosis:                        23.52\n",
      "===================================================================================\n",
      "\n",
      "Warnings:\n",
      "[1] Covariance matrix calculated using the outer product of gradients (complex-step).\n",
      "[2] Covariance matrix is singular or near-singular, with condition number 3.75e+32. Standard errors may be unstable.\n",
      "                               SARIMAX Results                                \n",
      "==============================================================================\n",
      "Dep. Variable:                      y   No. Observations:                  506\n",
      "Model:                        SARIMAX   Log Likelihood               -2407.031\n",
      "Date:                Mon, 04 Apr 2022   AIC                           4828.063\n",
      "Time:                        01:57:26   BIC                           4857.649\n",
      "Sample:                    01-22-2020   HQIC                          4839.666\n",
      "                         - 06-10-2021                                         \n",
      "Covariance Type:                  opg                                         \n",
      "============================================================================================\n",
      "                               coef    std err          z      P>|z|      [0.025      0.975]\n",
      "--------------------------------------------------------------------------------------------\n",
      "total_population         -2.283e-06      0.000     -0.009      0.993      -0.000       0.000\n",
      "number_of_meat_plants    -3.757e-11   4.03e-09     -0.009      0.993   -7.93e-09    7.86e-09\n",
      "no_of_death               -2.19e-08   2.35e-06     -0.009      0.993   -4.62e-06    4.58e-06\n",
      "virus_pressure               1.1348      0.656      1.730      0.084      -0.151       2.421\n",
      "no_of_student_immigrants -4.199e-08    4.5e-06     -0.009      0.993   -8.87e-06    8.78e-06\n",
      "airport_distance         -2.698e-10   2.89e-08     -0.009      0.993    -5.7e-08    5.64e-08\n",
      "sigma2                    2151.8966    191.705     11.225      0.000    1776.162    2527.631\n",
      "===================================================================================\n",
      "Ljung-Box (L1) (Q):                  72.06   Jarque-Bera (JB):                75.31\n",
      "Prob(Q):                              0.00   Prob(JB):                         0.00\n",
      "Heteroskedasticity (H):               4.51   Skew:                            -0.01\n",
      "Prob(H) (two-sided):                  0.00   Kurtosis:                         4.89\n",
      "===================================================================================\n",
      "\n",
      "Warnings:\n",
      "[1] Covariance matrix calculated using the outer product of gradients (complex-step).\n",
      "[2] Covariance matrix is singular or near-singular, with condition number 5.47e+33. Standard errors may be unstable.\n",
      "                               SARIMAX Results                                \n",
      "==============================================================================\n",
      "Dep. Variable:                      y   No. Observations:                  506\n",
      "Model:                        SARIMAX   Log Likelihood               -3172.290\n",
      "Date:                Mon, 04 Apr 2022   AIC                           6358.581\n",
      "Time:                        01:57:26   BIC                           6388.167\n",
      "Sample:                    01-22-2020   HQIC                          6370.184\n",
      "                         - 06-10-2021                                         \n",
      "Covariance Type:                  opg                                         \n",
      "============================================================================================\n",
      "                               coef    std err          z      P>|z|      [0.025      0.975]\n",
      "--------------------------------------------------------------------------------------------\n",
      "total_population         -5.547e-06      0.002     -0.003      0.998      -0.004       0.004\n",
      "number_of_meat_plants    -1.107e-10   4.02e-08     -0.003      0.998    -7.9e-08    7.87e-08\n",
      "no_of_death              -4.703e-08   1.71e-05     -0.003      0.998   -3.35e-05    3.34e-05\n",
      "virus_pressure               1.1968      4.297      0.279      0.781      -7.224       9.618\n",
      "no_of_student_immigrants -1.403e-07    5.1e-05     -0.003      0.998      -0.000    9.98e-05\n",
      "airport_distance         -1.152e-09   4.19e-07     -0.003      0.998   -8.22e-07    8.19e-07\n",
      "sigma2                     4.43e+04   3946.882     11.225      0.000    3.66e+04     5.2e+04\n",
      "===================================================================================\n",
      "Ljung-Box (L1) (Q):                  11.92   Jarque-Bera (JB):              2352.28\n",
      "Prob(Q):                              0.00   Prob(JB):                         0.00\n",
      "Heteroskedasticity (H):               4.68   Skew:                            -1.40\n",
      "Prob(H) (two-sided):                  0.00   Kurtosis:                        13.19\n",
      "===================================================================================\n",
      "\n",
      "Warnings:\n",
      "[1] Covariance matrix calculated using the outer product of gradients (complex-step).\n",
      "[2] Covariance matrix is singular or near-singular, with condition number 3.5e+35. Standard errors may be unstable.\n",
      "                               SARIMAX Results                                \n",
      "==============================================================================\n",
      "Dep. Variable:                      y   No. Observations:                  506\n",
      "Model:                        SARIMAX   Log Likelihood               -2695.352\n",
      "Date:                Mon, 04 Apr 2022   AIC                           5404.704\n",
      "Time:                        01:57:26   BIC                           5434.289\n",
      "Sample:                    01-22-2020   HQIC                          5416.307\n",
      "                         - 06-10-2021                                         \n",
      "Covariance Type:                  opg                                         \n",
      "============================================================================================\n",
      "                               coef    std err          z      P>|z|      [0.025      0.975]\n",
      "--------------------------------------------------------------------------------------------\n",
      "total_population         -1.028e-06      0.001     -0.001      0.999      -0.002       0.002\n",
      "number_of_meat_plants    -3.504e-11   2.64e-08     -0.001      0.999   -5.18e-08    5.18e-08\n",
      "no_of_death              -1.074e-08    8.1e-06     -0.001      0.999   -1.59e-05    1.59e-05\n",
      "virus_pressure               1.1427      1.528      0.748      0.455      -1.853       4.138\n",
      "no_of_student_immigrants -2.224e-08   1.68e-05     -0.001      0.999   -3.29e-05    3.29e-05\n",
      "airport_distance         -3.269e-10   2.47e-07     -0.001      0.999   -4.84e-07    4.83e-07\n",
      "sigma2                    6725.8326    599.164     11.225      0.000    5551.494    7900.172\n",
      "===================================================================================\n",
      "Ljung-Box (L1) (Q):                   8.16   Jarque-Bera (JB):             17661.33\n",
      "Prob(Q):                              0.00   Prob(JB):                         0.00\n",
      "Heteroskedasticity (H):              64.42   Skew:                            -3.40\n",
      "Prob(H) (two-sided):                  0.00   Kurtosis:                        31.13\n",
      "===================================================================================\n",
      "\n",
      "Warnings:\n",
      "[1] Covariance matrix calculated using the outer product of gradients (complex-step).\n",
      "[2] Covariance matrix is singular or near-singular, with condition number 9.86e+33. Standard errors may be unstable.\n",
      "                               SARIMAX Results                                \n",
      "==============================================================================\n",
      "Dep. Variable:                      y   No. Observations:                  506\n",
      "Model:                        SARIMAX   Log Likelihood               -3004.832\n",
      "Date:                Mon, 04 Apr 2022   AIC                           6023.664\n",
      "Time:                        01:57:26   BIC                           6053.250\n",
      "Sample:                    01-22-2020   HQIC                          6035.267\n",
      "                         - 06-10-2021                                         \n",
      "Covariance Type:                  opg                                         \n",
      "============================================================================================\n",
      "                               coef    std err          z      P>|z|      [0.025      0.975]\n",
      "--------------------------------------------------------------------------------------------\n",
      "total_population          1.552e-06      0.002      0.001      0.999      -0.004       0.004\n",
      "number_of_meat_plants      5.36e-11   7.62e-08      0.001      0.999   -1.49e-07    1.49e-07\n",
      "no_of_death               1.322e-08   1.88e-05      0.001      0.999   -3.68e-05    3.69e-05\n",
      "virus_pressure               1.1697      3.237      0.361      0.718      -5.175       7.514\n",
      "no_of_student_immigrants  2.601e-08    3.7e-05      0.001      0.999   -7.25e-05    7.25e-05\n",
      "airport_distance          5.453e-10   7.75e-07      0.001      0.999   -1.52e-06    1.52e-06\n",
      "sigma2                    2.286e+04   2036.023     11.226      0.000    1.89e+04    2.68e+04\n",
      "===================================================================================\n",
      "Ljung-Box (L1) (Q):                   0.68   Jarque-Bera (JB):           1112048.56\n",
      "Prob(Q):                              0.41   Prob(JB):                         0.00\n",
      "Heteroskedasticity (H):             118.49   Skew:                           -13.60\n",
      "Prob(H) (two-sided):                  0.00   Kurtosis:                       231.05\n",
      "===================================================================================\n",
      "\n",
      "Warnings:\n",
      "[1] Covariance matrix calculated using the outer product of gradients (complex-step).\n",
      "[2] Covariance matrix is singular or near-singular, with condition number 1.16e+34. Standard errors may be unstable.\n",
      "                               SARIMAX Results                                \n",
      "==============================================================================\n",
      "Dep. Variable:                      y   No. Observations:                  506\n",
      "Model:                        SARIMAX   Log Likelihood               -2549.404\n",
      "Date:                Mon, 04 Apr 2022   AIC                           5112.808\n",
      "Time:                        01:57:26   BIC                           5142.394\n",
      "Sample:                    01-22-2020   HQIC                          5124.412\n",
      "                         - 06-10-2021                                         \n",
      "Covariance Type:                  opg                                         \n",
      "============================================================================================\n",
      "                               coef    std err          z      P>|z|      [0.025      0.975]\n",
      "--------------------------------------------------------------------------------------------\n",
      "total_population         -9.206e-06      0.001     -0.013      0.990      -0.001       0.001\n",
      "number_of_meat_plants    -2.779e-10   2.21e-08     -0.013      0.990   -4.37e-08    4.31e-08\n",
      "no_of_death              -8.303e-08   6.62e-06     -0.013      0.990    -1.3e-05    1.29e-05\n",
      "virus_pressure               1.0019      0.558      1.797      0.072      -0.091       2.095\n",
      "no_of_student_immigrants -1.776e-07   1.42e-05     -0.013      0.990   -2.79e-05    2.76e-05\n",
      "airport_distance         -5.822e-09   4.64e-07     -0.013      0.990   -9.15e-07    9.03e-07\n",
      "sigma2                    3777.5945    336.530     11.225      0.000    3118.008    4437.181\n",
      "===================================================================================\n",
      "Ljung-Box (L1) (Q):                   2.15   Jarque-Bera (JB):             16162.00\n",
      "Prob(Q):                              0.14   Prob(JB):                         0.00\n",
      "Heteroskedasticity (H):              16.66   Skew:                             0.07\n",
      "Prob(H) (two-sided):                  0.00   Kurtosis:                        30.69\n",
      "===================================================================================\n",
      "\n",
      "Warnings:\n",
      "[1] Covariance matrix calculated using the outer product of gradients (complex-step).\n",
      "[2] Covariance matrix is singular or near-singular, with condition number 5.86e+31. Standard errors may be unstable.\n",
      "                               SARIMAX Results                                \n",
      "==============================================================================\n",
      "Dep. Variable:                      y   No. Observations:                  506\n",
      "Model:                        SARIMAX   Log Likelihood               -2403.522\n",
      "Date:                Mon, 04 Apr 2022   AIC                           4821.044\n",
      "Time:                        01:57:26   BIC                           4850.629\n",
      "Sample:                    01-22-2020   HQIC                          4832.647\n",
      "                         - 06-10-2021                                         \n",
      "Covariance Type:                  opg                                         \n",
      "============================================================================================\n",
      "                               coef    std err          z      P>|z|      [0.025      0.975]\n",
      "--------------------------------------------------------------------------------------------\n",
      "total_population         -3.551e-06      0.000     -0.008      0.993      -0.001       0.001\n",
      "number_of_meat_plants    -8.265e-11   9.81e-09     -0.008      0.993   -1.93e-08    1.92e-08\n",
      "no_of_death              -3.767e-08   4.47e-06     -0.008      0.993    -8.8e-06    8.73e-06\n",
      "virus_pressure               1.1070      0.321      3.443      0.001       0.477       1.737\n",
      "no_of_student_immigrants -7.824e-08   9.29e-06     -0.008      0.993   -1.83e-05    1.81e-05\n",
      "airport_distance         -1.462e-09   1.74e-07     -0.008      0.993   -3.42e-07    3.39e-07\n",
      "sigma2                    2122.2511    189.061     11.225      0.000    1751.698    2492.804\n",
      "===================================================================================\n",
      "Ljung-Box (L1) (Q):                  10.74   Jarque-Bera (JB):             15111.98\n",
      "Prob(Q):                              0.00   Prob(JB):                         0.00\n",
      "Heteroskedasticity (H):               3.13   Skew:                            -0.76\n",
      "Prob(H) (two-sided):                  0.00   Kurtosis:                        29.73\n",
      "===================================================================================\n",
      "\n",
      "Warnings:\n",
      "[1] Covariance matrix calculated using the outer product of gradients (complex-step).\n",
      "[2] Covariance matrix is singular or near-singular, with condition number 7.67e+31. Standard errors may be unstable.\n",
      "                               SARIMAX Results                                \n",
      "==============================================================================\n",
      "Dep. Variable:                      y   No. Observations:                  506\n",
      "Model:                        SARIMAX   Log Likelihood               -2862.478\n",
      "Date:                Mon, 04 Apr 2022   AIC                           5738.956\n",
      "Time:                        01:57:26   BIC                           5768.542\n",
      "Sample:                    01-22-2020   HQIC                          5750.560\n",
      "                         - 06-10-2021                                         \n",
      "Covariance Type:                  opg                                         \n",
      "============================================================================================\n",
      "                               coef    std err          z      P>|z|      [0.025      0.975]\n",
      "--------------------------------------------------------------------------------------------\n",
      "total_population         -2.233e-05      0.001     -0.017      0.986      -0.003       0.002\n",
      "number_of_meat_plants    -4.899e-10   2.81e-08     -0.017      0.986   -5.56e-08    5.46e-08\n",
      "no_of_death              -2.196e-07   1.26e-05     -0.017      0.986   -2.49e-05    2.45e-05\n",
      "virus_pressure               0.9881      2.072      0.477      0.633      -3.073       5.049\n",
      "no_of_student_immigrants -4.119e-07   2.36e-05     -0.017      0.986   -4.67e-05    4.59e-05\n",
      "airport_distance         -1.351e-08   7.75e-07     -0.017      0.986   -1.53e-06    1.51e-06\n",
      "sigma2                    1.302e+04   1159.960     11.225      0.000    1.07e+04    1.53e+04\n",
      "===================================================================================\n",
      "Ljung-Box (L1) (Q):                 112.74   Jarque-Bera (JB):               484.47\n",
      "Prob(Q):                              0.00   Prob(JB):                         0.00\n",
      "Heteroskedasticity (H):               4.92   Skew:                            -1.21\n",
      "Prob(H) (two-sided):                  0.00   Kurtosis:                         7.13\n",
      "===================================================================================\n",
      "\n",
      "Warnings:\n",
      "[1] Covariance matrix calculated using the outer product of gradients (complex-step).\n",
      "[2] Covariance matrix is singular or near-singular, with condition number 8.92e+32. Standard errors may be unstable.\n",
      "                               SARIMAX Results                                \n",
      "==============================================================================\n",
      "Dep. Variable:                      y   No. Observations:                  506\n",
      "Model:                        SARIMAX   Log Likelihood               -3852.279\n",
      "Date:                Mon, 04 Apr 2022   AIC                           7718.559\n",
      "Time:                        01:57:26   BIC                           7748.145\n",
      "Sample:                    01-22-2020   HQIC                          7730.162\n",
      "                         - 06-10-2021                                         \n",
      "Covariance Type:                  opg                                         \n",
      "============================================================================================\n",
      "                               coef    std err          z      P>|z|      [0.025      0.975]\n",
      "--------------------------------------------------------------------------------------------\n",
      "total_population         -5.574e-05      0.003     -0.022      0.982      -0.005       0.005\n",
      "number_of_meat_plants    -1.689e-09   7.67e-08     -0.022      0.982   -1.52e-07    1.49e-07\n",
      "no_of_death              -4.546e-07   2.07e-05     -0.022      0.982   -4.09e-05       4e-05\n",
      "virus_pressure               1.0659      1.040      1.025      0.305      -0.972       3.104\n",
      "no_of_student_immigrants -9.023e-07    4.1e-05     -0.022      0.982   -8.12e-05    7.94e-05\n",
      "airport_distance         -3.516e-09    1.6e-07     -0.022      0.982   -3.17e-07    3.09e-07\n",
      "sigma2                    6.512e+05   1.84e-07   3.54e+12      0.000    6.51e+05    6.51e+05\n",
      "===================================================================================\n",
      "Ljung-Box (L1) (Q):                  42.97   Jarque-Bera (JB):             21364.59\n",
      "Prob(Q):                              0.00   Prob(JB):                         0.00\n",
      "Heteroskedasticity (H):               5.38   Skew:                             2.64\n",
      "Prob(H) (two-sided):                  0.00   Kurtosis:                        34.39\n",
      "===================================================================================\n",
      "\n",
      "Warnings:\n",
      "[1] Covariance matrix calculated using the outer product of gradients (complex-step).\n",
      "[2] Covariance matrix is singular or near-singular, with condition number 4.99e+29. Standard errors may be unstable.\n"
     ]
    }
   ],
   "source": [
    "for state in high_case_10:\n",
    "    print(grid_model[state].summary())"
   ]
  },
  {
   "cell_type": "code",
   "execution_count": 52,
   "metadata": {},
   "outputs": [
    {
     "name": "stdout",
     "output_type": "stream",
     "text": [
      "                                  SARIMAX Results                                   \n",
      "====================================================================================\n",
      "Dep. Variable:     covid_19_confirmed_cases   No. Observations:                  345\n",
      "Model:                     SARIMAX(0, 7, 0)   Log Likelihood               -2611.281\n",
      "Date:                      Mon, 04 Apr 2022   AIC                           5236.562\n",
      "Time:                              02:07:47   BIC                           5263.323\n",
      "Sample:                          01-22-2020   HQIC                          5247.227\n",
      "                               - 12-31-2020                                         \n",
      "Covariance Type:                        opg                                         \n",
      "============================================================================================\n",
      "                               coef    std err          z      P>|z|      [0.025      0.975]\n",
      "--------------------------------------------------------------------------------------------\n",
      "total_population          1.281e-08      0.002   6.11e-06      1.000      -0.004       0.004\n",
      "number_of_meat_plants    -4.279e-10        nan        nan        nan         nan         nan\n",
      "no_of_death               1.091e-08   2.16e-05      0.001      1.000   -4.24e-05    4.24e-05\n",
      "virus_pressure               1.0344      0.003    310.969      0.000       1.028       1.041\n",
      "no_of_student_immigrants -4.699e-09   2.27e-05     -0.000      1.000   -4.44e-05    4.44e-05\n",
      "airport_distance         -2.347e-09   4.52e-08     -0.052      0.959   -9.09e-08    8.62e-08\n",
      "sigma2                    3.006e+05   7616.961     39.463      0.000    2.86e+05    3.16e+05\n",
      "===================================================================================\n",
      "Ljung-Box (L1) (Q):                 270.57   Jarque-Bera (JB):              3820.97\n",
      "Prob(Q):                              0.00   Prob(JB):                         0.00\n",
      "Heteroskedasticity (H):             485.11   Skew:                             0.07\n",
      "Prob(H) (two-sided):                  0.00   Kurtosis:                        19.47\n",
      "===================================================================================\n",
      "\n",
      "Warnings:\n",
      "[1] Covariance matrix calculated using the outer product of gradients (complex-step).\n",
      "[2] Covariance matrix is singular or near-singular, with condition number 4.06e+41. Standard errors may be unstable.\n",
      "                                  SARIMAX Results                                   \n",
      "====================================================================================\n",
      "Dep. Variable:     covid_19_confirmed_cases   No. Observations:                  345\n",
      "Model:                     SARIMAX(0, 7, 0)   Log Likelihood               -2277.095\n",
      "Date:                      Mon, 04 Apr 2022   AIC                           4568.189\n",
      "Time:                              02:07:47   BIC                           4594.950\n",
      "Sample:                          01-22-2020   HQIC                          4578.855\n",
      "                               - 12-31-2020                                         \n",
      "Covariance Type:                        opg                                         \n",
      "============================================================================================\n",
      "                               coef    std err          z      P>|z|      [0.025      0.975]\n",
      "--------------------------------------------------------------------------------------------\n",
      "total_population         -9.578e-11   5.88e-06  -1.63e-05      1.000   -1.15e-05    1.15e-05\n",
      "number_of_meat_plants     1.282e-10        nan        nan        nan         nan         nan\n",
      "no_of_death               1.818e-10   4.45e-07      0.000      1.000   -8.73e-07    8.73e-07\n",
      "virus_pressure               1.2112      0.004    300.566      0.000       1.203       1.219\n",
      "no_of_student_immigrants  4.981e-10   6.38e-07      0.001      0.999   -1.25e-06    1.25e-06\n",
      "airport_distance          1.067e-10   4.42e-09      0.024      0.981   -8.55e-09    8.76e-09\n",
      "sigma2                    4.161e+04   1061.624     39.193      0.000    3.95e+04    4.37e+04\n",
      "===================================================================================\n",
      "Ljung-Box (L1) (Q):                 248.24   Jarque-Bera (JB):             15925.63\n",
      "Prob(Q):                              0.00   Prob(JB):                         0.00\n",
      "Heteroskedasticity (H):             449.15   Skew:                             0.03\n",
      "Prob(H) (two-sided):                  0.00   Kurtosis:                        36.63\n",
      "===================================================================================\n",
      "\n",
      "Warnings:\n",
      "[1] Covariance matrix calculated using the outer product of gradients (complex-step).\n",
      "[2] Covariance matrix is singular or near-singular, with condition number 1.53e+43. Standard errors may be unstable.\n",
      "                                  SARIMAX Results                                   \n",
      "====================================================================================\n",
      "Dep. Variable:     covid_19_confirmed_cases   No. Observations:                  345\n",
      "Model:                     SARIMAX(0, 7, 0)   Log Likelihood               -1979.004\n",
      "Date:                      Mon, 04 Apr 2022   AIC                           3972.008\n",
      "Time:                              02:07:48   BIC                           3998.769\n",
      "Sample:                          01-22-2020   HQIC                          3982.674\n",
      "                               - 12-31-2020                                         \n",
      "Covariance Type:                        opg                                         \n",
      "============================================================================================\n",
      "                               coef    std err          z      P>|z|      [0.025      0.975]\n",
      "--------------------------------------------------------------------------------------------\n",
      "total_population          1.064e-08   4.41e-06      0.002      0.998   -8.64e-06    8.66e-06\n",
      "number_of_meat_plants     2.774e-08        nan        nan        nan         nan         nan\n",
      "no_of_death               1.753e-10   2.02e-07      0.001      0.999   -3.96e-07    3.96e-07\n",
      "virus_pressure               1.1431      0.002    641.994      0.000       1.140       1.147\n",
      "no_of_student_immigrants  1.848e-08   9.11e-08      0.203      0.839    -1.6e-07    1.97e-07\n",
      "airport_distance         -9.568e-09   7.19e-10    -13.306      0.000    -1.1e-08   -8.16e-09\n",
      "sigma2                    7131.0073    319.225     22.339      0.000    6505.339    7756.676\n",
      "===================================================================================\n",
      "Ljung-Box (L1) (Q):                 264.59   Jarque-Bera (JB):               231.47\n",
      "Prob(Q):                              0.00   Prob(JB):                         0.00\n",
      "Heteroskedasticity (H):              36.14   Skew:                             0.02\n",
      "Prob(H) (two-sided):                  0.00   Kurtosis:                         7.05\n",
      "===================================================================================\n",
      "\n",
      "Warnings:\n",
      "[1] Covariance matrix calculated using the outer product of gradients (complex-step).\n",
      "[2] Covariance matrix is singular or near-singular, with condition number 2.99e+39. Standard errors may be unstable.\n",
      "                                  SARIMAX Results                                   \n",
      "====================================================================================\n",
      "Dep. Variable:     covid_19_confirmed_cases   No. Observations:                  345\n",
      "Model:                     SARIMAX(0, 7, 0)   Log Likelihood               -2336.781\n",
      "Date:                      Mon, 04 Apr 2022   AIC                           4687.562\n",
      "Time:                              02:07:48   BIC                           4714.323\n",
      "Sample:                          01-22-2020   HQIC                          4698.228\n",
      "                               - 12-31-2020                                         \n",
      "Covariance Type:                        opg                                         \n",
      "============================================================================================\n",
      "                               coef    std err          z      P>|z|      [0.025      0.975]\n",
      "--------------------------------------------------------------------------------------------\n",
      "total_population          7.068e-06   5.75e-05      0.123      0.902      -0.000       0.000\n",
      "number_of_meat_plants     6.581e-06   1.14e-08    576.533      0.000    6.56e-06     6.6e-06\n",
      "no_of_death               4.993e-09   6.18e-07      0.008      0.994   -1.21e-06    1.22e-06\n",
      "virus_pressure               0.5811      0.020     29.208      0.000       0.542       0.620\n",
      "no_of_student_immigrants  1.096e-06   6.27e-06      0.175      0.861   -1.12e-05    1.34e-05\n",
      "airport_distance          4.408e-07   1.37e-08     32.185      0.000    4.14e-07    4.68e-07\n",
      "sigma2                    5.923e+04   2388.291     24.802      0.000    5.46e+04    6.39e+04\n",
      "===================================================================================\n",
      "Ljung-Box (L1) (Q):                 239.70   Jarque-Bera (JB):               457.05\n",
      "Prob(Q):                              0.00   Prob(JB):                         0.00\n",
      "Heteroskedasticity (H):               1.87   Skew:                            -0.04\n",
      "Prob(H) (two-sided):                  0.00   Kurtosis:                         8.70\n",
      "===================================================================================\n",
      "\n",
      "Warnings:\n",
      "[1] Covariance matrix calculated using the outer product of gradients (complex-step).\n",
      "[2] Covariance matrix is singular or near-singular, with condition number 4.33e+39. Standard errors may be unstable.\n"
     ]
    },
    {
     "name": "stdout",
     "output_type": "stream",
     "text": [
      "                                  SARIMAX Results                                   \n",
      "====================================================================================\n",
      "Dep. Variable:     covid_19_confirmed_cases   No. Observations:                  345\n",
      "Model:                     SARIMAX(0, 7, 0)   Log Likelihood               -2026.623\n",
      "Date:                      Mon, 04 Apr 2022   AIC                           4067.247\n",
      "Time:                              02:07:48   BIC                           4094.008\n",
      "Sample:                          01-22-2020   HQIC                          4077.912\n",
      "                               - 12-31-2020                                         \n",
      "Covariance Type:                        opg                                         \n",
      "============================================================================================\n",
      "                               coef    std err          z      P>|z|      [0.025      0.975]\n",
      "--------------------------------------------------------------------------------------------\n",
      "total_population          1.913e-09   1.81e-05      0.000      1.000   -3.54e-05    3.54e-05\n",
      "number_of_meat_plants     8.757e-09        nan        nan        nan         nan         nan\n",
      "no_of_death               3.484e-09   6.81e-08      0.051      0.959    -1.3e-07    1.37e-07\n",
      "virus_pressure               1.2565      0.007    169.499      0.000       1.242       1.271\n",
      "no_of_student_immigrants  3.553e-09   8.02e-08      0.044      0.965   -1.54e-07    1.61e-07\n",
      "airport_distance          4.077e-09   3.39e-09      1.201      0.230   -2.57e-09    1.07e-08\n",
      "sigma2                    9451.9727    287.393     32.889      0.000    8888.692       1e+04\n",
      "===================================================================================\n",
      "Ljung-Box (L1) (Q):                 198.43   Jarque-Bera (JB):              3155.09\n",
      "Prob(Q):                              0.00   Prob(JB):                         0.00\n",
      "Heteroskedasticity (H):              22.43   Skew:                            -1.43\n",
      "Prob(H) (two-sided):                  0.00   Kurtosis:                        17.69\n",
      "===================================================================================\n",
      "\n",
      "Warnings:\n",
      "[1] Covariance matrix calculated using the outer product of gradients (complex-step).\n",
      "[2] Covariance matrix is singular or near-singular, with condition number 1.39e+41. Standard errors may be unstable.\n",
      "                                  SARIMAX Results                                   \n",
      "====================================================================================\n",
      "Dep. Variable:     covid_19_confirmed_cases   No. Observations:                  345\n",
      "Model:                     SARIMAX(0, 7, 0)   Log Likelihood               -2297.217\n",
      "Date:                      Mon, 04 Apr 2022   AIC                           4608.435\n",
      "Time:                              02:07:49   BIC                           4635.196\n",
      "Sample:                          01-22-2020   HQIC                          4619.100\n",
      "                               - 12-31-2020                                         \n",
      "Covariance Type:                        opg                                         \n",
      "============================================================================================\n",
      "                               coef    std err          z      P>|z|      [0.025      0.975]\n",
      "--------------------------------------------------------------------------------------------\n",
      "total_population         -1.047e-07      0.000     -0.001      0.999      -0.000       0.000\n",
      "number_of_meat_plants     7.371e-08        nan        nan        nan         nan         nan\n",
      "no_of_death              -1.782e-07   2.23e-07     -0.799      0.424   -6.16e-07    2.59e-07\n",
      "virus_pressure               1.2655      0.014     87.953      0.000       1.237       1.294\n",
      "no_of_student_immigrants -6.361e-11   6.72e-07  -9.47e-05      1.000   -1.32e-06    1.32e-06\n",
      "airport_distance         -1.047e-07   1.14e-08     -9.212      0.000   -1.27e-07   -8.24e-08\n",
      "sigma2                    4.687e+04   1238.029     37.858      0.000    4.44e+04    4.93e+04\n",
      "===================================================================================\n",
      "Ljung-Box (L1) (Q):                 264.93   Jarque-Bera (JB):             39441.68\n",
      "Prob(Q):                              0.00   Prob(JB):                         0.00\n",
      "Heteroskedasticity (H):              53.81   Skew:                            -0.02\n",
      "Prob(H) (two-sided):                  0.00   Kurtosis:                        55.92\n",
      "===================================================================================\n",
      "\n",
      "Warnings:\n",
      "[1] Covariance matrix calculated using the outer product of gradients (complex-step).\n",
      "[2] Covariance matrix is singular or near-singular, with condition number 1.96e+39. Standard errors may be unstable.\n",
      "                                  SARIMAX Results                                   \n",
      "====================================================================================\n",
      "Dep. Variable:     covid_19_confirmed_cases   No. Observations:                  345\n",
      "Model:                     SARIMAX(0, 7, 0)   Log Likelihood               -2008.623\n",
      "Date:                      Mon, 04 Apr 2022   AIC                           4031.247\n",
      "Time:                              02:07:49   BIC                           4058.008\n",
      "Sample:                          01-22-2020   HQIC                          4041.912\n",
      "                               - 12-31-2020                                         \n",
      "Covariance Type:                        opg                                         \n",
      "============================================================================================\n",
      "                               coef    std err          z      P>|z|      [0.025      0.975]\n",
      "--------------------------------------------------------------------------------------------\n",
      "total_population           4.66e-08   2.52e-07      0.185      0.853   -4.47e-07     5.4e-07\n",
      "number_of_meat_plants     8.418e-08   2.81e-10    299.550      0.000    8.36e-08    8.47e-08\n",
      "no_of_death               8.388e-08   1.14e-08      7.337      0.000    6.15e-08    1.06e-07\n",
      "virus_pressure               1.0988      0.002    592.570      0.000       1.095       1.102\n",
      "no_of_student_immigrants  1.521e-07   8.44e-08      1.803      0.071   -1.33e-08    3.18e-07\n",
      "airport_distance          1.656e-07   2.46e-09     67.424      0.000    1.61e-07     1.7e-07\n",
      "sigma2                    8496.9915    216.782     39.196      0.000    8072.106    8921.877\n",
      "===================================================================================\n",
      "Ljung-Box (L1) (Q):                 252.66   Jarque-Bera (JB):              3696.52\n",
      "Prob(Q):                              0.00   Prob(JB):                         0.00\n",
      "Heteroskedasticity (H):             168.77   Skew:                            -0.13\n",
      "Prob(H) (two-sided):                  0.00   Kurtosis:                        19.20\n",
      "===================================================================================\n",
      "\n",
      "Warnings:\n",
      "[1] Covariance matrix calculated using the outer product of gradients (complex-step).\n",
      "[2] Covariance matrix is singular or near-singular, with condition number 4.77e+40. Standard errors may be unstable.\n",
      "                                  SARIMAX Results                                   \n",
      "====================================================================================\n",
      "Dep. Variable:     covid_19_confirmed_cases   No. Observations:                  345\n",
      "Model:                     SARIMAX(0, 7, 0)   Log Likelihood               -1803.291\n",
      "Date:                      Mon, 04 Apr 2022   AIC                           3620.581\n",
      "Time:                              02:07:49   BIC                           3647.343\n",
      "Sample:                          01-22-2020   HQIC                          3631.247\n",
      "                               - 12-31-2020                                         \n",
      "Covariance Type:                        opg                                         \n",
      "============================================================================================\n",
      "                               coef    std err          z      P>|z|      [0.025      0.975]\n",
      "--------------------------------------------------------------------------------------------\n",
      "total_population          1.399e-11    4.9e-07   2.86e-05      1.000    -9.6e-07     9.6e-07\n",
      "number_of_meat_plants    -5.877e-12        nan        nan        nan         nan         nan\n",
      "no_of_death               1.655e-11   3.77e-09      0.004      0.996   -7.37e-09     7.4e-09\n",
      "virus_pressure               1.1744      0.001   2162.901      0.000       1.173       1.175\n",
      "no_of_student_immigrants -1.165e-11   3.93e-08     -0.000      1.000    -7.7e-08     7.7e-08\n",
      "airport_distance          2.634e-11   5.61e-10      0.047      0.963   -1.07e-09    1.13e-09\n",
      "sigma2                    2521.2176    114.959     21.931      0.000    2295.901    2746.534\n",
      "===================================================================================\n",
      "Ljung-Box (L1) (Q):                 252.22   Jarque-Bera (JB):               241.21\n",
      "Prob(Q):                              0.00   Prob(JB):                         0.00\n",
      "Heteroskedasticity (H):              17.30   Skew:                             0.12\n",
      "Prob(H) (two-sided):                  0.00   Kurtosis:                         7.13\n",
      "===================================================================================\n",
      "\n",
      "Warnings:\n",
      "[1] Covariance matrix calculated using the outer product of gradients (complex-step).\n",
      "[2] Covariance matrix is singular or near-singular, with condition number 2.67e+42. Standard errors may be unstable.\n"
     ]
    },
    {
     "name": "stdout",
     "output_type": "stream",
     "text": [
      "                                  SARIMAX Results                                   \n",
      "====================================================================================\n",
      "Dep. Variable:     covid_19_confirmed_cases   No. Observations:                  345\n",
      "Model:                     SARIMAX(0, 7, 0)   Log Likelihood               -2155.558\n",
      "Date:                      Mon, 04 Apr 2022   AIC                           4325.115\n",
      "Time:                              02:07:49   BIC                           4351.877\n",
      "Sample:                          01-22-2020   HQIC                          4335.781\n",
      "                               - 12-31-2020                                         \n",
      "Covariance Type:                        opg                                         \n",
      "============================================================================================\n",
      "                               coef    std err          z      P>|z|      [0.025      0.975]\n",
      "--------------------------------------------------------------------------------------------\n",
      "total_population          3.815e-10   1.97e-05   1.94e-05      1.000   -3.86e-05    3.86e-05\n",
      "number_of_meat_plants    -1.993e-09   4.39e-09     -0.454      0.650   -1.06e-08     6.6e-09\n",
      "no_of_death               3.999e-10   1.73e-07      0.002      0.998   -3.38e-07    3.39e-07\n",
      "virus_pressure               1.1442      0.004    314.418      0.000       1.137       1.151\n",
      "no_of_student_immigrants  3.479e-10   9.26e-07      0.000      1.000   -1.81e-06    1.81e-06\n",
      "airport_distance          3.721e-10   1.96e-08      0.019      0.985    -3.8e-08    3.87e-08\n",
      "sigma2                    2.027e+04    805.402     25.168      0.000    1.87e+04    2.18e+04\n",
      "===================================================================================\n",
      "Ljung-Box (L1) (Q):                 264.98   Jarque-Bera (JB):               593.70\n",
      "Prob(Q):                              0.00   Prob(JB):                         0.00\n",
      "Heteroskedasticity (H):              19.07   Skew:                             0.02\n",
      "Prob(H) (two-sided):                  0.00   Kurtosis:                         9.49\n",
      "===================================================================================\n",
      "\n",
      "Warnings:\n",
      "[1] Covariance matrix calculated using the outer product of gradients (complex-step).\n",
      "[2] Covariance matrix is singular or near-singular, with condition number 2.12e+38. Standard errors may be unstable.\n",
      "                                  SARIMAX Results                                   \n",
      "====================================================================================\n",
      "Dep. Variable:     covid_19_confirmed_cases   No. Observations:                  345\n",
      "Model:                     SARIMAX(0, 7, 0)   Log Likelihood               -2584.567\n",
      "Date:                      Mon, 04 Apr 2022   AIC                           5183.134\n",
      "Time:                              02:07:50   BIC                           5209.895\n",
      "Sample:                          01-22-2020   HQIC                          5193.799\n",
      "                               - 12-31-2020                                         \n",
      "Covariance Type:                        opg                                         \n",
      "============================================================================================\n",
      "                               coef    std err          z      P>|z|      [0.025      0.975]\n",
      "--------------------------------------------------------------------------------------------\n",
      "total_population          4.619e-09      0.004    1.3e-06      1.000      -0.007       0.007\n",
      "number_of_meat_plants     4.734e-11   1.42e-06   3.33e-05      1.000   -2.79e-06    2.79e-06\n",
      "no_of_death               4.573e-09   1.59e-05      0.000      1.000   -3.11e-05    3.11e-05\n",
      "virus_pressure               1.2874      0.007    173.732      0.000       1.273       1.302\n",
      "no_of_student_immigrants  3.156e-11   5.08e-05   6.22e-07      1.000   -9.95e-05    9.95e-05\n",
      "airport_distance          4.311e-09   1.23e-07      0.035      0.972   -2.37e-07    2.46e-07\n",
      "sigma2                    2.566e+05   1.14e+04     22.574      0.000    2.34e+05    2.79e+05\n",
      "===================================================================================\n",
      "Ljung-Box (L1) (Q):                 267.14   Jarque-Bera (JB):               237.75\n",
      "Prob(Q):                              0.00   Prob(JB):                         0.00\n",
      "Heteroskedasticity (H):               0.81   Skew:                             0.01\n",
      "Prob(H) (two-sided):                  0.26   Kurtosis:                         7.11\n",
      "===================================================================================\n",
      "\n",
      "Warnings:\n",
      "[1] Covariance matrix calculated using the outer product of gradients (complex-step).\n",
      "[2] Covariance matrix is singular or near-singular, with condition number 1.64e+38. Standard errors may be unstable.\n"
     ]
    }
   ],
   "source": [
    "# sarimax model \n",
    "ts_model = {}\n",
    "for state in high_case_10:\n",
    "    ts_model[state] = SARIMAX(train_df[state]['covid_19_confirmed_cases'],\n",
    "                        exog = train_df[state].loc[:,\n",
    "                                             ~train_df[state].columns.isin(['covid_19_confirmed_cases'])],\n",
    "                   order = (0,0,0), seasonal_order = (0,0,0,7)).fit()\n",
    "    print(ts_model[state].summary())"
   ]
  },
  {
   "cell_type": "code",
   "execution_count": 53,
   "metadata": {},
   "outputs": [
    {
     "data": {
      "application/javascript": [
       "\n",
       "        if (window._pyforest_update_imports_cell) { window._pyforest_update_imports_cell('import matplotlib.pyplot as plt\\nfrom sklearn.preprocessing import LabelEncoder\\nimport seaborn as sns\\nfrom sklearn import metrics\\nimport pandas as pd\\nimport numpy as np'); }\n",
       "    "
      ],
      "text/plain": [
       "<IPython.core.display.Javascript object>"
      ]
     },
     "metadata": {},
     "output_type": "display_data"
    },
    {
     "data": {
      "application/javascript": [
       "\n",
       "        if (window._pyforest_update_imports_cell) { window._pyforest_update_imports_cell('import matplotlib.pyplot as plt\\nfrom sklearn.preprocessing import LabelEncoder\\nimport seaborn as sns\\nfrom sklearn import metrics\\nimport pandas as pd\\nimport numpy as np'); }\n",
       "    "
      ],
      "text/plain": [
       "<IPython.core.display.Javascript object>"
      ]
     },
     "metadata": {},
     "output_type": "display_data"
    },
    {
     "data": {
      "application/javascript": [
       "\n",
       "        if (window._pyforest_update_imports_cell) { window._pyforest_update_imports_cell('import matplotlib.pyplot as plt\\nfrom sklearn.preprocessing import LabelEncoder\\nimport seaborn as sns\\nfrom sklearn import metrics\\nimport pandas as pd\\nimport numpy as np'); }\n",
       "    "
      ],
      "text/plain": [
       "<IPython.core.display.Javascript object>"
      ]
     },
     "metadata": {},
     "output_type": "display_data"
    },
    {
     "data": {
      "application/javascript": [
       "\n",
       "        if (window._pyforest_update_imports_cell) { window._pyforest_update_imports_cell('import matplotlib.pyplot as plt\\nfrom sklearn.preprocessing import LabelEncoder\\nimport seaborn as sns\\nfrom sklearn import metrics\\nimport pandas as pd\\nimport numpy as np'); }\n",
       "    "
      ],
      "text/plain": [
       "<IPython.core.display.Javascript object>"
      ]
     },
     "metadata": {},
     "output_type": "display_data"
    },
    {
     "data": {
      "application/javascript": [
       "\n",
       "        if (window._pyforest_update_imports_cell) { window._pyforest_update_imports_cell('import matplotlib.pyplot as plt\\nfrom sklearn.preprocessing import LabelEncoder\\nimport seaborn as sns\\nfrom sklearn import metrics\\nimport pandas as pd\\nimport numpy as np'); }\n",
       "    "
      ],
      "text/plain": [
       "<IPython.core.display.Javascript object>"
      ]
     },
     "metadata": {},
     "output_type": "display_data"
    },
    {
     "data": {
      "application/javascript": [
       "\n",
       "        if (window._pyforest_update_imports_cell) { window._pyforest_update_imports_cell('import matplotlib.pyplot as plt\\nfrom sklearn.preprocessing import LabelEncoder\\nimport seaborn as sns\\nfrom sklearn import metrics\\nimport pandas as pd\\nimport numpy as np'); }\n",
       "    "
      ],
      "text/plain": [
       "<IPython.core.display.Javascript object>"
      ]
     },
     "metadata": {},
     "output_type": "display_data"
    },
    {
     "data": {
      "application/javascript": [
       "\n",
       "        if (window._pyforest_update_imports_cell) { window._pyforest_update_imports_cell('import matplotlib.pyplot as plt\\nfrom sklearn.preprocessing import LabelEncoder\\nimport seaborn as sns\\nfrom sklearn import metrics\\nimport pandas as pd\\nimport numpy as np'); }\n",
       "    "
      ],
      "text/plain": [
       "<IPython.core.display.Javascript object>"
      ]
     },
     "metadata": {},
     "output_type": "display_data"
    },
    {
     "data": {
      "application/javascript": [
       "\n",
       "        if (window._pyforest_update_imports_cell) { window._pyforest_update_imports_cell('import matplotlib.pyplot as plt\\nfrom sklearn.preprocessing import LabelEncoder\\nimport seaborn as sns\\nfrom sklearn import metrics\\nimport pandas as pd\\nimport numpy as np'); }\n",
       "    "
      ],
      "text/plain": [
       "<IPython.core.display.Javascript object>"
      ]
     },
     "metadata": {},
     "output_type": "display_data"
    },
    {
     "data": {
      "application/javascript": [
       "\n",
       "        if (window._pyforest_update_imports_cell) { window._pyforest_update_imports_cell('import matplotlib.pyplot as plt\\nfrom sklearn.preprocessing import LabelEncoder\\nimport seaborn as sns\\nfrom sklearn import metrics\\nimport pandas as pd\\nimport numpy as np'); }\n",
       "    "
      ],
      "text/plain": [
       "<IPython.core.display.Javascript object>"
      ]
     },
     "metadata": {},
     "output_type": "display_data"
    },
    {
     "data": {
      "application/javascript": [
       "\n",
       "        if (window._pyforest_update_imports_cell) { window._pyforest_update_imports_cell('import matplotlib.pyplot as plt\\nfrom sklearn.preprocessing import LabelEncoder\\nimport seaborn as sns\\nfrom sklearn import metrics\\nimport pandas as pd\\nimport numpy as np'); }\n",
       "    "
      ],
      "text/plain": [
       "<IPython.core.display.Javascript object>"
      ]
     },
     "metadata": {},
     "output_type": "display_data"
    }
   ],
   "source": [
    "# forecast first\n",
    "forecast = {}\n",
    "for state in high_case_10:\n",
    "    forecast_temp = ts_model[state].forecast(steps = 161,exog = test_df[state].iloc[:161,\n",
    "                                             ~test_df[state].columns.isin(['covid_19_confirmed_cases'])],\n",
    "            typ = 'levels').rename('forecast_sarimax')\n",
    "    forecast[state] = pd.DataFrame(forecast_temp)"
   ]
  },
  {
   "cell_type": "code",
   "execution_count": 40,
   "metadata": {},
   "outputs": [
    {
     "data": {
      "text/html": [
       "<div>\n",
       "<style scoped>\n",
       "    .dataframe tbody tr th:only-of-type {\n",
       "        vertical-align: middle;\n",
       "    }\n",
       "\n",
       "    .dataframe tbody tr th {\n",
       "        vertical-align: top;\n",
       "    }\n",
       "\n",
       "    .dataframe thead th {\n",
       "        text-align: right;\n",
       "    }\n",
       "</style>\n",
       "<table border=\"1\" class=\"dataframe\">\n",
       "  <thead>\n",
       "    <tr style=\"text-align: right;\">\n",
       "      <th></th>\n",
       "      <th>forecast_sarimax</th>\n",
       "    </tr>\n",
       "  </thead>\n",
       "  <tbody>\n",
       "    <tr>\n",
       "      <th>2021-01-01</th>\n",
       "      <td>472.843801</td>\n",
       "    </tr>\n",
       "    <tr>\n",
       "      <th>2021-01-02</th>\n",
       "      <td>579.166259</td>\n",
       "    </tr>\n",
       "    <tr>\n",
       "      <th>2021-01-03</th>\n",
       "      <td>883.256981</td>\n",
       "    </tr>\n",
       "    <tr>\n",
       "      <th>2021-01-04</th>\n",
       "      <td>612.921990</td>\n",
       "    </tr>\n",
       "    <tr>\n",
       "      <th>2021-01-05</th>\n",
       "      <td>553.303012</td>\n",
       "    </tr>\n",
       "    <tr>\n",
       "      <th>2021-01-06</th>\n",
       "      <td>577.572519</td>\n",
       "    </tr>\n",
       "    <tr>\n",
       "      <th>2021-01-07</th>\n",
       "      <td>495.671961</td>\n",
       "    </tr>\n",
       "  </tbody>\n",
       "</table>\n",
       "</div>"
      ],
      "text/plain": [
       "            forecast_sarimax\n",
       "2021-01-01        472.843801\n",
       "2021-01-02        579.166259\n",
       "2021-01-03        883.256981\n",
       "2021-01-04        612.921990\n",
       "2021-01-05        553.303012\n",
       "2021-01-06        577.572519\n",
       "2021-01-07        495.671961"
      ]
     },
     "execution_count": 40,
     "metadata": {},
     "output_type": "execute_result"
    }
   ],
   "source": [
    "forecast['California'][:7]"
   ]
  },
  {
   "cell_type": "code",
   "execution_count": 41,
   "metadata": {},
   "outputs": [
    {
     "data": {
      "text/plain": [
       "date\n",
       "2021-01-01    877.500000\n",
       "2021-01-02    980.129630\n",
       "2021-01-03    830.425926\n",
       "2021-01-04    544.333333\n",
       "2021-01-05    579.925926\n",
       "2021-01-06    570.648148\n",
       "2021-01-07    666.500000\n",
       "Freq: D, Name: covid_19_confirmed_cases, dtype: float64"
      ]
     },
     "execution_count": 41,
     "metadata": {},
     "output_type": "execute_result"
    }
   ],
   "source": [
    "test_df['California']['covid_19_confirmed_cases'].iloc[7:14]"
   ]
  },
  {
   "cell_type": "code",
   "execution_count": 54,
   "metadata": {},
   "outputs": [
    {
     "data": {
      "application/javascript": [
       "\n",
       "        if (window._pyforest_update_imports_cell) { window._pyforest_update_imports_cell('import matplotlib.pyplot as plt\\nfrom sklearn.preprocessing import LabelEncoder\\nimport seaborn as sns\\nfrom sklearn import metrics\\nimport pandas as pd\\nimport numpy as np'); }\n",
       "    "
      ],
      "text/plain": [
       "<IPython.core.display.Javascript object>"
      ]
     },
     "metadata": {},
     "output_type": "display_data"
    },
    {
     "data": {
      "application/javascript": [
       "\n",
       "        if (window._pyforest_update_imports_cell) { window._pyforest_update_imports_cell('import matplotlib.pyplot as plt\\nfrom sklearn.preprocessing import LabelEncoder\\nimport seaborn as sns\\nfrom sklearn import metrics\\nimport pandas as pd\\nimport numpy as np'); }\n",
       "    "
      ],
      "text/plain": [
       "<IPython.core.display.Javascript object>"
      ]
     },
     "metadata": {},
     "output_type": "display_data"
    },
    {
     "data": {
      "application/javascript": [
       "\n",
       "        if (window._pyforest_update_imports_cell) { window._pyforest_update_imports_cell('import matplotlib.pyplot as plt\\nfrom sklearn.preprocessing import LabelEncoder\\nimport seaborn as sns\\nfrom sklearn import metrics\\nimport pandas as pd\\nimport numpy as np'); }\n",
       "    "
      ],
      "text/plain": [
       "<IPython.core.display.Javascript object>"
      ]
     },
     "metadata": {},
     "output_type": "display_data"
    },
    {
     "data": {
      "text/plain": [
       "<AxesSubplot:xlabel='date', ylabel='covid_19_confirmed_cases'>"
      ]
     },
     "execution_count": 54,
     "metadata": {},
     "output_type": "execute_result"
    },
    {
     "data": {
      "image/png": "[encoded data removed]",
      "text/plain": [
       "<Figure size 864x432 with 1 Axes>"
      ]
     },
     "metadata": {
      "needs_background": "light"
     },
     "output_type": "display_data"
    }
   ],
   "source": [
    "#forecast plot\n",
    "plt.figure(figsize = (12,6))\n",
    "sns.lineplot(x = test_df['California'].iloc[7:161].index,\n",
    "             y = test_df['California'].iloc[7:161]['covid_19_confirmed_cases'],label = 'real'\n",
    "             ,legend = True)\n",
    "sns.lineplot(x = forecast['California'].index, y = forecast['California']['forecast_sarimax'],label = 'forecast')"
   ]
  },
  {
   "cell_type": "code",
   "execution_count": 44,
   "metadata": {},
   "outputs": [
    {
     "data": {
      "application/javascript": [
       "\n",
       "        if (window._pyforest_update_imports_cell) { window._pyforest_update_imports_cell('import matplotlib.pyplot as plt\\nfrom sklearn.preprocessing import LabelEncoder\\nimport seaborn as sns\\nfrom sklearn import metrics\\nimport pandas as pd\\nimport numpy as np'); }\n",
       "    "
      ],
      "text/plain": [
       "<IPython.core.display.Javascript object>"
      ]
     },
     "metadata": {},
     "output_type": "display_data"
    },
    {
     "data": {
      "application/javascript": [
       "\n",
       "        if (window._pyforest_update_imports_cell) { window._pyforest_update_imports_cell('import matplotlib.pyplot as plt\\nfrom sklearn.preprocessing import LabelEncoder\\nimport seaborn as sns\\nfrom sklearn import metrics\\nimport pandas as pd\\nimport numpy as np'); }\n",
       "    "
      ],
      "text/plain": [
       "<IPython.core.display.Javascript object>"
      ]
     },
     "metadata": {},
     "output_type": "display_data"
    },
    {
     "data": {
      "application/javascript": [
       "\n",
       "        if (window._pyforest_update_imports_cell) { window._pyforest_update_imports_cell('import matplotlib.pyplot as plt\\nfrom sklearn.preprocessing import LabelEncoder\\nimport seaborn as sns\\nfrom sklearn import metrics\\nimport pandas as pd\\nimport numpy as np'); }\n",
       "    "
      ],
      "text/plain": [
       "<IPython.core.display.Javascript object>"
      ]
     },
     "metadata": {},
     "output_type": "display_data"
    },
    {
     "data": {
      "text/plain": [
       "<AxesSubplot:xlabel='date', ylabel='covid_19_confirmed_cases'>"
      ]
     },
     "execution_count": 44,
     "metadata": {},
     "output_type": "execute_result"
    },
    {
     "data": {
      "image/png": "[encoded data removed]",
      "text/plain": [
       "<Figure size 864x432 with 1 Axes>"
      ]
     },
     "metadata": {
      "needs_background": "light"
     },
     "output_type": "display_data"
    }
   ],
   "source": [
    "#forecast plot\n",
    "plt.figure(figsize = (12,6))\n",
    "sns.lineplot(x = test_df['Texas'].iloc[7:42].index,\n",
    "             y = test_df['Texas'].iloc[7:42]['covid_19_confirmed_cases'],label = 'real'\n",
    "             ,legend = True)\n",
    "sns.lineplot(x = forecast['Texas'].index, y = forecast['Texas']['forecast_sarimax'],label = 'forecast')"
   ]
  },
  {
   "cell_type": "code",
   "execution_count": 45,
   "metadata": {},
   "outputs": [
    {
     "data": {
      "application/javascript": [
       "\n",
       "        if (window._pyforest_update_imports_cell) { window._pyforest_update_imports_cell('import matplotlib.pyplot as plt\\nfrom sklearn.preprocessing import LabelEncoder\\nimport seaborn as sns\\nfrom sklearn import metrics\\nimport pandas as pd\\nimport numpy as np'); }\n",
       "    "
      ],
      "text/plain": [
       "<IPython.core.display.Javascript object>"
      ]
     },
     "metadata": {},
     "output_type": "display_data"
    },
    {
     "data": {
      "application/javascript": [
       "\n",
       "        if (window._pyforest_update_imports_cell) { window._pyforest_update_imports_cell('import matplotlib.pyplot as plt\\nfrom sklearn.preprocessing import LabelEncoder\\nimport seaborn as sns\\nfrom sklearn import metrics\\nimport pandas as pd\\nimport numpy as np'); }\n",
       "    "
      ],
      "text/plain": [
       "<IPython.core.display.Javascript object>"
      ]
     },
     "metadata": {},
     "output_type": "display_data"
    },
    {
     "data": {
      "application/javascript": [
       "\n",
       "        if (window._pyforest_update_imports_cell) { window._pyforest_update_imports_cell('import matplotlib.pyplot as plt\\nfrom sklearn.preprocessing import LabelEncoder\\nimport seaborn as sns\\nfrom sklearn import metrics\\nimport pandas as pd\\nimport numpy as np'); }\n",
       "    "
      ],
      "text/plain": [
       "<IPython.core.display.Javascript object>"
      ]
     },
     "metadata": {},
     "output_type": "display_data"
    },
    {
     "data": {
      "text/plain": [
       "<AxesSubplot:xlabel='date', ylabel='covid_19_confirmed_cases'>"
      ]
     },
     "execution_count": 45,
     "metadata": {},
     "output_type": "execute_result"
    },
    {
     "data": {
      "image/png": "[encoded data removed]",
      "text/plain": [
       "<Figure size 864x432 with 1 Axes>"
      ]
     },
     "metadata": {
      "needs_background": "light"
     },
     "output_type": "display_data"
    }
   ],
   "source": [
    "#forecast plot\n",
    "plt.figure(figsize = (12,6))\n",
    "sns.lineplot(x = test_df['New Jersey'].iloc[7:42].index,\n",
    "             y = test_df['New Jersey'].iloc[7:42]['covid_19_confirmed_cases'],label = 'real'\n",
    "             ,legend = True)\n",
    "sns.lineplot(x = forecast['New Jersey'].index, y = forecast['New Jersey']['forecast_sarimax'],label = 'forecast')"
   ]
  },
  {
   "cell_type": "code",
   "execution_count": 35,
   "metadata": {},
   "outputs": [
    {
     "data": {
      "application/javascript": [
       "\n",
       "        if (window._pyforest_update_imports_cell) { window._pyforest_update_imports_cell('import matplotlib.pyplot as plt\\nfrom sklearn.preprocessing import LabelEncoder\\nimport seaborn as sns\\nimport pandas as pd\\nimport numpy as np'); }\n",
       "    "
      ],
      "text/plain": [
       "<IPython.core.display.Javascript object>"
      ]
     },
     "metadata": {},
     "output_type": "display_data"
    },
    {
     "data": {
      "application/javascript": [
       "\n",
       "        if (window._pyforest_update_imports_cell) { window._pyforest_update_imports_cell('import matplotlib.pyplot as plt\\nfrom sklearn.preprocessing import LabelEncoder\\nimport seaborn as sns\\nfrom sklearn import metrics\\nimport pandas as pd\\nimport numpy as np'); }\n",
       "    "
      ],
      "text/plain": [
       "<IPython.core.display.Javascript object>"
      ]
     },
     "metadata": {},
     "output_type": "display_data"
    },
    {
     "data": {
      "text/plain": [
       "38.651142813640654"
      ]
     },
     "execution_count": 35,
     "metadata": {},
     "output_type": "execute_result"
    }
   ],
   "source": [
    "# evaluating\n",
    "np.sqrt(metrics.mean_squared_error(test_df['Texas'].iloc[7:14]['covid_19_confirmed_cases']\n",
    "                                   ,forecast['Texas']['forecast_sarimax']))"
   ]
  },
  {
   "cell_type": "code",
   "execution_count": 36,
   "metadata": {},
   "outputs": [
    {
     "data": {
      "text/plain": [
       "51.11365225618032"
      ]
     },
     "execution_count": 36,
     "metadata": {},
     "output_type": "execute_result"
    }
   ],
   "source": [
    "test_df['Texas'].iloc[:161]['covid_19_confirmed_cases'].mean() # 12 % error"
   ]
  },
  {
   "cell_type": "code",
   "execution_count": 37,
   "metadata": {},
   "outputs": [
    {
     "data": {
      "application/javascript": [
       "\n",
       "        if (window._pyforest_update_imports_cell) { window._pyforest_update_imports_cell('import matplotlib.pyplot as plt\\nfrom sklearn.preprocessing import LabelEncoder\\nimport seaborn as sns\\nfrom sklearn import metrics\\nimport pandas as pd\\nimport numpy as np'); }\n",
       "    "
      ],
      "text/plain": [
       "<IPython.core.display.Javascript object>"
      ]
     },
     "metadata": {},
     "output_type": "display_data"
    },
    {
     "data": {
      "application/javascript": [
       "\n",
       "        if (window._pyforest_update_imports_cell) { window._pyforest_update_imports_cell('import matplotlib.pyplot as plt\\nfrom sklearn.preprocessing import LabelEncoder\\nimport seaborn as sns\\nfrom sklearn import metrics\\nimport pandas as pd\\nimport numpy as np'); }\n",
       "    "
      ],
      "text/plain": [
       "<IPython.core.display.Javascript object>"
      ]
     },
     "metadata": {},
     "output_type": "display_data"
    },
    {
     "data": {
      "text/plain": [
       "227.39290519446894"
      ]
     },
     "execution_count": 37,
     "metadata": {},
     "output_type": "execute_result"
    }
   ],
   "source": [
    "np.sqrt(metrics.mean_squared_error(test_df['California'].iloc[7:14]['covid_19_confirmed_cases']\n",
    "                                   ,forecast['California']['forecast_sarimax'])) "
   ]
  },
  {
   "cell_type": "code",
   "execution_count": 38,
   "metadata": {},
   "outputs": [
    {
     "data": {
      "text/plain": [
       "191.56372210720036"
      ]
     },
     "execution_count": 38,
     "metadata": {},
     "output_type": "execute_result"
    }
   ],
   "source": [
    "test_df['California'].iloc[:161]['covid_19_confirmed_cases'].mean() # 6% error"
   ]
  }
 ],
 "metadata": {
  "kernelspec": {
   "display_name": "Python 3",
   "language": "python",
   "name": "python3"
  },
  "language_info": {
   "codemirror_mode": {
    "name": "ipython",
    "version": 3
   },
   "file_extension": ".py",
   "mimetype": "text/x-python",
   "name": "python",
   "nbconvert_exporter": "python",
   "pygments_lexer": "ipython3",
   "version": "3.7.7"
  }
 },
 "nbformat": 4,
 "nbformat_minor": 4
}
